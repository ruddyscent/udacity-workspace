{
 "cells": [
  {
   "attachments": {},
   "cell_type": "markdown",
   "metadata": {
    "id": "pJAWnBFlkE2w"
   },
   "source": [
    "# LSTM Homehelper Chatbot\n",
    "\n",
    "## References\n",
    "1. Sequence to Sequence Learning with Neural Networks https://arxiv.org/abs/1409.3215\n",
    "1. PyTorch Tutorials: Chatbot Tutorial https://pytorch.org/tutorials/beginner/chatbot_tutorial.html \n",
    "1. PyTorch Tutorials: NLP From Scratch: Translation with a Sequence to Sequence Network and Attention https://pytorch.org/tutorials/intermediate/seq2seq_translation_tutorial.html \n",
    "1. Sequence to Sequence Learning with Neural Networks https://github.com/bentrevett/pytorch-seq2seq/blob/master/1%20-%20Sequence%20to%20Sequence%20Learning%20with%20Neural%20Networks.ipynb\n",
    "1. Seq2Seq-Chatbot https://github.com/iJoud/Seq2Seq-Chatbot\n",
    "\n",
    "## Project Overview\n",
    "\n",
    "In this project, you will build a chatbot that can converse with you at the command line. The chatbot will use a Sequence to Sequence text generation architecture with an LSTM as it's memory unit. You will also learn to use pretrained word embeddings to improve the performance of the model. At the conclusion of the project, you will be able to show your chatbot to potential employers.\n",
    "\n",
    "Additionally, you have the option to use pretrained word embeddings in your model. We have loaded Brown Embeddings from Gensim in the starter code below. You can compare the performance of your model with pre-trained embeddings against a model without the embeddings.\n",
    "\n",
    "\n",
    "\n",
    "---\n",
    "\n",
    "\n",
    "\n",
    "A sequence to sequence model (Seq2Seq) has two components:\n",
    "- An Encoder consisting of an embedding layer and LSTM unit.\n",
    "- A Decoder consisting of an embedding layer, LSTM unit, and linear output unit.\n",
    "\n",
    "The Seq2Seq model works by accepting an input into the Encoder, passing the hidden state from the Encoder to the Decoder, which the Decoder uses to output a series of token predictions.\n",
    "\n",
    "## Dependencies\n",
    "\n",
    "- Pytorch\n",
    "- Numpy\n",
    "- Pandas\n",
    "- NLTK\n",
    "- Gzip\n",
    "- Gensim\n",
    "\n",
    "\n",
    "Please choose a dataset from the Torchtext website. We recommend looking at the Squad dataset first. Here is a link to the website where you can view your options:\n",
    "\n",
    "- https://pytorch.org/text/stable/datasets.html"
   ]
  },
  {
   "attachments": {},
   "cell_type": "markdown",
   "metadata": {},
   "source": [
    "## Preparations"
   ]
  },
  {
   "cell_type": "code",
   "execution_count": 1,
   "metadata": {},
   "outputs": [],
   "source": [
    "import gzip\n",
    "import math\n",
    "import random\n",
    "import string\n",
    "import time\n",
    "\n",
    "from pprint import pprint\n",
    "from tqdm import tqdm\n",
    "\n",
    "import numpy as np\n",
    "import pandas as pd\n",
    "\n",
    "import torchtext\n",
    "import torch\n",
    "import torch.nn.functional as F\n",
    "import torch.optim as optim\n",
    "from torch import nn\n",
    "from torch.utils.data import Dataset, DataLoader\n",
    "\n",
    "from livelossplot import PlotLosses\n",
    "from livelossplot.outputs import MatplotlibPlot\n",
    "\n",
    "import gensim\n",
    "import nltk\n",
    "from nltk.tokenize import RegexpTokenizer\n",
    "\n",
    "nltk.download('punkt')"
   ]
  },
  {
   "attachments": {},
   "cell_type": "markdown",
   "metadata": {},
   "source": [
    "Set the random seeds for deterministic results."
   ]
  },
  {
   "cell_type": "code",
   "execution_count": 2,
   "metadata": {},
   "outputs": [],
   "source": [
    "SEED = 43\n",
    "\n",
    "random.seed(SEED)\n",
    "np.random.seed(SEED)\n",
    "torch.manual_seed(SEED)\n",
    "torch.cuda.manual_seed(SEED)\n",
    "torch.backends.cudnn.deterministic = True"
   ]
  },
  {
   "cell_type": "code",
   "execution_count": 3,
   "metadata": {},
   "outputs": [
    {
     "data": {
      "text/plain": [
       "device(type='cuda', index=1)"
      ]
     },
     "execution_count": 3,
     "metadata": {},
     "output_type": "execute_result"
    }
   ],
   "source": [
    "device = torch.device(\"cuda:1\" if torch.cuda.is_available() else \"cpu\")\n",
    "device"
   ]
  },
  {
   "cell_type": "code",
   "execution_count": 4,
   "metadata": {},
   "outputs": [],
   "source": [
    "w2v = gensim.models.Word2Vec.load('brown.embedding')"
   ]
  },
  {
   "attachments": {},
   "cell_type": "markdown",
   "metadata": {},
   "source": [
    "## Step 1: Build your Vacabulry & create the Word Embeddings"
   ]
  },
  {
   "attachments": {},
   "cell_type": "markdown",
   "metadata": {},
   "source": [
    "### Step 1-1: Import the Dataset"
   ]
  },
  {
   "cell_type": "code",
   "execution_count": 5,
   "metadata": {},
   "outputs": [],
   "source": [
    "def parse(path):\n",
    "    g = gzip.open(path, 'rb')\n",
    "    for l in g:\n",
    "        yield eval(l)\n",
    "\n",
    "def loadDF(path=None):\n",
    "    \"\"\"\n",
    "    You will use this function to load the dataset into a Pandas Dataframe for processing.\n",
    "    \"\"\"\n",
    "    train_iter, dev_iter = torchtext.datasets.SQuAD1(root=path, split=('train', 'dev')) \n",
    "\n",
    "    train_dict = [{'context': context, 'question': question, 'answer': answers[0], 'indices': index} for context, question, answers, index in train_iter]\n",
    "    train_df = pd.DataFrame(train_dict)\n",
    "\n",
    "    dev_dict = [{'context': context, 'question': question, 'answer': answers[0], 'indices': index} for context, question, answers, index in dev_iter]\n",
    "    dev_df = pd.DataFrame(dev_dict)\n",
    "\n",
    "    return train_df, dev_df\n",
    "  \n",
    "train_df, dev_df = loadDF('data')\n",
    "train_df, dev_df = train_df[:train_df.size // 100], dev_df[:dev_df.size // 100]"
   ]
  },
  {
   "cell_type": "code",
   "execution_count": 6,
   "metadata": {},
   "outputs": [
    {
     "name": "stdout",
     "output_type": "stream",
     "text": [
      ">  To whom did the Virgin Mary allegedly appear in 1858 in Lourdes France? \n",
      "<  Saint Bernadette Soubirous \n",
      "\n",
      ">  What is in front of the Notre Dame Main Building? \n",
      "<  a copper statue of Christ \n",
      "\n",
      ">  The Basilica of the Sacred heart at Notre Dame is beside to which structure? \n",
      "<  the Main Building \n",
      "\n",
      ">  What is the Grotto at Notre Dame? \n",
      "<  a Marian place of prayer and reflection \n",
      "\n",
      ">  What sits on top of the Main Building at Notre Dame? \n",
      "<  a golden statue of the Virgin Mary \n",
      "\n"
     ]
    }
   ],
   "source": [
    "for i in range(0, 5): # first 5 Q&A\n",
    "    print(\"> \", train_df.iloc[i].question, \"\\n< \", train_df.iloc[i].answer, \"\\n\") "
   ]
  },
  {
   "attachments": {},
   "cell_type": "markdown",
   "metadata": {},
   "source": [
    "### Step 1-2: Define the Vocabulary Object"
   ]
  },
  {
   "cell_type": "code",
   "execution_count": 7,
   "metadata": {},
   "outputs": [],
   "source": [
    "# Default word tokens\n",
    "PAD_token = \"<pad>\"  # Used for padding short sentences\n",
    "SOS_token = \"<sos>\"  # Start-of-sentence token\n",
    "EOS_token = \"<eos>\"  # End-of-sentence token\n",
    "UNK_token = \"<unk>\"\n",
    "\n",
    "PAD_index = 0\n",
    "SOS_index = 1\n",
    "EOS_index = 2\n",
    "UNK_index = 3\n",
    "\n",
    "stemmer = nltk.stem.snowball.SnowballStemmer('english')\n",
    "\n",
    "class Vocab:\n",
    "    def __init__(self):\n",
    "        self.index2word = {PAD_index: PAD_token, SOS_index: SOS_token, EOS_index: EOS_token, UNK_index: UNK_token}\n",
    "        self.word2index = {token: index for index, token in self.index2word.items()}\n",
    "        self.word2count = {PAD_token: 0, SOS_token: 0, EOS_token: 0, UNK_token: 0}\n",
    "        self.n_words = len(self.index2word)\n",
    "\n",
    "    # Cleans our words before adding them\n",
    "    def cleanText(self, text):\n",
    "        text = ''.join([s for s in text if s not in string.punctuation])\n",
    "        tokenizer = RegexpTokenizer(r'\\w+')\n",
    "        text = tokenizer.tokenize(text.lower())\n",
    "        text = [stemmer.stem(w) for w in text]\n",
    "        return text\n",
    "\n",
    "    # Indexes words in our vocabulary\n",
    "    def addWord(self, word: str, count: int=1) -> bool:\n",
    "        if word not in self.word2index:\n",
    "            self.word2index[word] = self.n_words\n",
    "            self.word2count[word] = count\n",
    "            self.index2word[self.n_words] = word\n",
    "            self.n_words += 1\n",
    "            return True\n",
    "        else:\n",
    "            self.word2count[word] += count\n",
    "            return False\n",
    "\n",
    "    def trim(self, min_count: int = 2):\n",
    "        words2keep = [\n",
    "            (word, count) for word, count in self.word2count.items() \n",
    "            if count >= min_count or word in (PAD_token, SOS_token, EOS_token, UNK_token)\n",
    "        ]\n",
    "\n",
    "        # Reinitialize dictionaries\n",
    "        self.index2word = {}\n",
    "        self.word2index = {}\n",
    "        self.word2count = {}\n",
    "        self.n_words = 0\n",
    "\n",
    "        for word, count in words2keep:\n",
    "            self.index2word[self.n_words] = word\n",
    "            self.word2index[word] = self.n_words\n",
    "            self.word2count[word] = count\n",
    "            self.n_words += 1"
   ]
  },
  {
   "attachments": {},
   "cell_type": "markdown",
   "metadata": {},
   "source": [
    "### Step 1-3: Load the Vocabulary and evaluate"
   ]
  },
  {
   "cell_type": "code",
   "execution_count": 8,
   "metadata": {},
   "outputs": [
    {
     "name": "stdout",
     "output_type": "stream",
     "text": [
      "Adding words in answers to the vocabulary...\n"
     ]
    }
   ],
   "source": [
    "vocab = Vocab()\n",
    "\n",
    "# Iterate through our vocabulary dataframe and add each word to the vocabulary.\n",
    "print(\"Adding words in answers to the vocabulary...\")\n",
    "count = vocab.n_words\n",
    "for i, r in train_df.iterrows():\n",
    "    text = vocab.cleanText(r.answer)\n",
    "    for t in text:\n",
    "        if vocab.addWord(t):\n",
    "            if count % 10_000 == 0:\n",
    "                print(f\"\\tAdding word {count}.\")\n",
    "            count += 1"
   ]
  },
  {
   "attachments": {},
   "cell_type": "markdown",
   "metadata": {},
   "source": [
    "Remove the words that appear less than 3 times in the dataset."
   ]
  },
  {
   "cell_type": "code",
   "execution_count": 9,
   "metadata": {},
   "outputs": [
    {
     "name": "stdout",
     "output_type": "stream",
     "text": [
      "5792\n",
      "2830\n"
     ]
    }
   ],
   "source": [
    "print(vocab.n_words)\n",
    "vocab.trim(min_count=2)\n",
    "print(vocab.n_words)"
   ]
  },
  {
   "attachments": {},
   "cell_type": "markdown",
   "metadata": {},
   "source": [
    "I don't want models that are silent in response to questions, so let's remove samples where the answer field is empty."
   ]
  },
  {
   "cell_type": "code",
   "execution_count": 10,
   "metadata": {},
   "outputs": [
    {
     "name": "stdout",
     "output_type": "stream",
     "text": [
      "Size of original train samples: 7007\n",
      "Size of train samples without empty answers: 6352\n"
     ]
    }
   ],
   "source": [
    "print(\"Size of original train samples:\", len(train_df))\n",
    "train_df = train_df[train_df.question.apply(lambda x: len([t for t in x.split() if t in w2v.wv.key_to_index]) > 0)]\n",
    "train_df = train_df[train_df.answer.apply(lambda x: len([t for t in vocab.cleanText(x) if t in vocab.word2index]) > 0)]\n",
    "print(\"Size of train samples without empty answers:\", len(train_df))"
   ]
  },
  {
   "cell_type": "code",
   "execution_count": 11,
   "metadata": {},
   "outputs": [
    {
     "name": "stdout",
     "output_type": "stream",
     "text": [
      "Size of original dev samples: 845\n",
      "Size of dev samples without empty answers: 538\n"
     ]
    }
   ],
   "source": [
    "print(\"Size of original dev samples:\", len(dev_df))\n",
    "dev_df = dev_df[dev_df.question.apply(lambda x: len([t for t in x.split() if t in w2v.wv.key_to_index]) > 0)]\n",
    "dev_df = dev_df[dev_df.answer.apply(lambda x: len([t for t in vocab.cleanText(x) if t in vocab.word2index]) > 0)]\n",
    "print(\"Size of dev samples without empty answers:\", len(dev_df))"
   ]
  },
  {
   "cell_type": "code",
   "execution_count": 12,
   "metadata": {},
   "outputs": [],
   "source": [
    "SRC_train_dataset, TRG_train_dataset  = train_df.question.values, train_df.answer.values\n",
    "SRC_test_dataset, TRG_test_dataset = dev_df.question.values, dev_df.answer.values"
   ]
  },
  {
   "cell_type": "code",
   "execution_count": 13,
   "metadata": {},
   "outputs": [
    {
     "name": "stdout",
     "output_type": "stream",
     "text": [
      "Number of training samples: 6352\n",
      "Number of testing samples: 538\n"
     ]
    }
   ],
   "source": [
    "print(f\"Number of training samples: {len(SRC_train_dataset)}\")\n",
    "print(f\"Number of testing samples: {len(SRC_test_dataset)}\")"
   ]
  },
  {
   "cell_type": "code",
   "execution_count": 14,
   "metadata": {},
   "outputs": [],
   "source": [
    "class CustomDataset(Dataset):\n",
    "    def __init__(self, x: np.ndarray, y: np.ndarray, word_vectors, vocab: Vocab):\n",
    "        self.x = x\n",
    "        self.y = y\n",
    "        self.wv = word_vectors\n",
    "        self.vocab = vocab\n",
    "\n",
    "    def __len__(self):\n",
    "        return len(self.x)\n",
    "\n",
    "    def __getitem__(self, idx: int):\n",
    "        x = self.x[idx]\n",
    "        y = self.y[idx]\n",
    "        \n",
    "        # Tokenize\n",
    "        tokens = nltk.tokenize.word_tokenize(x)\n",
    "        x = [self.wv.key_to_index[t] for t in tokens if t in self.wv.key_to_index]\n",
    "\n",
    "        y = self.vocab.cleanText(y)\n",
    "        tokens = [self.vocab.word2index[w] for w in y if w in self.vocab.word2index]\n",
    "        y = [SOS_index] + tokens + [EOS_index]\n",
    "\n",
    "        return torch.LongTensor(x), torch.LongTensor(y)\n",
    "\n",
    "\n",
    "train_dataset = CustomDataset(SRC_train_dataset, TRG_train_dataset, w2v.wv, vocab)\n",
    "test_dataset = CustomDataset(SRC_test_dataset, TRG_test_dataset, w2v.wv, vocab)"
   ]
  },
  {
   "attachments": {},
   "cell_type": "markdown",
   "metadata": {},
   "source": [
    "## Step 2: Create the Encoder"
   ]
  },
  {
   "attachments": {},
   "cell_type": "markdown",
   "metadata": {},
   "source": [
    "The encoder RNN iterates through the input sentence one token (e.g. word) at a time, at each time step outputting an *output* vector and a *hidden state* vector. The hidden state vector is then passed to the next time step, while the output vector is recorded. The encoder transforms the context it saw at each point in the sequence into a set of points in a high-dimensional space, which the decoder will use to generate a meaningful output for the given task."
   ]
  },
  {
   "cell_type": "code",
   "execution_count": 15,
   "metadata": {
    "id": "oQLTP2Wmi1eB"
   },
   "outputs": [],
   "source": [
    "class Encoder(nn.Module):\n",
    "    def __init__(self, input_size: int, emb_size: int, hidden_size: int, n_layers: int, dropout: float):\n",
    "        super().__init__()\n",
    "        \n",
    "        self.hidden_size = hidden_size\n",
    "        self.n_layers = n_layers\n",
    "\n",
    "        # self.embedding = nn.Embedding(input_size, emb_size)\n",
    "        # https://clay-atlas.com/us/blog/2021/08/06/pytorch-en-use-nn-embedding-load-gensim-pre-trained-weights/\n",
    "        self.embedding = nn.Embedding.from_pretrained(torch.FloatTensor(w2v.wv.vectors))\n",
    "        self.embedding.requires_grad = False\n",
    "\n",
    "        self.rnn = nn.LSTM(emb_size, hidden_size, n_layers,\n",
    "                           dropout=(0 if n_layers == 1 else dropout))\n",
    "\n",
    "        self.dropout = nn.Dropout(dropout)\n",
    "\n",
    "    def forward(self, src: torch.Tensor, hidden: torch.Tensor, cell: torch.Tensor):\n",
    "        \"\"\"\n",
    "        src: tokenized sentence\n",
    "        \n",
    "        src = [src len, batch size]\n",
    "        input_lengths = [batch size]\n",
    "        \"\"\"\n",
    "        embedded = self.dropout(self.embedding(src))\n",
    "        # embedded = [src len, batch size, emb dim]\n",
    "\n",
    "        # Forward pass through RNN\n",
    "        outputs, (hidden, cell) = self.rnn(embedded, (hidden, cell))\n",
    "        \n",
    "        # outputs = [src len, batch size, hid size * n directions]\n",
    "        # hidden = [n layers * n directions, batch size, hid size]\n",
    "        # cell = [n layers * n directions, batch size, hid dim]\n",
    "        \n",
    "        return outputs, hidden, cell"
   ]
  },
  {
   "attachments": {},
   "cell_type": "markdown",
   "metadata": {},
   "source": [
    "## Step 3: Create the Decoder"
   ]
  },
  {
   "attachments": {},
   "cell_type": "markdown",
   "metadata": {},
   "source": [
    "The decoder RNN generates the response sentence in a token-by-token fashion. It uses the encoder’s context vectors, and internal hidden states to generate the next word in the sequence. It continues generating words until it outputs an `EOS_token`, representing the end of the sentence. A common problem with a vanilla seq2seq decoder is that if we rely solely on the context vector to encode the entire input sequence’s meaning, it is likely that we will have information loss. This is especially the case when dealing with long input sequences, greatly limiting the capability of our decoder."
   ]
  },
  {
   "cell_type": "code",
   "execution_count": 16,
   "metadata": {},
   "outputs": [],
   "source": [
    "class Decoder(nn.Module):\n",
    "    def __init__(self, output_size: int, emb_size: int, hidden_size: int, n_layers: int=1, dropout: float=0.1):\n",
    "        super(Decoder, self).__init__()\n",
    "\n",
    "        # Keep for reference\n",
    "        self.hidden_size = hidden_size\n",
    "        self.output_size = output_size\n",
    "        self.n_layers = n_layers\n",
    "        self.dropout = dropout\n",
    "\n",
    "        # Define layers\n",
    "        self.embedding = nn.Embedding(output_size, emb_size)\n",
    "        self.embedding_dropout = nn.Dropout(dropout)\n",
    "        self.rnn = nn.LSTM(emb_size, hidden_size, n_layers, dropout=(0 if n_layers == 1 else dropout))\n",
    "        self.out = nn.Linear(hidden_size, output_size)\n",
    "\n",
    "    def forward(self, input_step, last_hidden, last_cell):\n",
    "        # Note: we run this one step (word) at a time\n",
    "        # Get embedding of current input word\n",
    "        embedded = self.embedding(input_step)\n",
    "        embedded = self.embedding_dropout(embedded)\n",
    "\n",
    "        # Forward through unidirectional RNN\n",
    "        rnn_output, (hidden, cell) = self.rnn(embedded, (last_hidden, last_cell))\n",
    "\n",
    "        # seq len and n directions will always be 1 in the decoder, therefore:\n",
    "        # output = [1, batch size, hid dim]\n",
    "        # hidden = [n layers, batch size, hid dim]\n",
    "        # cell = [n layers, batch size, hid dim]\n",
    "\n",
    "        rnn_output = rnn_output.squeeze(0)\n",
    "        output = self.out(rnn_output)\n",
    "\n",
    "        # Return output and final hidden state\n",
    "        return output, hidden, cell"
   ]
  },
  {
   "attachments": {},
   "cell_type": "markdown",
   "metadata": {},
   "source": [
    "## Step 4: Combine them into a Seq2Seq Architecture"
   ]
  },
  {
   "attachments": {},
   "cell_type": "markdown",
   "metadata": {},
   "source": [
    "For the final part of the implemenetation, we'll implement the seq2seq model. This will handle:\n",
    "\n",
    "* receiving the input/source sentence\n",
    "* using the encoder to produce the context vectors\n",
    "* using the decoder to produce the predicted output/target sentence"
   ]
  },
  {
   "cell_type": "code",
   "execution_count": 17,
   "metadata": {},
   "outputs": [],
   "source": [
    "class Seq2Seq(nn.Module):\n",
    "    def __init__(self, encoder: Encoder, decoder: Decoder, device):\n",
    "        super().__init__()\n",
    "        \n",
    "        self.encoder = encoder\n",
    "        self.decoder = decoder\n",
    "        self.device = device\n",
    "        \n",
    "        assert encoder.hidden_size == decoder.hidden_size, \\\n",
    "            \"Hidden dimensions of encoder and decoder must be equal!\"\n",
    "        assert encoder.n_layers == decoder.n_layers, \\\n",
    "            \"Encoder and decoder must have equal number of layers!\"\n",
    "        \n",
    "    def forward(self, src, trg, teacher_forcing_ratio = 0.5):\n",
    "        \"\"\"\n",
    "        src = [src len]\n",
    "        trg = [trg len]\n",
    "        teacher_forcing_ratio is probability to use teacher forcing\n",
    "        e.g. if teacher_forcing_ratio is 0.75 we use ground-truth inputs 75% of the time\n",
    "        \"\"\"\n",
    "\n",
    "        batch_size = trg.shape[1]\n",
    "        trg_len = trg.shape[0]\n",
    "        trg_vocab_size = self.decoder.output_size\n",
    "\n",
    "        # Tensor to store decoder outputs\n",
    "        outputs = torch.zeros(trg_len, batch_size, trg_vocab_size).to(self.device)\n",
    "\n",
    "        # Tensor for hidden and cell states\n",
    "        hidden = torch.zeros(1, batch_size, self.encoder.hidden_size).to(self.device)\n",
    "        cell = torch.zeros(1, batch_size, self.encoder.hidden_size).to(self.device)  \n",
    "\n",
    "        # Last hidden state of the encoder is used as the initial hidden state of the decoder\n",
    "        for encoder_input in src.unsqueeze(0):\n",
    "            encoder_input.unsqueeze(0)\n",
    "            _, hidden, cell = self.encoder(encoder_input, hidden, cell)\n",
    "\n",
    "        # First input to the decoder is the SOS_tokens\n",
    "        decoder_input = trg[0].unsqueeze(0)\n",
    "\n",
    "        for t in range(trg_len):\n",
    "            # Insert input token embedding, previous hidden and previous cell states\n",
    "            # receive output tensor (predictions) and new hidden and cell states\n",
    "            decoder_output, hidden, cell = self.decoder(decoder_input, hidden, cell)\n",
    "            # Place predictions in a tensor holding predictions for each token\n",
    "            outputs[t] = decoder_output\n",
    "            \n",
    "            if self.training:\n",
    "                # Decide if we are going to use teacher forcing or not\n",
    "                teacher_force = random.random() < teacher_forcing_ratio\n",
    "                \n",
    "                # Get the highest predicted token from our predictions\n",
    "                top1 = decoder_output.argmax(1)\n",
    "\n",
    "                # If teacher forcing, use actual next token as next input\n",
    "                # if not, use predicted token\n",
    "                decoder_input = trg[t].unsqueeze(0) if teacher_force else top1.unsqueeze(0)\n",
    "            else:\n",
    "                top1 = decoder_output.argmax(1)\n",
    "                decoder_input = decoder_output.argmax(1).unsqueeze(0).detach()\n",
    "                \n",
    "        return outputs"
   ]
  },
  {
   "attachments": {},
   "cell_type": "markdown",
   "metadata": {},
   "source": [
    "## Step 5: Train & evaluate your model"
   ]
  },
  {
   "cell_type": "code",
   "execution_count": 18,
   "metadata": {},
   "outputs": [],
   "source": [
    "INPUT_SIZE = w2v.wv.vectors.shape[0]\n",
    "OUTPUT_SIZE = vocab.n_words\n",
    "ENC_EMB_DIM = w2v.wv.vectors.shape[1]\n",
    "DEC_EMB_DIM = 256\n",
    "HID_DIM = 512\n",
    "N_LAYERS = 1\n",
    "ENC_DROPOUT = 0.2\n",
    "DEC_DROPOUT = 0.2\n",
    "N_EPOCHS = 30\n",
    "CLIP = 1\n",
    "TEACHER_FORCING = 0.2\n",
    "LEARNING_RATE = 1e-3\n",
    "MODEL_NAME = 'squad-lstm-chatbot.pt'\n",
    "\n",
    "enc = Encoder(INPUT_SIZE, ENC_EMB_DIM, HID_DIM, N_LAYERS, ENC_DROPOUT)\n",
    "dec = Decoder(OUTPUT_SIZE, DEC_EMB_DIM, HID_DIM, N_LAYERS, DEC_DROPOUT)\n",
    "model = Seq2Seq(enc, dec, device).to(device)"
   ]
  },
  {
   "attachments": {},
   "cell_type": "markdown",
   "metadata": {},
   "source": [
    "Next up is initializing the weights of our model. In the paper they state they initialize all weights from a uniform distribution between -0.08 and +0.08."
   ]
  },
  {
   "cell_type": "code",
   "execution_count": 19,
   "metadata": {},
   "outputs": [
    {
     "data": {
      "text/plain": [
       "Seq2Seq(\n",
       "  (encoder): Encoder(\n",
       "    (embedding): Embedding(15173, 100)\n",
       "    (rnn): LSTM(100, 512)\n",
       "    (dropout): Dropout(p=0.2, inplace=False)\n",
       "  )\n",
       "  (decoder): Decoder(\n",
       "    (embedding): Embedding(2830, 256)\n",
       "    (embedding_dropout): Dropout(p=0.2, inplace=False)\n",
       "    (rnn): LSTM(256, 512)\n",
       "    (out): Linear(in_features=512, out_features=2830, bias=True)\n",
       "  )\n",
       ")"
      ]
     },
     "execution_count": 19,
     "metadata": {},
     "output_type": "execute_result"
    }
   ],
   "source": [
    "def init_weights(m):\n",
    "    for name, param in m.named_parameters():\n",
    "        if param.requires_grad:\n",
    "            nn.init.uniform_(param.data, -0.08, 0.08)\n",
    "        \n",
    "model.apply(init_weights)"
   ]
  },
  {
   "attachments": {},
   "cell_type": "markdown",
   "metadata": {},
   "source": [
    "We also define a function that will calculate the number of trainable parameters in the model."
   ]
  },
  {
   "cell_type": "code",
   "execution_count": 20,
   "metadata": {},
   "outputs": [
    {
     "name": "stdout",
     "output_type": "stream",
     "text": [
      "The model has 5,010,702 trainable parameters.\n"
     ]
    }
   ],
   "source": [
    "def count_parameters(model):\n",
    "    return sum(p.numel() for p in model.parameters() if p.requires_grad)\n",
    "\n",
    "print(f'The model has {count_parameters(model):,} trainable parameters.')"
   ]
  },
  {
   "attachments": {},
   "cell_type": "markdown",
   "metadata": {},
   "source": [
    "We define our optimizer, which we use to update our parameters in the training loop."
   ]
  },
  {
   "cell_type": "code",
   "execution_count": 21,
   "metadata": {},
   "outputs": [],
   "source": [
    "optimizer = optim.Adam(model.parameters(), lr=LEARNING_RATE)"
   ]
  },
  {
   "attachments": {},
   "cell_type": "markdown",
   "metadata": {},
   "source": [
    "Our loss function calculates the average loss per token, however by passing the index of the `<pad>` token as the `ignore_index` argument we ignore the loss whenever the target token is a padding token."
   ]
  },
  {
   "cell_type": "code",
   "execution_count": 22,
   "metadata": {},
   "outputs": [],
   "source": [
    "criterion = nn.CrossEntropyLoss()"
   ]
  },
  {
   "cell_type": "code",
   "execution_count": 23,
   "metadata": {},
   "outputs": [],
   "source": [
    "def train(model, dataset, optimizer, criterion, clip):\n",
    "    \n",
    "    model.train()\n",
    "    \n",
    "    epoch_loss = 0\n",
    "    \n",
    "    for i in tqdm(range(len(dataset))):\n",
    "        \n",
    "        src = dataset[i][0].unsqueeze(1).to(device)\n",
    "        trg = dataset[i][1].unsqueeze(1).to(device)\n",
    "        \n",
    "        if src.shape[0] == 0 or trg.shape[0] == 0:\n",
    "            continue\n",
    "\n",
    "        optimizer.zero_grad()\n",
    "        \n",
    "        output = model(src, trg, TEACHER_FORCING)\n",
    "        \n",
    "        # trg = [trg len, batch size]\n",
    "        # output = [trg len, batch size, vocab size]\n",
    "              \n",
    "        vocab_size = output.shape[-1]\n",
    "        \n",
    "        output = output.view(-1, vocab_size)\n",
    "        trg = trg.view(-1)\n",
    "        \n",
    "        # output = [trg len * batch size, vocab size]\n",
    "        # trg = [trg len * batch size]\n",
    "        loss = criterion(output, trg)\n",
    "        \n",
    "        loss.backward()\n",
    "        \n",
    "        torch.nn.utils.clip_grad_norm_(model.parameters(), clip)\n",
    "        \n",
    "        optimizer.step()\n",
    "        \n",
    "        epoch_loss += loss.item()\n",
    "\n",
    "    return epoch_loss / len(dataset)"
   ]
  },
  {
   "cell_type": "code",
   "execution_count": 24,
   "metadata": {},
   "outputs": [],
   "source": [
    "def evaluate(model, dataset, criterion):\n",
    "    \n",
    "    model.eval()\n",
    "    \n",
    "    epoch_loss = 0\n",
    "    \n",
    "    with torch.no_grad():\n",
    "    \n",
    "        for i in tqdm(range(len(dataset))):\n",
    "\n",
    "            src = dataset[i][0].unsqueeze(1).to(device)\n",
    "            trg = dataset[i][1].unsqueeze(1).to(device)\n",
    "                        \n",
    "            if src.shape[0] == 0 or trg.shape[0] == 0:\n",
    "                continue\n",
    "            \n",
    "            output = model(src, trg, 0)  # Turn off teacher forcing\n",
    "\n",
    "            # trg = [trg len, batch size]\n",
    "            # output = [trg len, batch size, vocab size]\n",
    "\n",
    "            output_size = output.shape[-1]\n",
    "            \n",
    "            output = output.view(-1, output_size)\n",
    "            trg = trg.view(-1)\n",
    "\n",
    "            # trg = [trg len * batch size]\n",
    "            # output = [trg len * batch size, vocab size]\n",
    "\n",
    "            loss = criterion(output, trg)\n",
    "\n",
    "            epoch_loss += loss.item()\n",
    "        \n",
    "    return epoch_loss / len(dataset)"
   ]
  },
  {
   "cell_type": "code",
   "execution_count": 25,
   "metadata": {},
   "outputs": [],
   "source": [
    "def epoch_time(start_time, end_time):\n",
    "    elapsed_time = end_time - start_time\n",
    "    elapsed_mins = int(elapsed_time / 60)\n",
    "    elapsed_secs = int(elapsed_time - (elapsed_mins * 60))\n",
    "    return elapsed_mins, elapsed_secs"
   ]
  },
  {
   "cell_type": "code",
   "execution_count": 26,
   "metadata": {},
   "outputs": [
    {
     "data": {
      "image/png": "[encoded data removed]",
      "text/plain": [
       "<Figure size 1200x800 with 2 Axes>"
      ]
     },
     "metadata": {},
     "output_type": "display_data"
    },
    {
     "name": "stdout",
     "output_type": "stream",
     "text": [
      "Epoch: 30/30 | Time: 0m 36s\n",
      "\tTrain Loss: 0.670 | Train PPL:   1.954\n"
     ]
    }
   ],
   "source": [
    "best_loss = float('inf')\n",
    "\n",
    "liveloss = PlotLosses(outputs=[MatplotlibPlot()])\n",
    "\n",
    "logs = {}\n",
    "\n",
    "for epoch in range(N_EPOCHS):\n",
    "    \n",
    "    start_time = time.time()\n",
    "    \n",
    "    train_loss = train(model, train_dataset, optimizer, criterion, CLIP)\n",
    "    \n",
    "    end_time = time.time()\n",
    "    \n",
    "    epoch_mins, epoch_secs = epoch_time(start_time, end_time)\n",
    "\n",
    "    # Note that step should be called after evaluate()\n",
    "    # scheduler.step(valid_loss)\n",
    "        \n",
    "    if train_loss < best_loss:\n",
    "        best_loss = train_loss\n",
    "        torch.save(model.state_dict(), MODEL_NAME)\n",
    "\n",
    "    logs[\"loss\"] = train_loss\n",
    "    logs[\"lr\"] = optimizer.param_groups[0][\"lr\"]\n",
    "\n",
    "    liveloss.update(logs)\n",
    "    liveloss.send()\n",
    "        \n",
    "    print(f'Epoch: {epoch+1:02}/{N_EPOCHS} | Time: {epoch_mins}m {epoch_secs}s')\n",
    "    print(f'\\tTrain Loss: {train_loss:.3f} | Train PPL: {math.exp(train_loss):7.3f}')"
   ]
  },
  {
   "cell_type": "code",
   "execution_count": 27,
   "metadata": {},
   "outputs": [
    {
     "name": "stderr",
     "output_type": "stream",
     "text": [
      "100%|██████████| 538/538 [00:00<00:00, 688.79it/s]"
     ]
    },
    {
     "name": "stdout",
     "output_type": "stream",
     "text": [
      "| Test Loss: 7.400 | Test PPL: 1635.205 |\n"
     ]
    },
    {
     "name": "stderr",
     "output_type": "stream",
     "text": [
      "\n"
     ]
    }
   ],
   "source": [
    "model.load_state_dict(torch.load(MODEL_NAME))\n",
    "\n",
    "test_loss = evaluate(model, test_dataset, criterion)\n",
    "\n",
    "print(f'| Test Loss: {test_loss:.3f} | Test PPL: {math.exp(test_loss):7.3f} |')"
   ]
  },
  {
   "attachments": {},
   "cell_type": "markdown",
   "metadata": {},
   "source": [
    "Reload the model file and compare some inference results with the test dataset."
   ]
  },
  {
   "cell_type": "code",
   "execution_count": 28,
   "metadata": {},
   "outputs": [
    {
     "data": {
      "text/plain": [
       "Seq2Seq(\n",
       "  (encoder): Encoder(\n",
       "    (embedding): Embedding(15173, 100)\n",
       "    (rnn): LSTM(100, 512)\n",
       "    (dropout): Dropout(p=0.2, inplace=False)\n",
       "  )\n",
       "  (decoder): Decoder(\n",
       "    (embedding): Embedding(2830, 256)\n",
       "    (embedding_dropout): Dropout(p=0.2, inplace=False)\n",
       "    (rnn): LSTM(256, 512)\n",
       "    (out): Linear(in_features=512, out_features=2830, bias=True)\n",
       "  )\n",
       ")"
      ]
     },
     "execution_count": 28,
     "metadata": {},
     "output_type": "execute_result"
    }
   ],
   "source": [
    "model.load_state_dict(torch.load(MODEL_NAME))\n",
    "\n",
    "model.eval()"
   ]
  },
  {
   "cell_type": "code",
   "execution_count": 29,
   "metadata": {},
   "outputs": [
    {
     "name": "stdout",
     "output_type": "stream",
     "text": [
      "['Which NFL team represented the NFC at Super Bowl 50?'\n",
      " 'Where did Super Bowl 50 take place?'\n",
      " 'What color was used to emphasize the 50th anniversary of the Super Bowl?'\n",
      " 'What day was the game played on?' 'What is the AFC short for?'\n",
      " 'What does AFC stand for?' 'What day was the Super Bowl played on?'\n",
      " 'What venue did Super Bowl 50 take place in?'\n",
      " 'If Roman numerals were used, what would Super Bowl 50 have been called?'\n",
      " 'Super Bowl 50 decided the NFL champion for what season?']\n",
      "[tensor([[4814],\n",
      "        [1352],\n",
      "        [2027],\n",
      "        [   0],\n",
      "        [  26],\n",
      "        [1835],\n",
      "        [  27]], device='cuda:1'), tensor([[1257],\n",
      "        [ 105],\n",
      "        [1835],\n",
      "        [ 172],\n",
      "        [ 188],\n",
      "        [  27]], device='cuda:1'), tensor([[ 197],\n",
      "        [ 749],\n",
      "        [  10],\n",
      "        [ 163],\n",
      "        [   5],\n",
      "        [5101],\n",
      "        [   0],\n",
      "        [5798],\n",
      "        [   3],\n",
      "        [   0],\n",
      "        [  27]], device='cuda:1'), tensor([[ 197],\n",
      "        [ 160],\n",
      "        [  10],\n",
      "        [   0],\n",
      "        [ 857],\n",
      "        [1056],\n",
      "        [  20],\n",
      "        [  27]], device='cuda:1'), tensor([[197],\n",
      "        [  9],\n",
      "        [  0],\n",
      "        [467],\n",
      "        [ 11],\n",
      "        [ 27]], device='cuda:1'), tensor([[197],\n",
      "        [211],\n",
      "        [705],\n",
      "        [ 11],\n",
      "        [ 27]], device='cuda:1'), tensor([[ 197],\n",
      "        [ 160],\n",
      "        [  10],\n",
      "        [   0],\n",
      "        [1056],\n",
      "        [  20],\n",
      "        [  27]], device='cuda:1'), tensor([[ 197],\n",
      "        [ 105],\n",
      "        [1835],\n",
      "        [ 172],\n",
      "        [ 188],\n",
      "        [   7],\n",
      "        [  27]], device='cuda:1'), tensor([[ 138],\n",
      "        [1947],\n",
      "        [  37],\n",
      "        [ 163],\n",
      "        [   1],\n",
      "        [  79],\n",
      "        [  45],\n",
      "        [1835],\n",
      "        [  33],\n",
      "        [  48],\n",
      "        [ 238],\n",
      "        [  27]], device='cuda:1'), tensor([[1835],\n",
      "        [ 721],\n",
      "        [   0],\n",
      "        [5371],\n",
      "        [  11],\n",
      "        [  79],\n",
      "        [1031],\n",
      "        [  27]], device='cuda:1')]\n"
     ]
    }
   ],
   "source": [
    "questions = SRC_test_dataset[:10]\n",
    "print(questions)\n",
    "tokens = [nltk.tokenize.word_tokenize(x) for x in questions]\n",
    "questions = list(map(lambda x: [w2v.wv.key_to_index[t] for t in x if t in w2v.wv.key_to_index], tokens))\n",
    "questions = list(map(lambda x: torch.LongTensor(x).unsqueeze(1).to(device), questions))\n",
    "print(questions)"
   ]
  },
  {
   "cell_type": "code",
   "execution_count": 30,
   "metadata": {},
   "outputs": [
    {
     "name": "stdout",
     "output_type": "stream",
     "text": [
      "['<sos> duncan <eos> knievel <eos> <eos> new new <eos> <eos> <eos> <eos>',\n",
      " '<sos> new <eos> was the sūtra <eos> the the <eos> <eos> the',\n",
      " '<sos> popstar <eos> <eos> and peopl <eos> a small at liber <eos>',\n",
      " '<sos> ficus religiosa <eos> <eos> 20th centuri <eos> <eos> <eos> <eos> <eos>',\n",
      " '<sos> diamond insight <eos> of <eos> birth <eos> the be <eos> <eos>',\n",
      " '<sos> nirvāna <eos> memori <eos> man <eos> the <eos> <eos> <eos> <eos>',\n",
      " '<sos> ficus religiosa <eos> <eos> silenc <eos> <eos> <eos> <eos> <eos> more',\n",
      " '<sos> a <eos> <eos> <eos> man <eos> <eos> <eos> <eos> <eos> <eos>',\n",
      " '<sos> 128 rule <eos> <eos> and <eos> <eos> <eos> <eos> <eos> <eos>',\n",
      " '<sos> object <eos> <eos> <eos> <eos> <eos> <eos> <eos> <eos> <eos> <eos>']\n"
     ]
    }
   ],
   "source": [
    "ANSWER_LENGTH = 12\n",
    "\n",
    "answers = []\n",
    "\n",
    "for i, question in enumerate(questions):\n",
    "    answer = torch.LongTensor(np.zeros((ANSWER_LENGTH, 1))).to(device)\n",
    "    answer = model(question, answer, 0)\n",
    "    answer = torch.argmax(answer, axis=2)\n",
    "    answers.append(answer)\n",
    "answers = [[vocab.index2word[w.item()] for w in answer] for answer in answers]\n",
    "answers = [' '.join(answer) for answer in answers]\n",
    "pprint(answers)"
   ]
  },
  {
   "attachments": {},
   "cell_type": "markdown",
   "metadata": {},
   "source": [
    "## Step 6: Interact with the Chatbot"
   ]
  },
  {
   "cell_type": "code",
   "execution_count": 31,
   "metadata": {},
   "outputs": [],
   "source": [
    "# print(\"Type 'STOP' to exit chat\")\n",
    "# ANSWER_LENGTH = 12\n",
    "\n",
    "# while True:\n",
    "#     inp = input(\">\")\n",
    "    \n",
    "#     # If STOP in input, stop script\n",
    "#     if \"STOP\" == inp.strip():\n",
    "#         break\n",
    "    \n",
    "#     # Quick error handling to account for any words not currently found in the vocabulary\n",
    "#     try:\n",
    "#         question = vocab.cleanText(inp)\n",
    "#         question = [vocab.word2index[w] for w in question if w in vocab.word2index]\n",
    "#         question = [torch.LongTensor([SOS_index] + question + [EOS_index])]\n",
    "#         question_length = [len(q) for q in question]\n",
    "#         question = nn.utils.rnn.pad_sequence(question).to(device)\n",
    "#     except:\n",
    "#         print(\"I could not understand this question. Please try again...\")\n",
    "#         continue\n",
    "        \n",
    "#     # Empty answer list for each word generated\n",
    "#     answer = torch.LongTensor(np.ones((ANSWER_LENGTH, len(question[0])))) * SOS_index\n",
    "\n",
    "#     # Get output - no target specified since not training\n",
    "#     answer = model(question, question_length, answer.to(device), 0)\n",
    "#     answer = torch.argmax(answer, axis=2)\n",
    "    \n",
    "#     answer = np.transpose([[vocab.index2word[int(w)] for w in a] for a in answer])\n",
    "#     eos_index = answer[0].tolist().index('<eos>')\n",
    "#     answer = answer[0][1:eos_index]\n",
    "\n",
    "#     # Finally, write out answer for user\n",
    "#     print(\"<\", \" \".join(answer), \"\\n\")"
   ]
  },
  {
   "cell_type": "code",
   "execution_count": null,
   "metadata": {},
   "outputs": [],
   "source": []
  }
 ],
 "metadata": {
  "colab": {
   "collapsed_sections": [],
   "name": "(Starter Code) LSTM Bot",
   "provenance": []
  },
  "kernelspec": {
   "display_name": "Python 3 (ipykernel)",
   "language": "python",
   "name": "python3"
  },
  "vscode": {
   "interpreter": {
    "hash": "31f2aee4e71d21fbe5cf8b01ff0e069b9275f58929596ceb00d14d90e3e16cd6"
   }
  }
 },
 "nbformat": 4,
 "nbformat_minor": 4
}
