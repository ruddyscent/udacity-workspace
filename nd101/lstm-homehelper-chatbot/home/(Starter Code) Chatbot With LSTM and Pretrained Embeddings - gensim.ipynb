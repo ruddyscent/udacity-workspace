{
 "cells": [
  {
   "attachments": {},
   "cell_type": "markdown",
   "metadata": {
    "id": "pJAWnBFlkE2w"
   },
   "source": [
    "# LSTM Homehelper Chatbot\n",
    "\n",
    "## References\n",
    "1. Sequence to Sequence Learning with Neural Networks https://arxiv.org/abs/1409.3215\n",
    "1. PyTorch Tutorials: Chatbot Tutorial https://pytorch.org/tutorials/beginner/chatbot_tutorial.html \n",
    "1. PyTorch Tutorials: NLP From Scratch: Translation with a Sequence to Sequence Network and Attention https://pytorch.org/tutorials/intermediate/seq2seq_translation_tutorial.html \n",
    "1. Sequence to Sequence Learning with Neural Networks https://github.com/bentrevett/pytorch-seq2seq/blob/master/1%20-%20Sequence%20to%20Sequence%20Learning%20with%20Neural%20Networks.ipynb\n",
    "1. Seq2Seq-Chatbot https://github.com/iJoud/Seq2Seq-Chatbot\n",
    "\n",
    "## Project Overview\n",
    "\n",
    "In this project, you will build a chatbot that can converse with you at the command line. The chatbot will use a Sequence to Sequence text generation architecture with an LSTM as it's memory unit. You will also learn to use pretrained word embeddings to improve the performance of the model. At the conclusion of the project, you will be able to show your chatbot to potential employers.\n",
    "\n",
    "Additionally, you have the option to use pretrained word embeddings in your model. We have loaded Brown Embeddings from Gensim in the starter code below. You can compare the performance of your model with pre-trained embeddings against a model without the embeddings.\n",
    "\n",
    "\n",
    "\n",
    "---\n",
    "\n",
    "\n",
    "\n",
    "A sequence to sequence model (Seq2Seq) has two components:\n",
    "- An Encoder consisting of an embedding layer and LSTM unit.\n",
    "- A Decoder consisting of an embedding layer, LSTM unit, and linear output unit.\n",
    "\n",
    "The Seq2Seq model works by accepting an input into the Encoder, passing the hidden state from the Encoder to the Decoder, which the Decoder uses to output a series of token predictions.\n",
    "\n",
    "## Dependencies\n",
    "\n",
    "- Pytorch\n",
    "- Numpy\n",
    "- Pandas\n",
    "- NLTK\n",
    "- Gzip\n",
    "- Gensim\n",
    "\n",
    "\n",
    "Please choose a dataset from the Torchtext website. We recommend looking at the Squad dataset first. Here is a link to the website where you can view your options:\n",
    "\n",
    "- https://pytorch.org/text/stable/datasets.html"
   ]
  },
  {
   "cell_type": "markdown",
   "metadata": {},
   "source": [
    "## Preparations"
   ]
  },
  {
   "cell_type": "code",
   "execution_count": 1,
   "metadata": {},
   "outputs": [],
   "source": [
    "import gzip\n",
    "import math\n",
    "import random\n",
    "import string\n",
    "import time\n",
    "\n",
    "from pprint import pprint\n",
    "from tqdm import tqdm\n",
    "\n",
    "import numpy as np\n",
    "import pandas as pd\n",
    "\n",
    "import torchtext\n",
    "import torch\n",
    "import torch.nn.functional as F\n",
    "import torch.optim as optim\n",
    "from torch import nn\n",
    "from torch.utils.data import Dataset, DataLoader\n",
    "\n",
    "from livelossplot import PlotLosses\n",
    "from livelossplot.outputs import MatplotlibPlot\n",
    "\n",
    "import gensim\n",
    "import nltk\n",
    "from nltk.tokenize import RegexpTokenizer"
   ]
  },
  {
   "cell_type": "markdown",
   "metadata": {},
   "source": [
    "Set the random seeds for deterministic results."
   ]
  },
  {
   "cell_type": "code",
   "execution_count": 2,
   "metadata": {},
   "outputs": [],
   "source": [
    "SEED = 43\n",
    "\n",
    "random.seed(SEED)\n",
    "np.random.seed(SEED)\n",
    "torch.manual_seed(SEED)\n",
    "torch.cuda.manual_seed(SEED)\n",
    "torch.backends.cudnn.deterministic = True"
   ]
  },
  {
   "cell_type": "code",
   "execution_count": 3,
   "metadata": {},
   "outputs": [
    {
     "data": {
      "text/plain": [
       "device(type='cuda')"
      ]
     },
     "execution_count": 3,
     "metadata": {},
     "output_type": "execute_result"
    }
   ],
   "source": [
    "device = torch.device(\"cuda\" if torch.cuda.is_available() else \"cpu\")\n",
    "device"
   ]
  },
  {
   "cell_type": "code",
   "execution_count": 4,
   "metadata": {},
   "outputs": [
    {
     "name": "stderr",
     "output_type": "stream",
     "text": [
      "[nltk_data] Downloading package brown to /root/nltk_data...\n",
      "[nltk_data]   Package brown is already up-to-date!\n",
      "[nltk_data] Downloading package punkt to /root/nltk_data...\n",
      "[nltk_data]   Package punkt is already up-to-date!\n"
     ]
    }
   ],
   "source": [
    "nltk.download('brown')\n",
    "nltk.download('punkt')\n",
    "\n",
    "# Output, save, and load brown embeddings\n",
    "\n",
    "# model = gensim.models.Word2Vec(brown.sents())\n",
    "# model.save('brown.embedding')\n",
    "\n",
    "w2v = gensim.models.Word2Vec.load('brown.embedding')"
   ]
  },
  {
   "cell_type": "markdown",
   "metadata": {},
   "source": [
    "## Step 1: Build your Vacabulry & create the Word Embeddings"
   ]
  },
  {
   "cell_type": "markdown",
   "metadata": {},
   "source": [
    "### Step 1-1: Import the Dataset"
   ]
  },
  {
   "cell_type": "code",
   "execution_count": 5,
   "metadata": {},
   "outputs": [],
   "source": [
    "def parse(path):\n",
    "    g = gzip.open(path, 'rb')\n",
    "    for l in g:\n",
    "        yield eval(l)\n",
    "\n",
    "def loadDF(path=None):\n",
    "    \"\"\"\n",
    "    You will use this function to load the dataset into a Pandas Dataframe for processing.\n",
    "    \"\"\"\n",
    "    train_iter, dev_iter = torchtext.datasets.SQuAD1(root=path, split=('train', 'dev')) \n",
    "\n",
    "    train_dict = [{'context': context, 'question': question, 'answer': answers[0], 'indices': index} for context, question, answers, index in train_iter]\n",
    "    train_df = pd.DataFrame(train_dict)\n",
    "\n",
    "    dev_dict = [{'context': context, 'question': question, 'answer': answers[0], 'indices': index} for context, question, answers, index in dev_iter]\n",
    "    dev_df = pd.DataFrame(dev_dict)\n",
    "\n",
    "    return train_df, dev_df\n",
    "  \n",
    "train_df, dev_df = loadDF('data')"
   ]
  },
  {
   "cell_type": "code",
   "execution_count": 6,
   "metadata": {},
   "outputs": [
    {
     "name": "stdout",
     "output_type": "stream",
     "text": [
      ">  To whom did the Virgin Mary allegedly appear in 1858 in Lourdes France? \n",
      "<  Saint Bernadette Soubirous \n",
      "\n",
      ">  What is in front of the Notre Dame Main Building? \n",
      "<  a copper statue of Christ \n",
      "\n",
      ">  The Basilica of the Sacred heart at Notre Dame is beside to which structure? \n",
      "<  the Main Building \n",
      "\n",
      ">  What is the Grotto at Notre Dame? \n",
      "<  a Marian place of prayer and reflection \n",
      "\n",
      ">  What sits on top of the Main Building at Notre Dame? \n",
      "<  a golden statue of the Virgin Mary \n",
      "\n"
     ]
    }
   ],
   "source": [
    "for i in range(0, 5): # first 5 Q&A\n",
    "    print(\"> \", train_df.iloc[i].question, \"\\n< \", train_df.iloc[i].answer, \"\\n\") "
   ]
  },
  {
   "cell_type": "markdown",
   "metadata": {},
   "source": [
    "### Step 1-2: Define the Vocabulary Object"
   ]
  },
  {
   "cell_type": "code",
   "execution_count": 7,
   "metadata": {},
   "outputs": [],
   "source": [
    "class Vocab:\n",
    "    def __init__(self, w2v: gensim.models.keyedvectors.KeyedVectors):\n",
    "        self.w2v = w2v\n",
    "    \n",
    "    def index2word(self, index: int):\n",
    "        return self.w2v.wv.index_to_key[index]\n",
    "\n",
    "    def word2index(self, word: str):\n",
    "        return self.w2v.wv.key_to_index[word]\n",
    "\n",
    "    # Cleans our words before adding them\n",
    "    def cleanText(self, text):\n",
    "        tokens = nltk.tokenize.word_tokenize(text)\n",
    "        tokens = [self.word2index(t) for t in tokens if t in self.w2v.wv.key_to_index]\n",
    "        return tokens\n",
    "    \n",
    "vocab = Vocab(w2v)"
   ]
  },
  {
   "cell_type": "markdown",
   "metadata": {},
   "source": [
    "### Step 1-3: Load the Vocabulary and evaluate"
   ]
  },
  {
   "cell_type": "code",
   "execution_count": 8,
   "metadata": {},
   "outputs": [],
   "source": [
    "SRC_train_dataset, TRG_train_dataset  = train_df.question.values, train_df.answer.values\n",
    "SRC_test_dataset, TRG_test_dataset = dev_df.question.values, dev_df.answer.values"
   ]
  },
  {
   "cell_type": "code",
   "execution_count": 9,
   "metadata": {},
   "outputs": [
    {
     "name": "stdout",
     "output_type": "stream",
     "text": [
      "Number of training samples: 87599\n",
      "Number of testing samples: 10570\n"
     ]
    }
   ],
   "source": [
    "print(f\"Number of training samples: {len(SRC_train_dataset)}\")\n",
    "print(f\"Number of testing samples: {len(SRC_test_dataset)}\")"
   ]
  },
  {
   "cell_type": "code",
   "execution_count": 10,
   "metadata": {},
   "outputs": [],
   "source": [
    "# BATCH_SIZE = 64\n",
    "\n",
    "class CustomDataset(Dataset):\n",
    "    def __init__(self, x: np.ndarray, y: np.ndarray, vocab: Vocab):\n",
    "        self.x = x\n",
    "        self.y = y\n",
    "        self.vocab = vocab\n",
    "        self.vocab = vocab\n",
    "\n",
    "    def __len__(self):\n",
    "        return len(self.x)\n",
    "\n",
    "    def __getitem__(self, idx: int):\n",
    "        x = self.x[idx]\n",
    "        y = self.y[idx]\n",
    "        \n",
    "        # Tokenize\n",
    "        x = self.vocab.cleanText(x)\n",
    "        y = self.vocab.cleanText(y)\n",
    "\n",
    "        return torch.LongTensor(x), torch.LongTensor(y)\n",
    "\n",
    "\n",
    "train_dataset = CustomDataset(SRC_train_dataset, TRG_train_dataset, vocab)\n",
    "# train_dataloader = DataLoader(train_dataset, batch_size=BATCH_SIZE, shuffle=True)\n",
    "\n",
    "test_dataset = CustomDataset(SRC_test_dataset, TRG_test_dataset, vocab)\n",
    "# test_dataloader = DataLoader(test_dataset, batch_size=BATCH_SIZE, shuffle=False)"
   ]
  },
  {
   "cell_type": "markdown",
   "metadata": {},
   "source": [
    "## Step 2: Create the Encoder"
   ]
  },
  {
   "cell_type": "markdown",
   "metadata": {},
   "source": [
    "The encoder RNN iterates through the input sentence one token (e.g. word) at a time, at each time step outputting an *output* vector and a *hidden state* vector. The hidden state vector is then passed to the next time step, while the output vector is recorded. The encoder transforms the context it saw at each point in the sequence into a set of points in a high-dimensional space, which the decoder will use to generate a meaningful output for the given task."
   ]
  },
  {
   "cell_type": "code",
   "execution_count": 11,
   "metadata": {
    "id": "oQLTP2Wmi1eB"
   },
   "outputs": [],
   "source": [
    "class Encoder(nn.Module):\n",
    "    def __init__(self, input_size: int, emb_size: int, hidden_size: int, n_layers: int, dropout: float):\n",
    "        super().__init__()\n",
    "        \n",
    "        self.hidden_size = hidden_size\n",
    "        self.n_layers = n_layers\n",
    "\n",
    "        # self.embedding = nn.Embedding(input_size, emb_size)\n",
    "        # https://clay-atlas.com/us/blog/2021/08/06/pytorch-en-use-nn-embedding-load-gensim-pre-trained-weights/\n",
    "        self.embedding = nn.Embedding.from_pretrained(torch.FloatTensor(w2v.wv.vectors))\n",
    "        self.embedding.requires_grad = False\n",
    "\n",
    "        self.rnn = nn.LSTM(emb_size, hidden_size, n_layers,\n",
    "                           dropout=(0 if n_layers == 1 else dropout))\n",
    "\n",
    "        self.dropout = nn.Dropout(dropout)\n",
    "\n",
    "    def forward(self, src: torch.Tensor, hidden: torch.Tensor, cell: torch.Tensor):\n",
    "        \"\"\"\n",
    "        src: tokenized sentence\n",
    "        \n",
    "        src = [src len, batch size]\n",
    "        input_lengths = [batch size]\n",
    "        \"\"\"\n",
    "        embedded = self.dropout(self.embedding(src))\n",
    "        # embedded = [src len, batch size, emb dim]\n",
    "\n",
    "        # Forward pass through RNN\n",
    "        outputs, (hidden, cell) = self.rnn(embedded, (hidden, cell))\n",
    "        \n",
    "        # outputs = [src len, batch size, hid size * n directions]\n",
    "        # hidden = [n layers * n directions, batch size, hid size]\n",
    "        # cell = [n layers * n directions, batch size, hid dim]\n",
    "        \n",
    "        return outputs, hidden, cell"
   ]
  },
  {
   "cell_type": "markdown",
   "metadata": {},
   "source": [
    "## Step 3: Create the Decoder"
   ]
  },
  {
   "cell_type": "markdown",
   "metadata": {},
   "source": [
    "The decoder RNN generates the response sentence in a token-by-token fashion. It uses the encoder’s context vectors, and internal hidden states to generate the next word in the sequence. It continues generating words until it outputs an `EOS_token`, representing the end of the sentence. A common problem with a vanilla seq2seq decoder is that if we rely solely on the context vector to encode the entire input sequence’s meaning, it is likely that we will have information loss. This is especially the case when dealing with long input sequences, greatly limiting the capability of our decoder."
   ]
  },
  {
   "cell_type": "code",
   "execution_count": 12,
   "metadata": {},
   "outputs": [],
   "source": [
    "class Decoder(nn.Module):\n",
    "    def __init__(self, output_size: int, emb_size: int, hidden_size: int, n_layers: int=1, dropout: float=0.1):\n",
    "        super(Decoder, self).__init__()\n",
    "\n",
    "        # Keep for reference\n",
    "        self.hidden_size = hidden_size\n",
    "        self.output_size = output_size\n",
    "        self.n_layers = n_layers\n",
    "        self.dropout = dropout\n",
    "\n",
    "        # Define layers\n",
    "        self.embedding = nn.Embedding(output_size, emb_size)\n",
    "        self.embedding_dropout = nn.Dropout(dropout)\n",
    "        self.rnn = nn.LSTM(emb_size, hidden_size, n_layers, dropout=(0 if n_layers == 1 else dropout))\n",
    "        self.out = nn.Linear(hidden_size, output_size)\n",
    "\n",
    "    def forward(self, input_step, last_hidden, last_cell):\n",
    "        # Note: we run this one step (word) at a time\n",
    "        # Get embedding of current input word\n",
    "        embedded = self.embedding(input_step)\n",
    "        embedded = self.embedding_dropout(embedded)\n",
    "\n",
    "        # Forward through unidirectional RNN\n",
    "        rnn_output, (hidden, cell) = self.rnn(embedded, (last_hidden, last_cell))\n",
    "\n",
    "        # seq len and n directions will always be 1 in the decoder, therefore:\n",
    "        # output = [1, batch size, hid dim]\n",
    "        # hidden = [n layers, batch size, hid dim]\n",
    "        # cell = [n layers, batch size, hid dim]\n",
    "\n",
    "        rnn_output = rnn_output.squeeze(0)\n",
    "        output = self.out(rnn_output)\n",
    "\n",
    "        # Return output and final hidden state\n",
    "        return output, hidden, cell"
   ]
  },
  {
   "cell_type": "markdown",
   "metadata": {},
   "source": [
    "## Step 4: Combine them into a Seq2Seq Architecture"
   ]
  },
  {
   "cell_type": "markdown",
   "metadata": {},
   "source": [
    "For the final part of the implemenetation, we'll implement the seq2seq model. This will handle:\n",
    "\n",
    "* receiving the input/source sentence\n",
    "* using the encoder to produce the context vectors\n",
    "* using the decoder to produce the predicted output/target sentence"
   ]
  },
  {
   "cell_type": "code",
   "execution_count": 13,
   "metadata": {},
   "outputs": [],
   "source": [
    "class Seq2Seq(nn.Module):\n",
    "    def __init__(self, encoder: Encoder, decoder: Decoder, device):\n",
    "        super().__init__()\n",
    "        \n",
    "        self.encoder = encoder\n",
    "        self.decoder = decoder\n",
    "        self.device = device\n",
    "        \n",
    "        assert encoder.hidden_size == decoder.hidden_size, \\\n",
    "            \"Hidden dimensions of encoder and decoder must be equal!\"\n",
    "        assert encoder.n_layers == decoder.n_layers, \\\n",
    "            \"Encoder and decoder must have equal number of layers!\"\n",
    "        \n",
    "    def forward(self, src, trg, teacher_forcing_ratio = 0.5):\n",
    "        \"\"\"\n",
    "        src = [src len]\n",
    "        trg = [trg len]\n",
    "        teacher_forcing_ratio is probability to use teacher forcing\n",
    "        e.g. if teacher_forcing_ratio is 0.75 we use ground-truth inputs 75% of the time\n",
    "        \"\"\"\n",
    "\n",
    "        batch_size = trg.shape[1]\n",
    "        trg_len = trg.shape[0]\n",
    "        trg_vocab_size = self.decoder.output_size\n",
    "\n",
    "        # Tensor to store decoder outputs\n",
    "        outputs = torch.zeros(trg_len, batch_size, trg_vocab_size).to(self.device)\n",
    "\n",
    "        # Tensor for hidden and cell states\n",
    "        hidden = torch.zeros(1, batch_size, self.encoder.hidden_size).to(self.device)\n",
    "        cell = torch.zeros(1, batch_size, self.encoder.hidden_size).to(self.device)  \n",
    "\n",
    "        # Last hidden state of the encoder is used as the initial hidden state of the decoder\n",
    "        for encoder_input in src.unsqueeze(0):\n",
    "            encoder_input.unsqueeze(0)\n",
    "            _, hidden, cell = self.encoder(encoder_input, hidden, cell)\n",
    "\n",
    "        # First input to the decoder is the SOS_tokens\n",
    "        decoder_input = trg[0].unsqueeze(0)\n",
    "\n",
    "        for t in range(trg_len):\n",
    "            # Insert input token embedding, previous hidden and previous cell states\n",
    "            # receive output tensor (predictions) and new hidden and cell states\n",
    "            decoder_output, hidden, cell = self.decoder(decoder_input, hidden, cell)\n",
    "            # Place predictions in a tensor holding predictions for each token\n",
    "            outputs[t] = decoder_output\n",
    "            \n",
    "            if self.training:\n",
    "                # Decide if we are going to use teacher forcing or not\n",
    "                teacher_force = random.random() < teacher_forcing_ratio\n",
    "                \n",
    "                # Get the highest predicted token from our predictions\n",
    "                top1 = decoder_output.argmax(1)\n",
    "\n",
    "                # If teacher forcing, use actual next token as next input\n",
    "                # if not, use predicted token\n",
    "                decoder_input = trg[t].unsqueeze(0) if teacher_force else top1.unsqueeze(0)\n",
    "            else:\n",
    "                top1 = decoder_output.argmax(1)\n",
    "                decoder_input = decoder_output.argmax(1).unsqueeze(0).detach()\n",
    "                \n",
    "        return outputs"
   ]
  },
  {
   "cell_type": "markdown",
   "metadata": {},
   "source": [
    "## Step 5: Train & evaluate your model"
   ]
  },
  {
   "cell_type": "code",
   "execution_count": 14,
   "metadata": {},
   "outputs": [],
   "source": [
    "INPUT_SIZE = w2v.wv.vectors.shape[0]\n",
    "OUTPUT_SIZE = w2v.wv.vectors.shape[0]\n",
    "ENC_EMB_DIM = w2v.wv.vectors.shape[1]\n",
    "DEC_EMB_DIM = w2v.wv.vectors.shape[1]\n",
    "HID_DIM = 512\n",
    "N_LAYERS = 1\n",
    "ENC_DROPOUT = 0.2\n",
    "DEC_DROPOUT = 0.2\n",
    "N_EPOCHS = 30\n",
    "CLIP = 1\n",
    "TEACHER_FORCING = 0.2\n",
    "LEARNING_RATE = 1e-3\n",
    "MODEL_NAME = 'squad-lstm-chatbot.pt'\n",
    "\n",
    "enc = Encoder(INPUT_SIZE, ENC_EMB_DIM, HID_DIM, N_LAYERS, ENC_DROPOUT)\n",
    "dec = Decoder(OUTPUT_SIZE, DEC_EMB_DIM, HID_DIM, N_LAYERS, DEC_DROPOUT)\n",
    "model = Seq2Seq(enc, dec, device).to(device)"
   ]
  },
  {
   "cell_type": "markdown",
   "metadata": {},
   "source": [
    "Next up is initializing the weights of our model. In the paper they state they initialize all weights from a uniform distribution between -0.08 and +0.08."
   ]
  },
  {
   "cell_type": "code",
   "execution_count": 15,
   "metadata": {},
   "outputs": [
    {
     "data": {
      "text/plain": [
       "Seq2Seq(\n",
       "  (encoder): Encoder(\n",
       "    (embedding): Embedding(15173, 100)\n",
       "    (rnn): LSTM(100, 512)\n",
       "    (dropout): Dropout(p=0.2, inplace=False)\n",
       "  )\n",
       "  (decoder): Decoder(\n",
       "    (embedding): Embedding(15173, 100)\n",
       "    (embedding_dropout): Dropout(p=0.2, inplace=False)\n",
       "    (rnn): LSTM(100, 512)\n",
       "    (out): Linear(in_features=512, out_features=15173, bias=True)\n",
       "  )\n",
       ")"
      ]
     },
     "execution_count": 15,
     "metadata": {},
     "output_type": "execute_result"
    }
   ],
   "source": [
    "def init_weights(m):\n",
    "    for name, param in m.named_parameters():\n",
    "        if param.requires_grad:\n",
    "            nn.init.uniform_(param.data, -0.08, 0.08)\n",
    "        \n",
    "model.apply(init_weights)"
   ]
  },
  {
   "cell_type": "markdown",
   "metadata": {},
   "source": [
    "We also define a function that will calculate the number of trainable parameters in the model."
   ]
  },
  {
   "cell_type": "code",
   "execution_count": 16,
   "metadata": {},
   "outputs": [
    {
     "name": "stdout",
     "output_type": "stream",
     "text": [
      "The model has 11,815,993 trainable parameters.\n"
     ]
    }
   ],
   "source": [
    "def count_parameters(model):\n",
    "    return sum(p.numel() for p in model.parameters() if p.requires_grad)\n",
    "\n",
    "print(f'The model has {count_parameters(model):,} trainable parameters.')"
   ]
  },
  {
   "cell_type": "markdown",
   "metadata": {},
   "source": [
    "We define our optimizer, which we use to update our parameters in the training loop."
   ]
  },
  {
   "cell_type": "code",
   "execution_count": 17,
   "metadata": {},
   "outputs": [],
   "source": [
    "optimizer = optim.Adam(model.parameters(), lr=LEARNING_RATE)"
   ]
  },
  {
   "cell_type": "markdown",
   "metadata": {},
   "source": [
    "Our loss function calculates the average loss per token, however by passing the index of the `<pad>` token as the `ignore_index` argument we ignore the loss whenever the target token is a padding token."
   ]
  },
  {
   "cell_type": "code",
   "execution_count": 18,
   "metadata": {},
   "outputs": [],
   "source": [
    "criterion = nn.CrossEntropyLoss()"
   ]
  },
  {
   "cell_type": "code",
   "execution_count": 19,
   "metadata": {},
   "outputs": [],
   "source": [
    "def train(model, dataset, optimizer, criterion, clip):\n",
    "    \n",
    "    model.train()\n",
    "    \n",
    "    epoch_loss = 0\n",
    "    \n",
    "    for i in tqdm(range(len(dataset))):\n",
    "        \n",
    "        src = dataset[i][0].unsqueeze(1).to(device)\n",
    "        trg = dataset[i][1].unsqueeze(1).to(device)\n",
    "        \n",
    "        if src.shape[0] == 0 or trg.shape[0] == 0:\n",
    "            continue\n",
    "\n",
    "        optimizer.zero_grad()\n",
    "        \n",
    "        output = model(src, trg, TEACHER_FORCING)\n",
    "        \n",
    "        # trg = [trg len, batch size]\n",
    "        # output = [trg len, batch size, vocab size]\n",
    "              \n",
    "        vocab_size = output.shape[-1]\n",
    "        \n",
    "        output = output.view(-1, vocab_size)\n",
    "        trg = trg.view(-1)\n",
    "        \n",
    "        # output = [trg len * batch size, vocab size]\n",
    "        # trg = [trg len * batch size]\n",
    "        loss = criterion(output, trg)\n",
    "        \n",
    "        loss.backward()\n",
    "        \n",
    "        torch.nn.utils.clip_grad_norm_(model.parameters(), clip)\n",
    "        \n",
    "        optimizer.step()\n",
    "        \n",
    "        epoch_loss += loss.item()\n",
    "\n",
    "    return epoch_loss / len(dataset)"
   ]
  },
  {
   "cell_type": "code",
   "execution_count": 20,
   "metadata": {},
   "outputs": [],
   "source": [
    "def evaluate(model, dataset, criterion):\n",
    "    \n",
    "    model.eval()\n",
    "    \n",
    "    epoch_loss = 0\n",
    "    \n",
    "    with torch.no_grad():\n",
    "    \n",
    "        for i in tqdm(range(len(dataset))):\n",
    "\n",
    "            src = dataset[i][0].unsqueeze(1).to(device)\n",
    "            trg = dataset[i][1].unsqueeze(1).to(device)\n",
    "\n",
    "            if src.shape[0] == 0 or trg.shape[0] == 0:\n",
    "                continue\n",
    "            \n",
    "            output = model(src, trg, 0)  # Turn off teacher forcing\n",
    "\n",
    "            # trg = [trg len, batch size]\n",
    "            # output = [trg len, batch size, vocab size]\n",
    "\n",
    "            output_size = output.shape[-1]\n",
    "            \n",
    "            output = output.view(-1, output_size)\n",
    "            trg = trg.view(-1)\n",
    "\n",
    "            # trg = [trg len * batch size]\n",
    "            # output = [trg len * batch size, vocab size]\n",
    "\n",
    "            loss = criterion(output, trg)\n",
    "\n",
    "            epoch_loss += loss.item()\n",
    "        \n",
    "    return epoch_loss / len(dataset)"
   ]
  },
  {
   "cell_type": "code",
   "execution_count": 21,
   "metadata": {},
   "outputs": [],
   "source": [
    "def epoch_time(start_time, end_time):\n",
    "    elapsed_time = end_time - start_time\n",
    "    elapsed_mins = int(elapsed_time / 60)\n",
    "    elapsed_secs = int(elapsed_time - (elapsed_mins * 60))\n",
    "    return elapsed_mins, elapsed_secs"
   ]
  },
  {
   "cell_type": "code",
   "execution_count": 624,
   "metadata": {},
   "outputs": [
    {
     "data": {
      "image/png": "[encoded data removed]",
      "text/plain": [
       "<Figure size 1200x800 with 2 Axes>"
      ]
     },
     "metadata": {},
     "output_type": "display_data"
    },
    {
     "name": "stdout",
     "output_type": "stream",
     "text": [
      "Epoch: 30/30 | Time: 9m 28s\n",
      "\tTrain Loss: 5.329 | Train PPL: 206.162\n"
     ]
    }
   ],
   "source": [
    "best_loss = float('inf')\n",
    "\n",
    "liveloss = PlotLosses(outputs=[MatplotlibPlot()])\n",
    "\n",
    "logs = {}\n",
    "\n",
    "for epoch in range(N_EPOCHS):\n",
    "    \n",
    "    start_time = time.time()\n",
    "    \n",
    "    train_loss = train(model, train_dataset, optimizer, criterion, CLIP)\n",
    "    \n",
    "    end_time = time.time()\n",
    "    \n",
    "    epoch_mins, epoch_secs = epoch_time(start_time, end_time)\n",
    "\n",
    "    # Note that step should be called after evaluate()\n",
    "    # scheduler.step(valid_loss)\n",
    "        \n",
    "    if train_loss < best_loss:\n",
    "        best_loss = train_loss\n",
    "        torch.save(model.state_dict(), MODEL_NAME)\n",
    "\n",
    "    logs[\"loss\"] = train_loss\n",
    "    logs[\"lr\"] = optimizer.param_groups[0][\"lr\"]\n",
    "\n",
    "    liveloss.update(logs)\n",
    "    liveloss.send()\n",
    "        \n",
    "    print(f'Epoch: {epoch+1:02}/{N_EPOCHS} | Time: {epoch_mins}m {epoch_secs}s')\n",
    "    print(f'\\tTrain Loss: {train_loss:.3f} | Train PPL: {math.exp(train_loss):7.3f}')"
   ]
  },
  {
   "cell_type": "code",
   "execution_count": 22,
   "metadata": {},
   "outputs": [
    {
     "name": "stderr",
     "output_type": "stream",
     "text": [
      "100%|██████████| 10570/10570 [00:13<00:00, 810.80it/s]"
     ]
    },
    {
     "name": "stdout",
     "output_type": "stream",
     "text": [
      "| Test Loss: 8.766 | Test PPL: 6415.411 |\n"
     ]
    },
    {
     "name": "stderr",
     "output_type": "stream",
     "text": [
      "\n"
     ]
    }
   ],
   "source": [
    "model.load_state_dict(torch.load(MODEL_NAME))\n",
    "\n",
    "test_loss = evaluate(model, test_dataset, criterion)\n",
    "\n",
    "print(f'| Test Loss: {test_loss:.3f} | Test PPL: {math.exp(test_loss):7.3f} |')"
   ]
  },
  {
   "cell_type": "markdown",
   "metadata": {},
   "source": [
    "Reload the model file and compare some inference results with the test dataset."
   ]
  },
  {
   "cell_type": "code",
   "execution_count": 23,
   "metadata": {},
   "outputs": [
    {
     "data": {
      "text/plain": [
       "Seq2Seq(\n",
       "  (encoder): Encoder(\n",
       "    (embedding): Embedding(15173, 100)\n",
       "    (rnn): LSTM(100, 512)\n",
       "    (dropout): Dropout(p=0.2, inplace=False)\n",
       "  )\n",
       "  (decoder): Decoder(\n",
       "    (embedding): Embedding(15173, 100)\n",
       "    (embedding_dropout): Dropout(p=0.2, inplace=False)\n",
       "    (rnn): LSTM(100, 512)\n",
       "    (out): Linear(in_features=512, out_features=15173, bias=True)\n",
       "  )\n",
       ")"
      ]
     },
     "execution_count": 23,
     "metadata": {},
     "output_type": "execute_result"
    }
   ],
   "source": [
    "model.load_state_dict(torch.load(MODEL_NAME))\n",
    "\n",
    "model.eval()"
   ]
  },
  {
   "cell_type": "code",
   "execution_count": 55,
   "metadata": {},
   "outputs": [
    {
     "name": "stdout",
     "output_type": "stream",
     "text": [
      "['Which NFL team represented the AFC at Super Bowl 50?'\n",
      " 'Which NFL team represented the NFC at Super Bowl 50?'\n",
      " 'Where did Super Bowl 50 take place?' 'Which NFL team won Super Bowl 50?'\n",
      " 'What color was used to emphasize the 50th anniversary of the Super Bowl?'\n",
      " 'What was the theme of Super Bowl 50?' 'What day was the game played on?'\n",
      " 'What is the AFC short for?' 'What was the theme of Super Bowl 50?'\n",
      " 'What does AFC stand for?']\n",
      "[tensor([[4814],\n",
      "        [1352],\n",
      "        [2027],\n",
      "        [   0],\n",
      "        [  26],\n",
      "        [1835],\n",
      "        [  27]], device='cuda:0'), tensor([[4814],\n",
      "        [1352],\n",
      "        [2027],\n",
      "        [   0],\n",
      "        [  26],\n",
      "        [1835],\n",
      "        [  27]], device='cuda:0'), tensor([[1257],\n",
      "        [ 105],\n",
      "        [1835],\n",
      "        [ 172],\n",
      "        [ 188],\n",
      "        [  27]], device='cuda:0'), tensor([[4814],\n",
      "        [1352],\n",
      "        [1604],\n",
      "        [1835],\n",
      "        [  27]], device='cuda:0'), tensor([[ 197],\n",
      "        [ 749],\n",
      "        [  10],\n",
      "        [ 163],\n",
      "        [   5],\n",
      "        [5101],\n",
      "        [   0],\n",
      "        [5798],\n",
      "        [   3],\n",
      "        [   0],\n",
      "        [  27]], device='cuda:0'), tensor([[ 197],\n",
      "        [  10],\n",
      "        [   0],\n",
      "        [2063],\n",
      "        [   3],\n",
      "        [1835],\n",
      "        [  27]], device='cuda:0'), tensor([[ 197],\n",
      "        [ 160],\n",
      "        [  10],\n",
      "        [   0],\n",
      "        [ 857],\n",
      "        [1056],\n",
      "        [  20],\n",
      "        [  27]], device='cuda:0'), tensor([[197],\n",
      "        [  9],\n",
      "        [  0],\n",
      "        [467],\n",
      "        [ 11],\n",
      "        [ 27]], device='cuda:0'), tensor([[ 197],\n",
      "        [  10],\n",
      "        [   0],\n",
      "        [2063],\n",
      "        [   3],\n",
      "        [1835],\n",
      "        [  27]], device='cuda:0'), tensor([[197],\n",
      "        [211],\n",
      "        [705],\n",
      "        [ 11],\n",
      "        [ 27]], device='cuda:0')]\n"
     ]
    }
   ],
   "source": [
    "questions = SRC_test_dataset[:10]\n",
    "print(questions)\n",
    "questions = [torch.LongTensor(vocab.cleanText(q)).unsqueeze(1).to(device) for q in questions]\n",
    "print(questions)"
   ]
  },
  {
   "cell_type": "code",
   "execution_count": 66,
   "metadata": {},
   "outputs": [
    {
     "name": "stdout",
     "output_type": "stream",
     "text": [
      "['the rest Medical Sciences Sciences Sciences Sciences Sciences Sciences '\n",
      " 'Sciences Sciences Sciences',\n",
      " 'the rest Medical Sciences Sciences Sciences Sciences Sciences Sciences '\n",
      " 'Sciences Sciences Sciences',\n",
      " 'the Football Medical Sciences Sciences Sciences Sciences Sciences Sciences '\n",
      " 'Sciences Sciences Sciences',\n",
      " 'the rest Medical Sciences Sciences Sciences Sciences Sciences Sciences '\n",
      " 'Sciences Sciences Sciences',\n",
      " 'the Football Medical Sciences Sciences Sciences Sciences Sciences Sciences '\n",
      " 'Sciences Sciences Sciences',\n",
      " 'the Football Medical Sciences Sciences Sciences Sciences Sciences Sciences '\n",
      " 'Sciences Sciences Sciences',\n",
      " 'the Football Medical Sciences Sciences Sciences Sciences Sciences Sciences '\n",
      " 'Sciences Sciences Sciences',\n",
      " 'the Football Medical Sciences Sciences Sciences Sciences Sciences Sciences '\n",
      " 'Sciences Sciences Sciences',\n",
      " 'the Football Medical Sciences Sciences Sciences Sciences Sciences Sciences '\n",
      " 'Sciences Sciences Sciences',\n",
      " 'the Football Medical Sciences Sciences Sciences Sciences Sciences Sciences '\n",
      " 'Sciences Sciences Sciences']\n"
     ]
    }
   ],
   "source": [
    "ANSWER_LENGTH = 12\n",
    "\n",
    "answers = []\n",
    "\n",
    "for i, question in enumerate(questions):\n",
    "    answer = torch.LongTensor(np.zeros((ANSWER_LENGTH, 1))).to(device)\n",
    "    answer = model(question, answer, 0)\n",
    "    answer = torch.argmax(answer, axis=2)\n",
    "    answers.append(answer)\n",
    "answers = [[vocab.index2word(w) for w in answer] for answer in answers]\n",
    "answers = [' '.join(answer) for answer in answers]\n",
    "pprint(answers)"
   ]
  },
  {
   "cell_type": "markdown",
   "metadata": {},
   "source": [
    "## Step 6: Interact with the Chatbot"
   ]
  },
  {
   "cell_type": "code",
   "execution_count": 67,
   "metadata": {},
   "outputs": [],
   "source": [
    "# print(\"Type 'STOP' to exit chat\")\n",
    "# ANSWER_LENGTH = 12\n",
    "\n",
    "# while True:\n",
    "#     inp = input(\">\")\n",
    "    \n",
    "#     # If STOP in input, stop script\n",
    "#     if \"STOP\" == inp.strip():\n",
    "#         break\n",
    "    \n",
    "#     # Quick error handling to account for any words not currently found in the vocabulary\n",
    "#     try:\n",
    "#         question = vocab.cleanText(inp)\n",
    "#         question = [vocab.word2index[w] for w in question if w in vocab.word2index]\n",
    "#         question = [torch.LongTensor([SOS_index] + question + [EOS_index])]\n",
    "#         question_length = [len(q) for q in question]\n",
    "#         question = nn.utils.rnn.pad_sequence(question).to(device)\n",
    "#     except:\n",
    "#         print(\"I could not understand this question. Please try again...\")\n",
    "#         continue\n",
    "        \n",
    "#     # Empty answer list for each word generated\n",
    "#     answer = torch.LongTensor(np.ones((ANSWER_LENGTH, len(question[0])))) * SOS_index\n",
    "\n",
    "#     # Get output - no target specified since not training\n",
    "#     answer = model(question, question_length, answer.to(device), 0)\n",
    "#     answer = torch.argmax(answer, axis=2)\n",
    "    \n",
    "#     answer = np.transpose([[vocab.index2word[int(w)] for w in a] for a in answer])\n",
    "#     eos_index = answer[0].tolist().index('<eos>')\n",
    "#     answer = answer[0][1:eos_index]\n",
    "\n",
    "#     # Finally, write out answer for user\n",
    "#     print(\"<\", \" \".join(answer), \"\\n\")"
   ]
  },
  {
   "cell_type": "code",
   "execution_count": null,
   "metadata": {},
   "outputs": [],
   "source": []
  }
 ],
 "metadata": {
  "colab": {
   "collapsed_sections": [],
   "name": "(Starter Code) LSTM Bot",
   "provenance": []
  },
  "kernelspec": {
   "display_name": "Python 3 (ipykernel)",
   "language": "python",
   "name": "python3"
  },
  "language_info": {
   "codemirror_mode": {
    "name": "ipython",
    "version": 3
   },
   "file_extension": ".py",
   "mimetype": "text/x-python",
   "name": "python",
   "nbconvert_exporter": "python",
   "pygments_lexer": "ipython3",
   "version": "3.8.10"
  },
  "vscode": {
   "interpreter": {
    "hash": "31f2aee4e71d21fbe5cf8b01ff0e069b9275f58929596ceb00d14d90e3e16cd6"
   }
  }
 },
 "nbformat": 4,
 "nbformat_minor": 4
}
