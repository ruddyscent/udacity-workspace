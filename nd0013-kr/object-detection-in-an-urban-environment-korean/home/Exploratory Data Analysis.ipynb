{
 "cells": [
  {
   "attachments": {},
   "cell_type": "markdown",
   "metadata": {},
   "source": [
    "# Explore the dataset\n",
    "\n",
    "\n",
    "In this notebook, we will perform an EDA (Exploratory Data Analysis) on the processed Waymo dataset (data in the `processed` folder). In the first part, you will create a function to display "
   ]
  },
  {
   "cell_type": "code",
   "execution_count": 2,
   "metadata": {},
   "outputs": [],
   "source": [
    "from utils import get_dataset"
   ]
  },
  {
   "cell_type": "code",
   "execution_count": 3,
   "metadata": {},
   "outputs": [
    {
     "name": "stdout",
     "output_type": "stream",
     "text": [
      "INFO:tensorflow:Reading unweighted datasets: ['/app/project/data/train/*.tfrecord']\n",
      "INFO:tensorflow:Reading record datasets for input file: ['/app/project/data/train/*.tfrecord']\n",
      "INFO:tensorflow:Number of filenames to read: 86\n",
      "WARNING:tensorflow:From /usr/local/lib/python3.8/dist-packages/object_detection/builders/dataset_builder.py:100: parallel_interleave (from tensorflow.python.data.experimental.ops.interleave_ops) is deprecated and will be removed in a future version.\n",
      "Instructions for updating:\n",
      "Use `tf.data.Dataset.interleave(map_func, cycle_length, block_length, num_parallel_calls=tf.data.AUTOTUNE)` instead. If sloppy execution is desired, use `tf.data.Options.experimental_deterministic`.\n"
     ]
    },
    {
     "name": "stdout",
     "output_type": "stream",
     "text": [
      "WARNING:tensorflow:From /usr/local/lib/python3.8/dist-packages/object_detection/builders/dataset_builder.py:235: DatasetV1.map_with_legacy_function (from tensorflow.python.data.ops.dataset_ops) is deprecated and will be removed in a future version.\n",
      "Instructions for updating:\n",
      "Use `tf.data.Dataset.map()\n"
     ]
    },
    {
     "name": "stderr",
     "output_type": "stream",
     "text": [
      "2023-06-30 01:46:01.964748: E tensorflow/stream_executor/cuda/cuda_driver.cc:328] failed call to cuInit: CUDA_ERROR_NO_DEVICE: no CUDA-capable device is detected\n"
     ]
    }
   ],
   "source": [
    "dataset = get_dataset(\"/app/project/data/train/*.tfrecord\")"
   ]
  },
  {
   "attachments": {},
   "cell_type": "markdown",
   "metadata": {},
   "source": [
    "## Write a function to display an image and the bounding boxes\n",
    "\n",
    "Implement the `display_instances` function below. This function takes a batch as an input and display an image with its corresponding bounding boxes. The only requirement is that the classes should be color coded (eg, vehicles in red, pedestrians in blue, cyclist in green)."
   ]
  },
  {
   "cell_type": "code",
   "execution_count": 4,
   "metadata": {},
   "outputs": [],
   "source": [
    "import matplotlib.pyplot as plt\n",
    "import matplotlib.patches as patches\n",
    "\n",
    "COLORS = ['b', 'g', 'r', 'c', 'm', 'y', 'k', 'w']\n",
    "\n",
    "def display_instances(batch):\n",
    "    \"\"\"\n",
    "    This function takes a batch from the dataset and display the image with \n",
    "    the associated bounding boxes.\n",
    "    \"\"\"\n",
    "    # ADD CODE HERE\n",
    "    for sample in batch:\n",
    "        # Get the image aand associated bounding boxes\n",
    "        image = sample['image']\n",
    "        boxes = sample['groundtruth_boxes']\n",
    "        image_classes = sample['groundtruth_classes']\n",
    "        image_size = sample['original_image_spatial_shape']\n",
    "        \n",
    "        # Create figure and axes\n",
    "        fig, ax = plt.subplots(1)\n",
    "        \n",
    "        # Display the image\n",
    "        ax.imshow(image)\n",
    "        \n",
    "        # Iterate over the bounding boxes\n",
    "        for box, image_cls in zip(boxes, image_classes):\n",
    "            # Extract the coordinates\n",
    "            ymin, xmin, ymax, xmax = box\n",
    "            ymin = int(float(ymin) * int(image_size[0]))\n",
    "            ymax = int(float(ymax) * int(image_size[0]))\n",
    "            xmin = int(float(xmin) * int(image_size[1]))\n",
    "            xmax = int(float(xmax) * int(image_size[1]))\n",
    "            # Calculate the width and height of the box\n",
    "            width = xmax - xmin\n",
    "            height = ymax - ymin\n",
    "            \n",
    "            # Create a rectangle patch\n",
    "            rect = patches.Rectangle((xmin, ymin), width, height, linewidth=2, edgecolor=COLORS[image_cls], facecolor='none')\n",
    "            \n",
    "            # Add the patch to the axes\n",
    "            ax.add_patch(rect)\n",
    "        \n",
    "        # Show the plot\n",
    "        plt.show()"
   ]
  },
  {
   "attachments": {},
   "cell_type": "markdown",
   "metadata": {},
   "source": [
    "## Display 10 images \n",
    "\n",
    "Using the dataset created in the second cell and the function you just coded, display 10 random images with the associated bounding boxes. You can use the methods `take` and `shuffle` on the dataset."
   ]
  },
  {
   "cell_type": "code",
   "execution_count": 5,
   "metadata": {},
   "outputs": [],
   "source": [
    "## STUDENT SOLUTION HERE\n",
    "batch = dataset.shuffle(86).take(10)\n",
    "\n",
    "display_instances(batch)\n"
   ]
  },
  {
   "attachments": {},
   "cell_type": "markdown",
   "metadata": {},
   "source": [
    "## Additional EDA\n",
    "\n",
    "In this last part, you are free to perform any additional analysis of the dataset. What else would like to know about the data?\n",
    "For example, think about data distribution. So far, you have only looked at a single file..."
   ]
  },
  {
   "cell_type": "code",
   "execution_count": 59,
   "metadata": {},
   "outputs": [
    {
     "data": {
      "text/html": [
       "<div>\n",
       "<style scoped>\n",
       "    .dataframe tbody tr th:only-of-type {\n",
       "        vertical-align: middle;\n",
       "    }\n",
       "\n",
       "    .dataframe tbody tr th {\n",
       "        vertical-align: top;\n",
       "    }\n",
       "\n",
       "    .dataframe thead th {\n",
       "        text-align: right;\n",
       "    }\n",
       "</style>\n",
       "<table border=\"1\" class=\"dataframe\">\n",
       "  <thead>\n",
       "    <tr style=\"text-align: right;\">\n",
       "      <th></th>\n",
       "      <th>filename</th>\n",
       "      <th>vehicle</th>\n",
       "      <th>pedestrian</th>\n",
       "      <th>cyclist</th>\n",
       "    </tr>\n",
       "  </thead>\n",
       "  <tbody>\n",
       "    <tr>\n",
       "      <th>0</th>\n",
       "      <td>segment-11379226583756500423_6230_810_6250_810...</td>\n",
       "      <td>0</td>\n",
       "      <td>0</td>\n",
       "      <td>0</td>\n",
       "    </tr>\n",
       "    <tr>\n",
       "      <th>1</th>\n",
       "      <td>segment-11060291335850384275_3761_210_3781_210...</td>\n",
       "      <td>1</td>\n",
       "      <td>0</td>\n",
       "      <td>0</td>\n",
       "    </tr>\n",
       "    <tr>\n",
       "      <th>2</th>\n",
       "      <td>segment-1172406780360799916_1660_000_1680_000_...</td>\n",
       "      <td>2</td>\n",
       "      <td>0</td>\n",
       "      <td>0</td>\n",
       "    </tr>\n",
       "    <tr>\n",
       "      <th>3</th>\n",
       "      <td>segment-10212406498497081993_5300_000_5320_000...</td>\n",
       "      <td>18</td>\n",
       "      <td>6</td>\n",
       "      <td>0</td>\n",
       "    </tr>\n",
       "    <tr>\n",
       "      <th>4</th>\n",
       "      <td>segment-10017090168044687777_6380_000_6400_000...</td>\n",
       "      <td>12</td>\n",
       "      <td>0</td>\n",
       "      <td>0</td>\n",
       "    </tr>\n",
       "    <tr>\n",
       "      <th>...</th>\n",
       "      <td>...</td>\n",
       "      <td>...</td>\n",
       "      <td>...</td>\n",
       "      <td>...</td>\n",
       "    </tr>\n",
       "    <tr>\n",
       "      <th>81</th>\n",
       "      <td>segment-10153695247769592104_787_000_807_000_w...</td>\n",
       "      <td>38</td>\n",
       "      <td>0</td>\n",
       "      <td>0</td>\n",
       "    </tr>\n",
       "    <tr>\n",
       "      <th>82</th>\n",
       "      <td>segment-11718898130355901268_2300_000_2320_000...</td>\n",
       "      <td>22</td>\n",
       "      <td>10</td>\n",
       "      <td>0</td>\n",
       "    </tr>\n",
       "    <tr>\n",
       "      <th>83</th>\n",
       "      <td>segment-10588771936253546636_2300_000_2320_000...</td>\n",
       "      <td>15</td>\n",
       "      <td>2</td>\n",
       "      <td>0</td>\n",
       "    </tr>\n",
       "    <tr>\n",
       "      <th>84</th>\n",
       "      <td>segment-10599748131695282446_1380_000_1400_000...</td>\n",
       "      <td>19</td>\n",
       "      <td>17</td>\n",
       "      <td>0</td>\n",
       "    </tr>\n",
       "    <tr>\n",
       "      <th>85</th>\n",
       "      <td>segment-11219370372259322863_5320_000_5340_000...</td>\n",
       "      <td>13</td>\n",
       "      <td>0</td>\n",
       "      <td>0</td>\n",
       "    </tr>\n",
       "  </tbody>\n",
       "</table>\n",
       "<p>86 rows × 4 columns</p>\n",
       "</div>"
      ],
      "text/plain": [
       "                                             filename  ...  cyclist\n",
       "0   segment-11379226583756500423_6230_810_6250_810...  ...        0\n",
       "1   segment-11060291335850384275_3761_210_3781_210...  ...        0\n",
       "2   segment-1172406780360799916_1660_000_1680_000_...  ...        0\n",
       "3   segment-10212406498497081993_5300_000_5320_000...  ...        0\n",
       "4   segment-10017090168044687777_6380_000_6400_000...  ...        0\n",
       "..                                                ...  ...      ...\n",
       "81  segment-10153695247769592104_787_000_807_000_w...  ...        0\n",
       "82  segment-11718898130355901268_2300_000_2320_000...  ...        0\n",
       "83  segment-10588771936253546636_2300_000_2320_000...  ...        0\n",
       "84  segment-10599748131695282446_1380_000_1400_000...  ...        0\n",
       "85  segment-11219370372259322863_5320_000_5340_000...  ...        0\n",
       "\n",
       "[86 rows x 4 columns]"
      ]
     },
     "execution_count": 59,
     "metadata": {},
     "output_type": "execute_result"
    }
   ],
   "source": [
    "from collections import Counter\n",
    "import pandas as pd\n",
    "\n",
    "label_map = {1: 'vehicle', 2: 'pedestrian', 4: 'cyclist'}\n",
    "\n",
    "lbl_counts = []\n",
    "for sample in dataset.take(86):\n",
    "    image_classes = sample['groundtruth_classes']\n",
    "    cls_counter = Counter(image_classes.numpy().tolist())\n",
    "    new_row = {label_map[k]: v for k, v in cls_counter.items()}\n",
    "    new_row['filename'] = sample['filename'].numpy().decode('utf-8')\n",
    "    # waymo_df = waymo_df.append(new_row, ignore_index=True)\n",
    "    lbl_counts.append(pd.Series(new_row))\n",
    "\n",
    "waymo_df = pd.concat(lbl_counts, axis=1).transpose().fillna(0)\n",
    "waymo_df"
   ]
  },
  {
   "attachments": {},
   "cell_type": "markdown",
   "metadata": {},
   "source": [
    "Descriptive statistics of the labels:"
   ]
  },
  {
   "cell_type": "code",
   "execution_count": 61,
   "metadata": {},
   "outputs": [
    {
     "data": {
      "text/html": [
       "<div>\n",
       "<style scoped>\n",
       "    .dataframe tbody tr th:only-of-type {\n",
       "        vertical-align: middle;\n",
       "    }\n",
       "\n",
       "    .dataframe tbody tr th {\n",
       "        vertical-align: top;\n",
       "    }\n",
       "\n",
       "    .dataframe thead th {\n",
       "        text-align: right;\n",
       "    }\n",
       "</style>\n",
       "<table border=\"1\" class=\"dataframe\">\n",
       "  <thead>\n",
       "    <tr style=\"text-align: right;\">\n",
       "      <th></th>\n",
       "      <th>vehicle</th>\n",
       "      <th>pedestrian</th>\n",
       "      <th>cyclist</th>\n",
       "    </tr>\n",
       "  </thead>\n",
       "  <tbody>\n",
       "    <tr>\n",
       "      <th>count</th>\n",
       "      <td>86.000000</td>\n",
       "      <td>86.000000</td>\n",
       "      <td>86.000000</td>\n",
       "    </tr>\n",
       "    <tr>\n",
       "      <th>mean</th>\n",
       "      <td>16.767442</td>\n",
       "      <td>4.930233</td>\n",
       "      <td>0.116279</td>\n",
       "    </tr>\n",
       "    <tr>\n",
       "      <th>std</th>\n",
       "      <td>11.377661</td>\n",
       "      <td>8.425159</td>\n",
       "      <td>0.357067</td>\n",
       "    </tr>\n",
       "    <tr>\n",
       "      <th>min</th>\n",
       "      <td>0.000000</td>\n",
       "      <td>0.000000</td>\n",
       "      <td>0.000000</td>\n",
       "    </tr>\n",
       "    <tr>\n",
       "      <th>25%</th>\n",
       "      <td>8.000000</td>\n",
       "      <td>0.000000</td>\n",
       "      <td>0.000000</td>\n",
       "    </tr>\n",
       "    <tr>\n",
       "      <th>50%</th>\n",
       "      <td>14.500000</td>\n",
       "      <td>0.000000</td>\n",
       "      <td>0.000000</td>\n",
       "    </tr>\n",
       "    <tr>\n",
       "      <th>75%</th>\n",
       "      <td>26.000000</td>\n",
       "      <td>6.000000</td>\n",
       "      <td>0.000000</td>\n",
       "    </tr>\n",
       "    <tr>\n",
       "      <th>max</th>\n",
       "      <td>51.000000</td>\n",
       "      <td>35.000000</td>\n",
       "      <td>2.000000</td>\n",
       "    </tr>\n",
       "  </tbody>\n",
       "</table>\n",
       "</div>"
      ],
      "text/plain": [
       "         vehicle  pedestrian    cyclist\n",
       "count  86.000000   86.000000  86.000000\n",
       "mean   16.767442    4.930233   0.116279\n",
       "std    11.377661    8.425159   0.357067\n",
       "min     0.000000    0.000000   0.000000\n",
       "25%     8.000000    0.000000   0.000000\n",
       "50%    14.500000    0.000000   0.000000\n",
       "75%    26.000000    6.000000   0.000000\n",
       "max    51.000000   35.000000   2.000000"
      ]
     },
     "execution_count": 61,
     "metadata": {},
     "output_type": "execute_result"
    }
   ],
   "source": [
    "waymo_df.describe()"
   ]
  },
  {
   "attachments": {},
   "cell_type": "markdown",
   "metadata": {},
   "source": [
    "The distribution of the object counts over out sample frames is as follows:"
   ]
  },
  {
   "cell_type": "code",
   "execution_count": 83,
   "metadata": {},
   "outputs": [
    {
     "data": {
      "image/png": "[encoded data removed]",
      "text/plain": [
       "<Figure size 1000x500 with 3 Axes>"
      ]
     },
     "metadata": {},
     "output_type": "display_data"
    }
   ],
   "source": [
    "%matplotlib inline\n",
    "\n",
    "axarr = waymo_df.hist(sharey=True, layout = (1, 3), figsize=(10, 5))\n",
    "\n",
    "for ax in axarr.flatten():\n",
    "    ax.set_xlabel(\"Label counts\")\n",
    "    ax.set_ylabel(\"Frame counts\")"
   ]
  },
  {
   "cell_type": "code",
   "execution_count": null,
   "metadata": {},
   "outputs": [],
   "source": []
  }
 ],
 "metadata": {
  "kernelspec": {
   "display_name": "Python 3 (ipykernel)",
   "language": "python",
   "name": "python3"
  },
  "language_info": {
   "codemirror_mode": {
    "name": "ipython",
    "version": 3
   },
   "file_extension": ".py",
   "mimetype": "text/x-python",
   "name": "python",
   "nbconvert_exporter": "python",
   "pygments_lexer": "ipython3",
   "version": "3.8.10"
  }
 },
 "nbformat": 4,
 "nbformat_minor": 4
}
