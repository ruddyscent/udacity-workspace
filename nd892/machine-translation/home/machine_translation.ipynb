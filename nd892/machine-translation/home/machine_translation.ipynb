{
 "cells": [
  {
   "cell_type": "markdown",
   "metadata": {
    "collapsed": true
   },
   "source": [
    "# Artificial Intelligence Nanodegree\n",
    "## Machine Translation Project\n",
    "In this notebook, sections that end with **'(IMPLEMENTATION)'** in the header indicate that the following blocks of code will require additional functionality which you must provide. Please be sure to read the instructions carefully!\n",
    "\n",
    "## Introduction\n",
    "In this notebook, you will build a deep neural network that functions as part of an end-to-end machine translation pipeline. Your completed pipeline will accept English text as input and return the French translation.\n",
    "\n",
    "- **Preprocess** - You'll convert text to sequence of integers.\n",
    "- **Models** Create models which accepts a sequence of integers as input and returns a probability distribution over possible translations. After learning about the basic types of neural networks that are often used for machine translation, you will engage in your own investigations, to design your own model!\n",
    "- **Prediction** Run the model on English text."
   ]
  },
  {
   "cell_type": "code",
   "execution_count": 739,
   "metadata": {},
   "outputs": [
    {
     "name": "stdout",
     "output_type": "stream",
     "text": [
      "The autoreload extension is already loaded. To reload it, use:\n",
      "  %reload_ext autoreload\n"
     ]
    }
   ],
   "source": [
    "%load_ext autoreload\n",
    "%aimport helper, project_tests\n",
    "%autoreload 1"
   ]
  },
  {
   "cell_type": "code",
   "execution_count": 740,
   "metadata": {},
   "outputs": [],
   "source": [
    "import collections\n",
    "\n",
    "import helper\n",
    "import numpy as np\n",
    "import project_tests as tests\n",
    "\n",
    "from keras.preprocessing.text import Tokenizer\n",
    "from keras.preprocessing.sequence import pad_sequences\n",
    "# from keras.utils import pad_sequences\n",
    "from keras.models import Model\n",
    "from keras.layers import GRU, Input, Dense, TimeDistributed, Activation, RepeatVector, Bidirectional\n",
    "from keras.layers.embeddings import Embedding\n",
    "# from keras.layers import Embedding\n",
    "from keras.optimizers import Adam\n",
    "from keras.losses import sparse_categorical_crossentropy"
   ]
  },
  {
   "cell_type": "code",
   "execution_count": 741,
   "metadata": {},
   "outputs": [],
   "source": [
    "import matplotlib.pyplot as plt\n",
    "%matplotlib inline\n",
    "\n",
    "def plot_history(network_history):\n",
    "    plt.figure()\n",
    "    plt.xlabel('Epochs')\n",
    "    plt.ylabel('Loss')\n",
    "    plt.plot(network_history.history['loss'])\n",
    "    plt.plot(network_history.history['val_loss'])\n",
    "    plt.legend(['Training', 'Validation'])\n",
    "\n",
    "    plt.figure()\n",
    "    plt.xlabel('Epochs')\n",
    "    plt.ylabel('Accuracy')\n",
    "    plt.plot(network_history.history['acc'])\n",
    "    plt.plot(network_history.history['val_acc'])\n",
    "    plt.legend(['Training', 'Validation'], loc='lower right')\n",
    "    plt.show()"
   ]
  },
  {
   "cell_type": "markdown",
   "metadata": {},
   "source": [
    "### Define Common Hyperparameters"
   ]
  },
  {
   "cell_type": "code",
   "execution_count": 742,
   "metadata": {},
   "outputs": [],
   "source": [
    "learning_rate = 5e-3\n",
    "latent_dim = 128\n",
    "embedding_size = 128\n",
    "num_epochs = 20\n",
    "dropout_ratio = 0\n",
    "random_seed = 0\n",
    "batch_size = 1024\n",
    "val_ratio = 0.2"
   ]
  },
  {
   "cell_type": "markdown",
   "metadata": {},
   "source": [
    "### Verify access to the GPU\n",
    "The following test applies only if you expect to be using a GPU, e.g., while running in a Udacity Workspace or using an AWS instance with GPU support. Run the next cell, and verify that the device_type is \"GPU\".\n",
    "- If the device is not GPU & you are running from a Udacity Workspace, then save your workspace with the icon at the top, then click \"enable\" at the bottom of the workspace.\n",
    "- If the device is not GPU & you are running from an AWS instance, then refer to the cloud computing instructions in the classroom to verify your setup steps."
   ]
  },
  {
   "cell_type": "code",
   "execution_count": 743,
   "metadata": {},
   "outputs": [
    {
     "name": "stdout",
     "output_type": "stream",
     "text": [
      "[name: \"/device:CPU:0\"\n",
      "device_type: \"CPU\"\n",
      "memory_limit: 268435456\n",
      "locality {\n",
      "}\n",
      "incarnation: 8588526274741158609\n",
      ", name: \"/device:XLA_CPU:0\"\n",
      "device_type: \"XLA_CPU\"\n",
      "memory_limit: 17179869184\n",
      "locality {\n",
      "}\n",
      "incarnation: 2658769198543802281\n",
      "physical_device_desc: \"device: XLA_CPU device\"\n",
      ", name: \"/device:XLA_GPU:0\"\n",
      "device_type: \"XLA_GPU\"\n",
      "memory_limit: 17179869184\n",
      "locality {\n",
      "}\n",
      "incarnation: 17776844463180075835\n",
      "physical_device_desc: \"device: XLA_GPU device\"\n",
      ", name: \"/device:XLA_GPU:1\"\n",
      "device_type: \"XLA_GPU\"\n",
      "memory_limit: 17179869184\n",
      "locality {\n",
      "}\n",
      "incarnation: 4434992901998506082\n",
      "physical_device_desc: \"device: XLA_GPU device\"\n",
      ", name: \"/device:GPU:0\"\n",
      "device_type: \"GPU\"\n",
      "memory_limit: 7160266752\n",
      "locality {\n",
      "  bus_id: 1\n",
      "  links {\n",
      "  }\n",
      "}\n",
      "incarnation: 5978282847205488053\n",
      "physical_device_desc: \"device: 0, name: NVIDIA GeForce RTX 2060 SUPER, pci bus id: 0000:01:00.0, compute capability: 7.5\"\n",
      ", name: \"/device:GPU:1\"\n",
      "device_type: \"GPU\"\n",
      "memory_limit: 2351366144\n",
      "locality {\n",
      "  bus_id: 1\n",
      "  links {\n",
      "  }\n",
      "}\n",
      "incarnation: 5221674367091388655\n",
      "physical_device_desc: \"device: 1, name: NVIDIA GeForce GTX 1060 3GB, pci bus id: 0000:05:00.0, compute capability: 6.1\"\n",
      "]\n"
     ]
    }
   ],
   "source": [
    "from tensorflow.python.client import device_lib\n",
    "print(device_lib.list_local_devices())"
   ]
  },
  {
   "cell_type": "markdown",
   "metadata": {},
   "source": [
    "## Dataset\n",
    "We begin by investigating the dataset that will be used to train and evaluate your pipeline.  The most common datasets used for machine translation are from [WMT](http://www.statmt.org/).  However, that will take a long time to train a neural network on.  We'll be using a dataset we created for this project that contains a small vocabulary.  You'll be able to train your model in a reasonable time with this dataset.\n",
    "### Load Data\n",
    "The data is located in `data/small_vocab_en` and `data/small_vocab_fr`. The `small_vocab_en` file contains English sentences with their French translations in the `small_vocab_fr` file. Load the English and French data from these files from running the cell below."
   ]
  },
  {
   "cell_type": "code",
   "execution_count": 744,
   "metadata": {},
   "outputs": [
    {
     "name": "stdout",
     "output_type": "stream",
     "text": [
      "Dataset Loaded\n"
     ]
    }
   ],
   "source": [
    "# Load English data\n",
    "english_sentences = helper.load_data('data/small_vocab_en')\n",
    "# Load French data\n",
    "french_sentences = helper.load_data('data/small_vocab_fr')\n",
    "\n",
    "print('Dataset Loaded')"
   ]
  },
  {
   "cell_type": "markdown",
   "metadata": {},
   "source": [
    "### Files\n",
    "Each line in `small_vocab_en` contains an English sentence with the respective translation in each line of `small_vocab_fr`.  View the first two lines from each file."
   ]
  },
  {
   "cell_type": "code",
   "execution_count": 745,
   "metadata": {},
   "outputs": [
    {
     "name": "stdout",
     "output_type": "stream",
     "text": [
      "small_vocab_en Line 1:  new jersey is sometimes quiet during autumn , and it is snowy in april .\n",
      "small_vocab_fr Line 1:  new jersey est parfois calme pendant l' automne , et il est neigeux en avril .\n",
      "small_vocab_en Line 2:  the united states is usually chilly during july , and it is usually freezing in november .\n",
      "small_vocab_fr Line 2:  les états-unis est généralement froid en juillet , et il gèle habituellement en novembre .\n"
     ]
    }
   ],
   "source": [
    "for sample_i in range(2):\n",
    "    print('small_vocab_en Line {}:  {}'.format(sample_i + 1, english_sentences[sample_i]))\n",
    "    print('small_vocab_fr Line {}:  {}'.format(sample_i + 1, french_sentences[sample_i]))"
   ]
  },
  {
   "cell_type": "markdown",
   "metadata": {},
   "source": [
    "From looking at the sentences, you can see they have been preprocessed already.  The puncuations have been delimited using spaces. All the text have been converted to lowercase.  This should save you some time, but the text requires more preprocessing.\n",
    "### Vocabulary\n",
    "The complexity of the problem is determined by the complexity of the vocabulary.  A more complex vocabulary is a more complex problem.  Let's look at the complexity of the dataset we'll be working with."
   ]
  },
  {
   "cell_type": "code",
   "execution_count": 746,
   "metadata": {},
   "outputs": [
    {
     "name": "stdout",
     "output_type": "stream",
     "text": [
      "1823250 English words.\n",
      "227 unique English words.\n",
      "10 Most common words in the English dataset:\n",
      "\"is\" \",\" \".\" \"in\" \"it\" \"during\" \"the\" \"but\" \"and\" \"sometimes\"\n",
      "\n",
      "1961295 French words.\n",
      "355 unique French words.\n",
      "10 Most common words in the French dataset:\n",
      "\"est\" \".\" \",\" \"en\" \"il\" \"les\" \"mais\" \"et\" \"la\" \"parfois\"\n"
     ]
    }
   ],
   "source": [
    "english_words_counter = collections.Counter([word for sentence in english_sentences for word in sentence.split()])\n",
    "french_words_counter = collections.Counter([word for sentence in french_sentences for word in sentence.split()])\n",
    "\n",
    "print('{} English words.'.format(len([word for sentence in english_sentences for word in sentence.split()])))\n",
    "print('{} unique English words.'.format(len(english_words_counter)))\n",
    "print('10 Most common words in the English dataset:')\n",
    "print('\"' + '\" \"'.join(list(zip(*english_words_counter.most_common(10)))[0]) + '\"')\n",
    "print()\n",
    "print('{} French words.'.format(len([word for sentence in french_sentences for word in sentence.split()])))\n",
    "print('{} unique French words.'.format(len(french_words_counter)))\n",
    "print('10 Most common words in the French dataset:')\n",
    "print('\"' + '\" \"'.join(list(zip(*french_words_counter.most_common(10)))[0]) + '\"')"
   ]
  },
  {
   "cell_type": "markdown",
   "metadata": {},
   "source": [
    "For comparison, _Alice's Adventures in Wonderland_ contains 2,766 unique words of a total of 15,500 words.\n",
    "## Preprocess\n",
    "For this project, you won't use text data as input to your model. Instead, you'll convert the text into sequences of integers using the following preprocess methods:\n",
    "1. Tokenize the words into ids\n",
    "2. Add padding to make all the sequences the same length.\n",
    "\n",
    "Time to start preprocessing the data...\n",
    "### Tokenize (IMPLEMENTATION)\n",
    "For a neural network to predict on text data, it first has to be turned into data it can understand. Text data like \"dog\" is a sequence of ASCII character encodings.  Since a neural network is a series of multiplication and addition operations, the input data needs to be number(s).\n",
    "\n",
    "We can turn each character into a number or each word into a number.  These are called character and word ids, respectively.  Character ids are used for character level models that generate text predictions for each character.  A word level model uses word ids that generate text predictions for each word.  Word level models tend to learn better, since they are lower in complexity, so we'll use those.\n",
    "\n",
    "Turn each sentence into a sequence of words ids using Keras's [`Tokenizer`](https://keras.io/preprocessing/text/#tokenizer) function. Use this function to tokenize `english_sentences` and `french_sentences` in the cell below.\n",
    "\n",
    "Running the cell will run `tokenize` on sample data and show output for debugging."
   ]
  },
  {
   "cell_type": "code",
   "execution_count": 747,
   "metadata": {},
   "outputs": [
    {
     "name": "stdout",
     "output_type": "stream",
     "text": [
      "{'the': 1, 'quick': 2, 'a': 3, 'brown': 4, 'fox': 5, 'jumps': 6, 'over': 7, 'lazy': 8, 'dog': 9, 'by': 10, 'jove': 11, 'my': 12, 'study': 13, 'of': 14, 'lexicography': 15, 'won': 16, 'prize': 17, 'this': 18, 'is': 19, 'short': 20, 'sentence': 21}\n",
      "\n",
      "Sequence 1 in x\n",
      "  Input:  The quick brown fox jumps over the lazy dog .\n",
      "  Output: [1, 2, 4, 5, 6, 7, 1, 8, 9]\n",
      "Sequence 2 in x\n",
      "  Input:  By Jove , my quick study of lexicography won a prize .\n",
      "  Output: [10, 11, 12, 2, 13, 14, 15, 16, 3, 17]\n",
      "Sequence 3 in x\n",
      "  Input:  This is a short sentence .\n",
      "  Output: [18, 19, 3, 20, 21]\n"
     ]
    }
   ],
   "source": [
    "def tokenize(x):\n",
    "    \"\"\"\n",
    "    Tokenize x\n",
    "    :param x: List of sentences/strings to be tokenized\n",
    "    :return: Tuple of (tokenized x data, tokenizer used to tokenize x)\n",
    "    \"\"\"\n",
    "    # TODO: Implement\n",
    "    x_tk = Tokenizer()\n",
    "    x_tk.fit_on_texts(x)\n",
    "    return x_tk.texts_to_sequences(x), x_tk\n",
    "\n",
    "tests.test_tokenize(tokenize)\n",
    "\n",
    "# Tokenize Example output\n",
    "text_sentences = [\n",
    "    'The quick brown fox jumps over the lazy dog .',\n",
    "    'By Jove , my quick study of lexicography won a prize .',\n",
    "    'This is a short sentence .']\n",
    "text_tokenized, text_tokenizer = tokenize(text_sentences)\n",
    "print(text_tokenizer.word_index)\n",
    "print()\n",
    "for sample_i, (sent, token_sent) in enumerate(zip(text_sentences, text_tokenized)):\n",
    "    print('Sequence {} in x'.format(sample_i + 1))\n",
    "    print('  Input:  {}'.format(sent))\n",
    "    print('  Output: {}'.format(token_sent))"
   ]
  },
  {
   "cell_type": "markdown",
   "metadata": {},
   "source": [
    "### Padding (IMPLEMENTATION)\n",
    "When batching the sequence of word ids together, each sequence needs to be the same length.  Since sentences are dynamic in length, we can add padding to the end of the sequences to make them the same length.\n",
    "\n",
    "Make sure all the English sequences have the same length and all the French sequences have the same length by adding padding to the **end** of each sequence using Keras's [`pad_sequences`](https://keras.io/preprocessing/sequence/#pad_sequences) function."
   ]
  },
  {
   "cell_type": "code",
   "execution_count": 748,
   "metadata": {},
   "outputs": [
    {
     "name": "stdout",
     "output_type": "stream",
     "text": [
      "Sequence 1 in x\n",
      "  Input:  [1 2 4 5 6 7 1 8 9]\n",
      "  Output: [1 2 4 5 6 7 1 8 9 0]\n",
      "Sequence 2 in x\n",
      "  Input:  [10 11 12  2 13 14 15 16  3 17]\n",
      "  Output: [10 11 12  2 13 14 15 16  3 17]\n",
      "Sequence 3 in x\n",
      "  Input:  [18 19  3 20 21]\n",
      "  Output: [18 19  3 20 21  0  0  0  0  0]\n"
     ]
    }
   ],
   "source": [
    "def pad(x, length=None):\n",
    "    \"\"\"\n",
    "    Pad x\n",
    "    :param x: List of sequences.\n",
    "    :param length: Length to pad the sequence to.  If None, use length of longest sequence in x.\n",
    "    :return: Padded numpy array of sequences\n",
    "    \"\"\"\n",
    "    # TODO: Implement\n",
    "    if length is None:\n",
    "        length = max([len(sentence) for sentence in x])\n",
    "    return pad_sequences(x, maxlen=length, padding='post', truncating='post')\n",
    "    \n",
    "tests.test_pad(pad)\n",
    "\n",
    "# Pad Tokenized output\n",
    "test_pad = pad(text_tokenized)\n",
    "for sample_i, (token_sent, pad_sent) in enumerate(zip(text_tokenized, test_pad)):\n",
    "    print('Sequence {} in x'.format(sample_i + 1))\n",
    "    print('  Input:  {}'.format(np.array(token_sent)))\n",
    "    print('  Output: {}'.format(pad_sent))"
   ]
  },
  {
   "cell_type": "markdown",
   "metadata": {},
   "source": [
    "### Preprocess Pipeline\n",
    "Your focus for this project is to build neural network architecture, so we won't ask you to create a preprocess pipeline.  Instead, we've provided you with the implementation of the `preprocess` function."
   ]
  },
  {
   "cell_type": "code",
   "execution_count": 749,
   "metadata": {},
   "outputs": [
    {
     "name": "stdout",
     "output_type": "stream",
     "text": [
      "Data Preprocessed\n",
      "Max English sentence length: 15\n",
      "Max French sentence length: 21\n",
      "English vocabulary size: 199\n",
      "French vocabulary size: 344\n"
     ]
    }
   ],
   "source": [
    "def preprocess(x, y):\n",
    "    \"\"\"\n",
    "    Preprocess x and y\n",
    "    :param x: Feature List of sentences\n",
    "    :param y: Label List of sentences\n",
    "    :return: Tuple of (Preprocessed x, Preprocessed y, x tokenizer, y tokenizer)\n",
    "    \"\"\"\n",
    "    preprocess_x, x_tk = tokenize(x)\n",
    "    preprocess_y, y_tk = tokenize(y)\n",
    "\n",
    "    preprocess_x = pad(preprocess_x)\n",
    "    preprocess_y = pad(preprocess_y)\n",
    "\n",
    "    # Keras's sparse_categorical_crossentropy function requires the labels to be in 3 dimensions\n",
    "    preprocess_y = preprocess_y.reshape(*preprocess_y.shape, 1)\n",
    "\n",
    "    return preprocess_x, preprocess_y, x_tk, y_tk\n",
    "\n",
    "preproc_english_sentences, preproc_french_sentences, english_tokenizer, french_tokenizer =\\\n",
    "    preprocess(english_sentences, french_sentences)\n",
    "    \n",
    "max_english_sequence_length = preproc_english_sentences.shape[1]\n",
    "max_french_sequence_length = preproc_french_sentences.shape[1]\n",
    "english_vocab_size = len(english_tokenizer.word_index)\n",
    "french_vocab_size = len(french_tokenizer.word_index)\n",
    "\n",
    "print('Data Preprocessed')\n",
    "print(\"Max English sentence length:\", max_english_sequence_length)\n",
    "print(\"Max French sentence length:\", max_french_sequence_length)\n",
    "print(\"English vocabulary size:\", english_vocab_size)\n",
    "print(\"French vocabulary size:\", french_vocab_size)"
   ]
  },
  {
   "cell_type": "markdown",
   "metadata": {},
   "source": [
    "### Split train and test data"
   ]
  },
  {
   "cell_type": "code",
   "execution_count": 750,
   "metadata": {},
   "outputs": [],
   "source": [
    "from sklearn.model_selection import train_test_split\n",
    "\n",
    "(train_english_sentences, test_english_sentences, train_french_sentences, test_french_sentences) = train_test_split(\n",
    "    preproc_english_sentences, preproc_french_sentences, test_size=0.33, random_state=random_seed)"
   ]
  },
  {
   "cell_type": "markdown",
   "metadata": {},
   "source": [
    "## Models\n",
    "In this section, you will experiment with various neural network architectures.\n",
    "You will begin by training four relatively simple architectures.\n",
    "- Model 1 is a simple RNN\n",
    "- Model 2 is a RNN with Embedding\n",
    "- Model 3 is a Bidirectional RNN\n",
    "- Model 4 is an Encoder-Decoder RNN\n",
    "\n",
    "After experimenting with the four simple architectures, you will construct a deeper architecture that is designed to outperform all four models.\n",
    "### Ids Back to Text\n",
    "The neural network will be translating the input to words ids, which isn't the final form we want.  We want the French translation.  The function `logits_to_text` will bridge the gab between the logits from the neural network to the French translation.  You'll be using this function to better understand the output of the neural network."
   ]
  },
  {
   "cell_type": "code",
   "execution_count": 751,
   "metadata": {},
   "outputs": [
    {
     "name": "stdout",
     "output_type": "stream",
     "text": [
      "`logits_to_text` function loaded.\n"
     ]
    }
   ],
   "source": [
    "def logits_to_text(logits, tokenizer):\n",
    "    \"\"\"\n",
    "    Turn logits from a neural network into text using the tokenizer\n",
    "    :param logits: Logits from a neural network\n",
    "    :param tokenizer: Keras Tokenizer fit on the labels\n",
    "    :return: String that represents the text of the logits\n",
    "    \"\"\"\n",
    "    index_to_words = {id: word for word, id in tokenizer.word_index.items()}\n",
    "    index_to_words[0] = '<PAD>'\n",
    "    \n",
    "    return ' '.join([index_to_words[prediction] for prediction in np.argmax(logits, 1)])\n",
    "\n",
    "print('`logits_to_text` function loaded.')"
   ]
  },
  {
   "cell_type": "markdown",
   "metadata": {},
   "source": [
    "### Model 1: RNN (IMPLEMENTATION)\n",
    "![RNN](images/rnn.png)\n",
    "\n",
    "A basic RNN model is a good baseline for sequence data.  In this model, you'll build a RNN that translates English to French."
   ]
  },
  {
   "cell_type": "code",
   "execution_count": 752,
   "metadata": {},
   "outputs": [
    {
     "name": "stdout",
     "output_type": "stream",
     "text": [
      "_________________________________________________________________\n",
      "Layer (type)                 Output Shape              Param #   \n",
      "=================================================================\n",
      "input_384 (InputLayer)       (None, 21, 1)             0         \n",
      "_________________________________________________________________\n",
      "gru_533 (GRU)                (None, 21, 128)           49920     \n",
      "_________________________________________________________________\n",
      "time_distributed_347 (TimeDi (None, 21, 344)           44376     \n",
      "_________________________________________________________________\n",
      "activation_345 (Activation)  (None, 21, 344)           0         \n",
      "=================================================================\n",
      "Total params: 94,296\n",
      "Trainable params: 94,296\n",
      "Non-trainable params: 0\n",
      "_________________________________________________________________\n",
      "Train on 73892 samples, validate on 18474 samples\n",
      "Epoch 1/20\n",
      "73892/73892 [==============================] - 53s 723us/step - loss: 2.3933 - acc: 0.4979 - val_loss: 1.6932 - val_acc: 0.5807\n",
      "Epoch 2/20\n",
      "73892/73892 [==============================] - 2s 28us/step - loss: 1.5327 - acc: 0.6027 - val_loss: 1.4155 - val_acc: 0.6193\n",
      "Epoch 3/20\n",
      "73892/73892 [==============================] - 2s 27us/step - loss: 1.3306 - acc: 0.6337 - val_loss: 1.2699 - val_acc: 0.6447\n",
      "Epoch 4/20\n",
      "73892/73892 [==============================] - 2s 28us/step - loss: 1.2209 - acc: 0.6510 - val_loss: 1.1974 - val_acc: 0.6542\n",
      "Epoch 5/20\n",
      "73892/73892 [==============================] - 2s 27us/step - loss: 1.1584 - acc: 0.6587 - val_loss: 1.1399 - val_acc: 0.6568\n",
      "Epoch 6/20\n",
      "73892/73892 [==============================] - 2s 27us/step - loss: 1.1125 - acc: 0.6635 - val_loss: 1.1002 - val_acc: 0.6657\n",
      "Epoch 7/20\n",
      "73892/73892 [==============================] - 2s 27us/step - loss: 1.0715 - acc: 0.6697 - val_loss: 1.0759 - val_acc: 0.6630\n",
      "Epoch 8/20\n",
      "73892/73892 [==============================] - 2s 27us/step - loss: 1.0438 - acc: 0.6727 - val_loss: 1.0374 - val_acc: 0.6724\n",
      "Epoch 9/20\n",
      "73892/73892 [==============================] - 2s 27us/step - loss: 1.0202 - acc: 0.6752 - val_loss: 1.0230 - val_acc: 0.6721\n",
      "Epoch 10/20\n",
      "73892/73892 [==============================] - 2s 27us/step - loss: 0.9954 - acc: 0.6803 - val_loss: 0.9961 - val_acc: 0.6814\n",
      "Epoch 11/20\n",
      "73892/73892 [==============================] - 2s 27us/step - loss: 0.9758 - acc: 0.6841 - val_loss: 0.9932 - val_acc: 0.6753\n",
      "Epoch 12/20\n",
      "73892/73892 [==============================] - 2s 27us/step - loss: 0.9595 - acc: 0.6883 - val_loss: 0.9605 - val_acc: 0.6962\n",
      "Epoch 13/20\n",
      "73892/73892 [==============================] - 2s 27us/step - loss: 0.9406 - acc: 0.6940 - val_loss: 0.9444 - val_acc: 0.6883\n",
      "Epoch 14/20\n",
      "73892/73892 [==============================] - 2s 28us/step - loss: 0.9222 - acc: 0.6992 - val_loss: 0.9265 - val_acc: 0.6990\n",
      "Epoch 15/20\n",
      "73892/73892 [==============================] - 2s 27us/step - loss: 0.9085 - acc: 0.7039 - val_loss: 0.9446 - val_acc: 0.6935\n",
      "Epoch 16/20\n",
      "73892/73892 [==============================] - 2s 27us/step - loss: 0.8927 - acc: 0.7100 - val_loss: 0.8905 - val_acc: 0.7188\n",
      "Epoch 17/20\n",
      "73892/73892 [==============================] - 2s 27us/step - loss: 0.8789 - acc: 0.7164 - val_loss: 0.9112 - val_acc: 0.7066\n",
      "Epoch 18/20\n",
      "73892/73892 [==============================] - 2s 27us/step - loss: 0.8576 - acc: 0.7268 - val_loss: 0.8641 - val_acc: 0.7249\n",
      "Epoch 19/20\n",
      "73892/73892 [==============================] - 2s 27us/step - loss: 0.8335 - acc: 0.7371 - val_loss: 0.8323 - val_acc: 0.7396\n",
      "Epoch 20/20\n",
      "73892/73892 [==============================] - 2s 27us/step - loss: 0.8075 - acc: 0.7467 - val_loss: 0.8164 - val_acc: 0.7449\n"
     ]
    },
    {
     "data": {
      "image/png": "[encoded data removed]",
      "text/plain": [
       "<Figure size 432x288 with 1 Axes>"
      ]
     },
     "metadata": {
      "needs_background": "light"
     },
     "output_type": "display_data"
    },
    {
     "data": {
      "image/png": "[encoded data removed]",
      "text/plain": [
       "<Figure size 432x288 with 1 Axes>"
      ]
     },
     "metadata": {
      "needs_background": "light"
     },
     "output_type": "display_data"
    },
    {
     "name": "stdout",
     "output_type": "stream",
     "text": [
      "son fruit préféré est moins la mangue mais leur moins préféré est la citron <PAD> <PAD> <PAD> <PAD> <PAD> <PAD> <PAD>\n"
     ]
    }
   ],
   "source": [
    "def simple_model(input_shape, output_sequence_length, english_vocab_size, french_vocab_size):\n",
    "    \"\"\"\n",
    "    Build and train a basic RNN on x and y\n",
    "    :param input_shape: Tuple of input shape\n",
    "    :param output_sequence_length: Length of output sequence\n",
    "    :param english_vocab_size: Number of unique English words in the dataset\n",
    "    :param french_vocab_size: Number of unique French words in the dataset\n",
    "    :return: Keras model built, but not trained\n",
    "    \"\"\"\n",
    "    # TODO: Build the layers\n",
    "    input_seq = Input(input_shape[1:])\n",
    "    rnn = GRU(latent_dim, return_sequences=True, dropout=dropout_ratio)(input_seq)\n",
    "    logits = TimeDistributed(Dense(french_vocab_size))(rnn)\n",
    "\n",
    "    model = Model(input_seq, Activation('softmax')(logits))\n",
    "    model.compile(loss=sparse_categorical_crossentropy,\n",
    "                  optimizer=Adam(learning_rate),\n",
    "                  metrics=['accuracy'])\n",
    "    return model\n",
    "    \n",
    "tests.test_simple_model(simple_model)\n",
    "\n",
    "# Reshaping the input to work with a basic RNN\n",
    "tmp_x = pad(train_english_sentences, max_french_sequence_length)\n",
    "tmp_x = tmp_x.reshape((-1, max_french_sequence_length, 1))\n",
    "\n",
    "# Train the neural network\n",
    "simple_rnn_model = simple_model(\n",
    "    tmp_x.shape,\n",
    "    max_french_sequence_length,\n",
    "    english_vocab_size,\n",
    "    french_vocab_size)\n",
    "simple_rnn_model.summary()\n",
    "simple_rnn_model_history = simple_rnn_model.fit(tmp_x, train_french_sentences, batch_size=batch_size, epochs=num_epochs, validation_split=val_ratio)\n",
    "plot_history(simple_rnn_model_history)\n",
    "\n",
    "# Print prediction(s)\n",
    "print(logits_to_text(simple_rnn_model.predict(tmp_x[:1])[0], french_tokenizer))"
   ]
  },
  {
   "cell_type": "markdown",
   "metadata": {},
   "source": [
    "#### Evaluate Test Accuracy"
   ]
  },
  {
   "cell_type": "code",
   "execution_count": 753,
   "metadata": {},
   "outputs": [
    {
     "name": "stdout",
     "output_type": "stream",
     "text": [
      "45495/45495 [==============================] - 1s 11us/step\n",
      "loss: nan, accuracy: 0.748\n"
     ]
    }
   ],
   "source": [
    "tmp_x = pad(test_english_sentences, max_french_sequence_length)\n",
    "tmp_x = tmp_x.reshape((-1, max_french_sequence_length, 1))\n",
    "\n",
    "_loss, _acc = simple_rnn_model.evaluate(tmp_x, test_french_sentences, batch_size=batch_size, verbose=True)\n",
    "print(f'loss: {_loss:.3f}, accuracy: {_acc:.3f}')"
   ]
  },
  {
   "cell_type": "markdown",
   "metadata": {},
   "source": [
    "### Model 2: Embedding (IMPLEMENTATION)\n",
    "![RNN](images/embedding.png)\n",
    "You've turned the words into ids, but there's a better representation of a word.  This is called word embeddings.  An embedding is a vector representation of the word that is close to similar words in n-dimensional space, where the n represents the size of the embedding vectors.\n",
    "\n",
    "In this model, you'll create a RNN model using embedding."
   ]
  },
  {
   "cell_type": "code",
   "execution_count": 754,
   "metadata": {},
   "outputs": [
    {
     "name": "stdout",
     "output_type": "stream",
     "text": [
      "_________________________________________________________________\n",
      "Layer (type)                 Output Shape              Param #   \n",
      "=================================================================\n",
      "input_386 (InputLayer)       (None, 21)                0         \n",
      "_________________________________________________________________\n",
      "embedding_164 (Embedding)    (None, 21, 128)           25472     \n",
      "_________________________________________________________________\n",
      "gru_535 (GRU)                (None, 21, 128)           98688     \n",
      "_________________________________________________________________\n",
      "time_distributed_349 (TimeDi (None, 21, 344)           44376     \n",
      "_________________________________________________________________\n",
      "activation_347 (Activation)  (None, 21, 344)           0         \n",
      "=================================================================\n",
      "Total params: 168,536\n",
      "Trainable params: 168,536\n",
      "Non-trainable params: 0\n",
      "_________________________________________________________________\n",
      "Train on 73892 samples, validate on 18474 samples\n",
      "Epoch 1/20\n",
      "73892/73892 [==============================] - 54s 728us/step - loss: 2.6428 - acc: 0.4788 - val_loss: 1.4887 - val_acc: 0.6297\n",
      "Epoch 2/20\n",
      "73892/73892 [==============================] - 2s 29us/step - loss: 1.0105 - acc: 0.7336 - val_loss: 0.7035 - val_acc: 0.7978\n",
      "Epoch 3/20\n",
      "73892/73892 [==============================] - 2s 30us/step - loss: 0.5771 - acc: 0.8270 - val_loss: 0.4869 - val_acc: 0.8510\n",
      "Epoch 4/20\n",
      "73892/73892 [==============================] - 2s 30us/step - loss: 0.4251 - acc: 0.8685 - val_loss: 0.3845 - val_acc: 0.8812\n",
      "Epoch 5/20\n",
      "73892/73892 [==============================] - 2s 30us/step - loss: 0.3466 - acc: 0.8915 - val_loss: 0.3260 - val_acc: 0.8976\n",
      "Epoch 6/20\n",
      "73892/73892 [==============================] - 2s 29us/step - loss: 0.3031 - acc: 0.9041 - val_loss: 0.2931 - val_acc: 0.9081\n",
      "Epoch 7/20\n",
      "73892/73892 [==============================] - 2s 29us/step - loss: 0.2716 - acc: 0.9132 - val_loss: 0.2750 - val_acc: 0.9124\n",
      "Epoch 8/20\n",
      "73892/73892 [==============================] - 2s 30us/step - loss: 0.2532 - acc: 0.9181 - val_loss: 0.2645 - val_acc: 0.9156\n",
      "Epoch 9/20\n",
      "73892/73892 [==============================] - 2s 30us/step - loss: 0.2404 - acc: 0.9211 - val_loss: 0.2491 - val_acc: 0.9202\n",
      "Epoch 10/20\n",
      "73892/73892 [==============================] - 2s 29us/step - loss: 0.2270 - acc: 0.9249 - val_loss: 0.2439 - val_acc: 0.9210\n",
      "Epoch 11/20\n",
      "73892/73892 [==============================] - 2s 29us/step - loss: 0.2200 - acc: 0.9265 - val_loss: 0.2378 - val_acc: 0.9228\n",
      "Epoch 12/20\n",
      "73892/73892 [==============================] - 2s 30us/step - loss: 0.2109 - acc: 0.9289 - val_loss: 0.2256 - val_acc: 0.9259\n",
      "Epoch 13/20\n",
      "73892/73892 [==============================] - 2s 30us/step - loss: 0.2068 - acc: 0.9297 - val_loss: 0.2191 - val_acc: 0.9280\n",
      "Epoch 14/20\n",
      "73892/73892 [==============================] - 2s 29us/step - loss: 0.2012 - acc: 0.9314 - val_loss: 0.2178 - val_acc: 0.9280\n",
      "Epoch 15/20\n",
      "73892/73892 [==============================] - 2s 30us/step - loss: 0.1946 - acc: 0.9330 - val_loss: 0.2171 - val_acc: 0.9279\n",
      "Epoch 16/20\n",
      "73892/73892 [==============================] - 2s 29us/step - loss: 0.1926 - acc: 0.9335 - val_loss: 0.2084 - val_acc: 0.9308\n",
      "Epoch 17/20\n",
      "73892/73892 [==============================] - 2s 29us/step - loss: 0.1907 - acc: 0.9337 - val_loss: 0.2100 - val_acc: 0.9301\n",
      "Epoch 18/20\n",
      "73892/73892 [==============================] - 2s 30us/step - loss: 0.1946 - acc: 0.9326 - val_loss: 0.2077 - val_acc: 0.9306\n",
      "Epoch 19/20\n",
      "73892/73892 [==============================] - 2s 30us/step - loss: 0.1855 - acc: 0.9350 - val_loss: 0.2037 - val_acc: 0.9320\n",
      "Epoch 20/20\n",
      "73892/73892 [==============================] - 2s 30us/step - loss: 0.1805 - acc: 0.9364 - val_loss: 0.2008 - val_acc: 0.9328\n"
     ]
    },
    {
     "data": {
      "image/png": "[encoded data removed]",
      "text/plain": [
       "<Figure size 432x288 with 1 Axes>"
      ]
     },
     "metadata": {
      "needs_background": "light"
     },
     "output_type": "display_data"
    },
    {
     "data": {
      "image/png": "[encoded data removed]",
      "text/plain": [
       "<Figure size 432x288 with 1 Axes>"
      ]
     },
     "metadata": {
      "needs_background": "light"
     },
     "output_type": "display_data"
    },
    {
     "name": "stdout",
     "output_type": "stream",
     "text": [
      "son fruit préféré est moins la mangue mais leur moins préféré est la banane <PAD> <PAD> <PAD> <PAD> <PAD> <PAD> <PAD>\n"
     ]
    }
   ],
   "source": [
    "def embed_model(input_shape, output_sequence_length, english_vocab_size, french_vocab_size):\n",
    "    \"\"\"\n",
    "    Build and train a RNN model using word embedding on x and y\n",
    "    :param input_shape: Tuple of input shape\n",
    "    :param output_sequence_length: Length of output sequence\n",
    "    :param english_vocab_size: Number of unique English words in the dataset\n",
    "    :param french_vocab_size: Number of unique French words in the dataset\n",
    "    :return: Keras model built, but not trained\n",
    "    \"\"\"\n",
    "    # TODO: Implement\n",
    "    input_seq = Input(shape=input_shape[1:])\n",
    "    input_emb = Embedding(english_vocab_size, embedding_size, input_length=input_shape[1])(input_seq)\n",
    "    rnn = GRU(latent_dim, return_sequences=True, dropout=dropout_ratio)(input_emb)\n",
    "    logits = TimeDistributed(Dense(french_vocab_size))(rnn)\n",
    "\n",
    "    model = Model(input_seq, Activation('softmax')(logits))\n",
    "    model.compile(loss=sparse_categorical_crossentropy,\n",
    "                  optimizer=Adam(learning_rate),\n",
    "                  metrics=['accuracy'])\n",
    "    return model\n",
    "\n",
    "tests.test_embed_model(embed_model)\n",
    "\n",
    "\n",
    "# TODO: Reshape the input\n",
    "tmp_x = pad(train_english_sentences, max_french_sequence_length)\n",
    "tmp_x = tmp_x.reshape((-1, preproc_french_sentences.shape[-2]))\n",
    "\n",
    "# TODO: Train the neural network\n",
    "simple_embed_model = embed_model(\n",
    "    tmp_x.shape,\n",
    "    max_french_sequence_length,\n",
    "    english_vocab_size,\n",
    "    french_vocab_size)\n",
    "simple_embed_model.summary()\n",
    "simple_embed_model_history = simple_embed_model.fit(tmp_x, train_french_sentences, batch_size=batch_size, epochs=num_epochs, validation_split=val_ratio)\n",
    "plot_history(simple_embed_model_history)\n",
    "\n",
    "# TODO: Print prediction(s)\n",
    "print(logits_to_text(simple_embed_model.predict(tmp_x[:1])[0], french_tokenizer))"
   ]
  },
  {
   "cell_type": "markdown",
   "metadata": {},
   "source": [
    "#### Evaluate Test Accuracy"
   ]
  },
  {
   "cell_type": "code",
   "execution_count": 755,
   "metadata": {},
   "outputs": [
    {
     "name": "stdout",
     "output_type": "stream",
     "text": [
      "45495/45495 [==============================] - 1s 12us/step\n",
      "loss: nan, accuracy: 0.933\n"
     ]
    }
   ],
   "source": [
    "tmp_x = pad(test_english_sentences, max_french_sequence_length)\n",
    "tmp_x = tmp_x.reshape((-1, max_french_sequence_length))\n",
    "\n",
    "_loss, _acc = simple_embed_model.evaluate(tmp_x, test_french_sentences, batch_size=batch_size, verbose=True)\n",
    "print(f'loss: {_loss:.3f}, accuracy: {_acc:.3f}')"
   ]
  },
  {
   "cell_type": "markdown",
   "metadata": {},
   "source": [
    "### Model 3: Bidirectional RNNs (IMPLEMENTATION)\n",
    "![RNN](images/bidirectional.png)\n",
    "One restriction of a RNN is that it can't see the future input, only the past.  This is where bidirectional recurrent neural networks come in.  They are able to see the future data."
   ]
  },
  {
   "cell_type": "code",
   "execution_count": 756,
   "metadata": {},
   "outputs": [
    {
     "name": "stdout",
     "output_type": "stream",
     "text": [
      "_________________________________________________________________\n",
      "Layer (type)                 Output Shape              Param #   \n",
      "=================================================================\n",
      "input_388 (InputLayer)       (None, 21, 1)             0         \n",
      "_________________________________________________________________\n",
      "bidirectional_249 (Bidirecti (None, 21, 256)           99840     \n",
      "_________________________________________________________________\n",
      "time_distributed_351 (TimeDi (None, 21, 344)           88408     \n",
      "_________________________________________________________________\n",
      "activation_349 (Activation)  (None, 21, 344)           0         \n",
      "=================================================================\n",
      "Total params: 188,248\n",
      "Trainable params: 188,248\n",
      "Non-trainable params: 0\n",
      "_________________________________________________________________\n",
      "Train on 73892 samples, validate on 18474 samples\n",
      "Epoch 1/20\n",
      "73892/73892 [==============================] - 55s 749us/step - loss: 1.9846 - acc: 0.5605 - val_loss: 1.3856 - val_acc: 0.6206\n",
      "Epoch 2/20\n",
      "73892/73892 [==============================] - 3s 41us/step - loss: 1.2725 - acc: 0.6405 - val_loss: 1.1993 - val_acc: 0.6569\n",
      "Epoch 3/20\n",
      "73892/73892 [==============================] - 3s 42us/step - loss: 1.1372 - acc: 0.6655 - val_loss: 1.0979 - val_acc: 0.6700\n",
      "Epoch 4/20\n",
      "73892/73892 [==============================] - 3s 41us/step - loss: 1.0526 - acc: 0.6802 - val_loss: 1.0248 - val_acc: 0.6875\n",
      "Epoch 5/20\n",
      "73892/73892 [==============================] - 3s 42us/step - loss: 0.9910 - acc: 0.6905 - val_loss: 0.9765 - val_acc: 0.6921\n",
      "Epoch 6/20\n",
      "73892/73892 [==============================] - 3s 41us/step - loss: 0.9552 - acc: 0.6949 - val_loss: 0.9423 - val_acc: 0.6960\n",
      "Epoch 7/20\n",
      "73892/73892 [==============================] - 3s 41us/step - loss: 0.9089 - acc: 0.7041 - val_loss: 0.8987 - val_acc: 0.7016\n",
      "Epoch 8/20\n",
      "73892/73892 [==============================] - 3s 41us/step - loss: 0.8793 - acc: 0.7092 - val_loss: 0.8878 - val_acc: 0.7050\n",
      "Epoch 9/20\n",
      "73892/73892 [==============================] - 3s 41us/step - loss: 0.8636 - acc: 0.7117 - val_loss: 0.8511 - val_acc: 0.7142\n",
      "Epoch 10/20\n",
      "73892/73892 [==============================] - 3s 41us/step - loss: 0.8324 - acc: 0.7185 - val_loss: 0.8375 - val_acc: 0.7172\n",
      "Epoch 11/20\n",
      "73892/73892 [==============================] - 3s 41us/step - loss: 0.8163 - acc: 0.7218 - val_loss: 0.8263 - val_acc: 0.7164\n",
      "Epoch 12/20\n",
      "73892/73892 [==============================] - 3s 41us/step - loss: 0.7975 - acc: 0.7273 - val_loss: 0.8053 - val_acc: 0.7245\n",
      "Epoch 13/20\n",
      "73892/73892 [==============================] - 3s 42us/step - loss: 0.7794 - acc: 0.7331 - val_loss: 0.7957 - val_acc: 0.7267\n",
      "Epoch 14/20\n",
      "73892/73892 [==============================] - 3s 41us/step - loss: 0.7624 - acc: 0.7399 - val_loss: 0.7681 - val_acc: 0.7399\n",
      "Epoch 15/20\n",
      "73892/73892 [==============================] - 3s 43us/step - loss: 0.7503 - acc: 0.7441 - val_loss: 0.7477 - val_acc: 0.7452\n",
      "Epoch 16/20\n",
      "73892/73892 [==============================] - 3s 41us/step - loss: 0.7277 - acc: 0.7540 - val_loss: 0.7315 - val_acc: 0.7521\n",
      "Epoch 17/20\n",
      "73892/73892 [==============================] - 3s 41us/step - loss: 0.7109 - acc: 0.7607 - val_loss: 0.7173 - val_acc: 0.7545\n",
      "Epoch 18/20\n",
      "73892/73892 [==============================] - 3s 41us/step - loss: 0.6894 - acc: 0.7694 - val_loss: 0.6905 - val_acc: 0.7705\n",
      "Epoch 19/20\n",
      "73892/73892 [==============================] - 3s 41us/step - loss: 0.6767 - acc: 0.7739 - val_loss: 0.6834 - val_acc: 0.7705\n",
      "Epoch 20/20\n",
      "73892/73892 [==============================] - 3s 40us/step - loss: 0.6620 - acc: 0.7797 - val_loss: 0.6924 - val_acc: 0.7678\n"
     ]
    },
    {
     "data": {
      "image/png": "[encoded data removed]",
      "text/plain": [
       "<Figure size 432x288 with 1 Axes>"
      ]
     },
     "metadata": {
      "needs_background": "light"
     },
     "output_type": "display_data"
    },
    {
     "data": {
      "image/png": "[encoded data removed]",
      "text/plain": [
       "<Figure size 432x288 with 1 Axes>"
      ]
     },
     "metadata": {
      "needs_background": "light"
     },
     "output_type": "display_data"
    },
    {
     "name": "stdout",
     "output_type": "stream",
     "text": [
      "son fruit préféré est moins la mangue mais leur moins préféré est la banane <PAD> <PAD> <PAD> <PAD> <PAD> <PAD> <PAD>\n"
     ]
    }
   ],
   "source": [
    "def bd_model(input_shape, output_sequence_length, english_vocab_size, french_vocab_size):\n",
    "    \"\"\"\n",
    "    Build and train a bidirectional RNN model on x and y\n",
    "    :param input_shape: Tuple of input shape\n",
    "    :param output_sequence_length: Length of output sequence\n",
    "    :param english_vocab_size: Number of unique English words in the dataset\n",
    "    :param french_vocab_size: Number of unique French words in the dataset\n",
    "    :return: Keras model built, but not trained\n",
    "    \"\"\"\n",
    "    # TODO: Implement\n",
    "    # learning_rate = 1e-3\n",
    "\n",
    "    input_seq = Input(input_shape[1:])\n",
    "    rnn = Bidirectional(GRU(latent_dim, return_sequences=True, dropout=dropout_ratio))(input_seq)\n",
    "    logits = TimeDistributed(Dense(french_vocab_size))(rnn)\n",
    "\n",
    "    model = Model(input_seq, Activation('softmax')(logits))\n",
    "    model.compile(loss=sparse_categorical_crossentropy,\n",
    "                  optimizer=Adam(learning_rate),\n",
    "                  metrics=['accuracy'])\n",
    "    return model\n",
    "\n",
    "tests.test_bd_model(bd_model)\n",
    "\n",
    "# TODO: Reshape the input\n",
    "tmp_x = pad(train_english_sentences, max_french_sequence_length)\n",
    "tmp_x = tmp_x.reshape((-1, max_french_sequence_length, 1))\n",
    "\n",
    "# TODO: Train the neural network\n",
    "simple_bd_model = bd_model(\n",
    "    tmp_x.shape,\n",
    "    max_french_sequence_length,\n",
    "    english_vocab_size,\n",
    "    french_vocab_size)\n",
    "simple_bd_model.summary()\n",
    "simple_bd_model_history = simple_bd_model.fit(tmp_x, train_french_sentences, batch_size=batch_size, epochs=num_epochs, validation_split=val_ratio)\n",
    "plot_history(simple_bd_model_history)\n",
    "\n",
    "# TODO: Print prediction(s)\n",
    "print(logits_to_text(simple_bd_model.predict(tmp_x[:1])[0], french_tokenizer))"
   ]
  },
  {
   "cell_type": "markdown",
   "metadata": {},
   "source": [
    "#### Evaluate Test Accuracy"
   ]
  },
  {
   "cell_type": "code",
   "execution_count": 757,
   "metadata": {},
   "outputs": [
    {
     "name": "stdout",
     "output_type": "stream",
     "text": [
      "45495/45495 [==============================] - 1s 15us/step\n",
      "loss: nan, accuracy: 0.771\n"
     ]
    }
   ],
   "source": [
    "tmp_x = pad(test_english_sentences, max_french_sequence_length)\n",
    "tmp_x = tmp_x.reshape((-1, max_french_sequence_length, 1))\n",
    "\n",
    "_loss, _acc = simple_bd_model.evaluate(tmp_x, test_french_sentences, batch_size=batch_size, verbose=True)\n",
    "print(f'loss: {_loss:.3f}, accuracy: {_acc:.3f}')"
   ]
  },
  {
   "cell_type": "markdown",
   "metadata": {},
   "source": [
    "### Model 4: Encoder-Decoder (IMPLEMENTATION)\n",
    "Time to look at encoder-decoder models.  This model is made up of an encoder and decoder. The encoder creates a matrix representation of the sentence.  The decoder takes this matrix as input and predicts the translation as output.\n",
    "\n",
    "Create an encoder-decoder model in the cell below."
   ]
  },
  {
   "cell_type": "code",
   "execution_count": 758,
   "metadata": {},
   "outputs": [
    {
     "name": "stdout",
     "output_type": "stream",
     "text": [
      "__________________________________________________________________________________________________\n",
      "Layer (type)                    Output Shape         Param #     Connected to                     \n",
      "==================================================================================================\n",
      "input_390 (InputLayer)          (None, 21, 1)        0                                            \n",
      "__________________________________________________________________________________________________\n",
      "gru_540 (GRU)                   [(None, 128), (None, 49920       input_390[0][0]                  \n",
      "__________________________________________________________________________________________________\n",
      "repeat_vector_156 (RepeatVector (None, 21, 128)      0           gru_540[0][0]                    \n",
      "__________________________________________________________________________________________________\n",
      "gru_541 (GRU)                   (None, 21, 128)      98688       repeat_vector_156[0][0]          \n",
      "                                                                 gru_540[0][1]                    \n",
      "__________________________________________________________________________________________________\n",
      "time_distributed_353 (TimeDistr (None, 21, 344)      44376       gru_541[0][0]                    \n",
      "__________________________________________________________________________________________________\n",
      "activation_351 (Activation)     (None, 21, 344)      0           time_distributed_353[0][0]       \n",
      "==================================================================================================\n",
      "Total params: 192,984\n",
      "Trainable params: 192,984\n",
      "Non-trainable params: 0\n",
      "__________________________________________________________________________________________________\n",
      "Train on 73892 samples, validate on 18474 samples\n",
      "Epoch 1/20\n",
      "73892/73892 [==============================] - 56s 760us/step - loss: 2.7105 - acc: 0.4589 - val_loss: 2.0632 - val_acc: 0.5282\n",
      "Epoch 2/20\n",
      "73892/73892 [==============================] - 3s 46us/step - loss: 1.8079 - acc: 0.5552 - val_loss: 1.6707 - val_acc: 0.5618\n",
      "Epoch 3/20\n",
      "73892/73892 [==============================] - 3s 45us/step - loss: 1.5494 - acc: 0.5904 - val_loss: 1.4845 - val_acc: 0.6022\n",
      "Epoch 4/20\n",
      "73892/73892 [==============================] - 3s 46us/step - loss: 1.4233 - acc: 0.6102 - val_loss: 1.3671 - val_acc: 0.6202\n",
      "Epoch 5/20\n",
      "73892/73892 [==============================] - 3s 45us/step - loss: 1.3309 - acc: 0.6278 - val_loss: 1.2918 - val_acc: 0.6367\n",
      "Epoch 6/20\n",
      "73892/73892 [==============================] - 3s 45us/step - loss: 1.2642 - acc: 0.6417 - val_loss: 1.2603 - val_acc: 0.6404\n",
      "Epoch 7/20\n",
      "73892/73892 [==============================] - 3s 45us/step - loss: 1.2464 - acc: 0.6439 - val_loss: 1.2793 - val_acc: 0.6317\n",
      "Epoch 8/20\n",
      "73892/73892 [==============================] - 3s 45us/step - loss: 1.1960 - acc: 0.6559 - val_loss: 1.1769 - val_acc: 0.6587\n",
      "Epoch 9/20\n",
      "73892/73892 [==============================] - 3s 45us/step - loss: 1.1853 - acc: 0.6578 - val_loss: 1.1954 - val_acc: 0.6550\n",
      "Epoch 10/20\n",
      "73892/73892 [==============================] - 3s 46us/step - loss: 1.1477 - acc: 0.6657 - val_loss: 1.1199 - val_acc: 0.6736\n",
      "Epoch 11/20\n",
      "73892/73892 [==============================] - 3s 46us/step - loss: 1.0954 - acc: 0.6794 - val_loss: 1.1875 - val_acc: 0.6527\n",
      "Epoch 12/20\n",
      "73892/73892 [==============================] - 3s 46us/step - loss: 1.1275 - acc: 0.6681 - val_loss: 1.0811 - val_acc: 0.6830\n",
      "Epoch 13/20\n",
      "73892/73892 [==============================] - 3s 45us/step - loss: 1.1027 - acc: 0.6750 - val_loss: 1.0852 - val_acc: 0.6822\n",
      "Epoch 14/20\n",
      "73892/73892 [==============================] - 3s 46us/step - loss: 1.1176 - acc: 0.6718 - val_loss: 1.0635 - val_acc: 0.6886\n",
      "Epoch 15/20\n",
      "73892/73892 [==============================] - 3s 46us/step - loss: 1.0321 - acc: 0.6961 - val_loss: 1.0316 - val_acc: 0.6952\n",
      "Epoch 16/20\n",
      "73892/73892 [==============================] - 3s 45us/step - loss: 1.0274 - acc: 0.6971 - val_loss: 1.2508 - val_acc: 0.6557\n",
      "Epoch 17/20\n",
      "73892/73892 [==============================] - 3s 46us/step - loss: 1.0622 - acc: 0.6856 - val_loss: 1.0222 - val_acc: 0.6933\n",
      "Epoch 18/20\n",
      "73892/73892 [==============================] - 3s 46us/step - loss: 1.0890 - acc: 0.6800 - val_loss: 1.0511 - val_acc: 0.6884\n",
      "Epoch 19/20\n",
      "73892/73892 [==============================] - 3s 45us/step - loss: 1.0655 - acc: 0.6828 - val_loss: 1.1013 - val_acc: 0.6710\n",
      "Epoch 20/20\n",
      "73892/73892 [==============================] - 3s 46us/step - loss: 1.0038 - acc: 0.6972 - val_loss: 0.9923 - val_acc: 0.7003\n"
     ]
    },
    {
     "data": {
      "image/png": "[encoded data removed]",
      "text/plain": [
       "<Figure size 432x288 with 1 Axes>"
      ]
     },
     "metadata": {
      "needs_background": "light"
     },
     "output_type": "display_data"
    },
    {
     "data": {
      "image/png": "[encoded data removed]",
      "text/plain": [
       "<Figure size 432x288 with 1 Axes>"
      ]
     },
     "metadata": {
      "needs_background": "light"
     },
     "output_type": "display_data"
    },
    {
     "name": "stdout",
     "output_type": "stream",
     "text": [
      "son fruit préféré est moins la citron mais notre moins préféré est la <PAD> <PAD> <PAD> <PAD> <PAD> <PAD> <PAD> <PAD>\n"
     ]
    }
   ],
   "source": [
    "def encdec_model(input_shape, output_sequence_length, english_vocab_size, french_vocab_size):\n",
    "    \"\"\"\n",
    "    Build and train an encoder-decoder model on x and y\n",
    "    :param input_shape: Tuple of input shape\n",
    "    :param output_sequence_length: Length of output sequence\n",
    "    :param english_vocab_size: Number of unique English words in the dataset\n",
    "    :param french_vocab_size: Number of unique French words in the dataset\n",
    "    :return: Keras model built, but not trained\n",
    "    \"\"\"\n",
    "    # TODO: Implement\n",
    "    encoder_inputs = Input(input_shape[1:])\n",
    "    encoder_output, state_h = GRU(latent_dim, return_state=True, dropout=dropout_ratio)(encoder_inputs)\n",
    "    \n",
    "    decoder_inputs = RepeatVector(output_sequence_length)(encoder_output)\n",
    "    decoder_output = GRU(latent_dim, return_sequences=True, dropout=dropout_ratio)(decoder_inputs, initial_state=state_h)\n",
    "    logits = TimeDistributed(Dense(french_vocab_size))(decoder_output)\n",
    "\n",
    "    model = Model(encoder_inputs, Activation('softmax')(logits))\n",
    "    model.compile(loss=sparse_categorical_crossentropy,\n",
    "                  optimizer=Adam(learning_rate),\n",
    "                  metrics=['accuracy'])\n",
    "    return model\n",
    "    \n",
    "tests.test_encdec_model(encdec_model)\n",
    "\n",
    "# TODO: Reshape the input\n",
    "tmp_x = pad(train_english_sentences, max_french_sequence_length)\n",
    "tmp_x = tmp_x.reshape((-1, max_french_sequence_length, 1))\n",
    "\n",
    "# TODO: Train the neural network\n",
    "simple_encdec_model = encdec_model(\n",
    "    tmp_x.shape,\n",
    "    max_french_sequence_length,\n",
    "    english_vocab_size,\n",
    "    french_vocab_size)\n",
    "simple_encdec_model.summary()\n",
    "simple_encdec_model_history = simple_encdec_model.fit(tmp_x, train_french_sentences, batch_size=batch_size, epochs=num_epochs, validation_split=val_ratio)\n",
    "plot_history(simple_encdec_model_history)\n",
    "\n",
    "# TODO: Print prediction(s)\n",
    "print(logits_to_text(simple_encdec_model.predict(tmp_x[:1])[0], french_tokenizer))"
   ]
  },
  {
   "cell_type": "markdown",
   "metadata": {},
   "source": [
    "#### Evaluate Test Accuracy"
   ]
  },
  {
   "cell_type": "code",
   "execution_count": 759,
   "metadata": {},
   "outputs": [
    {
     "name": "stdout",
     "output_type": "stream",
     "text": [
      "45495/45495 [==============================] - 1s 15us/step\n",
      "loss: nan, accuracy: 0.703\n"
     ]
    }
   ],
   "source": [
    "tmp_x = pad(test_english_sentences, max_french_sequence_length)\n",
    "tmp_x = tmp_x.reshape((-1, max_french_sequence_length, 1))\n",
    "\n",
    "_loss, _acc = simple_encdec_model.evaluate(tmp_x, test_french_sentences, batch_size=batch_size, verbose=True)\n",
    "print(f'loss: {_loss:.3f}, accuracy: {_acc:.3f}')"
   ]
  },
  {
   "cell_type": "markdown",
   "metadata": {},
   "source": [
    "### Model 5: Custom (IMPLEMENTATION)\n",
    "Use everything you learned from the previous models to create a model that incorporates embedding and a bidirectional rnn into one model."
   ]
  },
  {
   "cell_type": "code",
   "execution_count": 760,
   "metadata": {},
   "outputs": [
    {
     "name": "stdout",
     "output_type": "stream",
     "text": [
      "Final Model Loaded\n",
      "__________________________________________________________________________________________________\n",
      "Layer (type)                    Output Shape         Param #     Connected to                     \n",
      "==================================================================================================\n",
      "input_392 (InputLayer)          (None, 21)           0                                            \n",
      "__________________________________________________________________________________________________\n",
      "embedding_166 (Embedding)       (None, 21, 128)      25472       input_392[0][0]                  \n",
      "__________________________________________________________________________________________________\n",
      "bidirectional_252 (Bidirectiona [(None, 256), (None, 197376      embedding_166[0][0]              \n",
      "__________________________________________________________________________________________________\n",
      "repeat_vector_158 (RepeatVector (None, 21, 256)      0           bidirectional_252[0][0]          \n",
      "__________________________________________________________________________________________________\n",
      "bidirectional_253 (Bidirectiona (None, 21, 256)      295680      repeat_vector_158[0][0]          \n",
      "                                                                 bidirectional_252[0][1]          \n",
      "                                                                 bidirectional_252[0][2]          \n",
      "__________________________________________________________________________________________________\n",
      "time_distributed_355 (TimeDistr (None, 21, 344)      88408       bidirectional_253[0][0]          \n",
      "__________________________________________________________________________________________________\n",
      "activation_353 (Activation)     (None, 21, 344)      0           time_distributed_355[0][0]       \n",
      "==================================================================================================\n",
      "Total params: 606,936\n",
      "Trainable params: 606,936\n",
      "Non-trainable params: 0\n",
      "__________________________________________________________________________________________________\n",
      "Train on 73892 samples, validate on 18474 samples\n",
      "Epoch 1/20\n",
      "73892/73892 [==============================] - 60s 810us/step - loss: 2.5628 - acc: 0.4603 - val_loss: 1.8176 - val_acc: 0.5553\n",
      "Epoch 2/20\n",
      "73892/73892 [==============================] - 6s 78us/step - loss: 1.5862 - acc: 0.5957 - val_loss: 1.3589 - val_acc: 0.6496\n",
      "Epoch 3/20\n",
      "73892/73892 [==============================] - 6s 79us/step - loss: 1.1785 - acc: 0.6842 - val_loss: 1.0357 - val_acc: 0.7181\n",
      "Epoch 4/20\n",
      "73892/73892 [==============================] - 6s 79us/step - loss: 0.9439 - acc: 0.7380 - val_loss: 0.8671 - val_acc: 0.7539\n",
      "Epoch 5/20\n",
      "73892/73892 [==============================] - 6s 79us/step - loss: 0.7749 - acc: 0.7767 - val_loss: 0.6971 - val_acc: 0.7947\n",
      "Epoch 6/20\n",
      "73892/73892 [==============================] - 6s 79us/step - loss: 0.5996 - acc: 0.8239 - val_loss: 0.8138 - val_acc: 0.7736\n",
      "Epoch 7/20\n",
      "73892/73892 [==============================] - 6s 80us/step - loss: 0.4889 - acc: 0.8558 - val_loss: 0.4227 - val_acc: 0.8753\n",
      "Epoch 8/20\n",
      "73892/73892 [==============================] - 6s 79us/step - loss: 0.3635 - acc: 0.8949 - val_loss: 0.3156 - val_acc: 0.9113\n",
      "Epoch 9/20\n",
      "73892/73892 [==============================] - 6s 79us/step - loss: 0.2718 - acc: 0.9248 - val_loss: 0.2839 - val_acc: 0.9187\n",
      "Epoch 10/20\n",
      "73892/73892 [==============================] - 6s 79us/step - loss: 0.2302 - acc: 0.9365 - val_loss: 0.2187 - val_acc: 0.9408\n",
      "Epoch 11/20\n",
      "73892/73892 [==============================] - 6s 80us/step - loss: 0.1949 - acc: 0.9465 - val_loss: 0.2244 - val_acc: 0.9364\n",
      "Epoch 12/20\n",
      "73892/73892 [==============================] - 6s 80us/step - loss: 0.1900 - acc: 0.9475 - val_loss: 0.1760 - val_acc: 0.9528\n",
      "Epoch 13/20\n",
      "73892/73892 [==============================] - 6s 79us/step - loss: 0.1530 - acc: 0.9580 - val_loss: 0.1494 - val_acc: 0.9596\n",
      "Epoch 14/20\n",
      "73892/73892 [==============================] - 6s 78us/step - loss: 0.1409 - acc: 0.9611 - val_loss: 0.1895 - val_acc: 0.9465\n",
      "Epoch 15/20\n",
      "73892/73892 [==============================] - 6s 79us/step - loss: 0.1423 - acc: 0.9600 - val_loss: 0.1550 - val_acc: 0.9575\n",
      "Epoch 16/20\n",
      "73892/73892 [==============================] - 6s 79us/step - loss: 0.1204 - acc: 0.9663 - val_loss: 0.1320 - val_acc: 0.9632\n",
      "Epoch 17/20\n",
      "73892/73892 [==============================] - 6s 79us/step - loss: 0.1027 - acc: 0.9711 - val_loss: 0.1177 - val_acc: 0.9674\n",
      "Epoch 18/20\n",
      "73892/73892 [==============================] - 6s 79us/step - loss: 0.0930 - acc: 0.9740 - val_loss: 0.1132 - val_acc: 0.9685\n",
      "Epoch 19/20\n",
      "73892/73892 [==============================] - 6s 79us/step - loss: 0.0812 - acc: 0.9774 - val_loss: 0.1155 - val_acc: 0.9681\n",
      "Epoch 20/20\n",
      "73892/73892 [==============================] - 6s 80us/step - loss: 0.1212 - acc: 0.9659 - val_loss: 0.2088 - val_acc: 0.9382\n"
     ]
    },
    {
     "data": {
      "image/png": "[encoded data removed]",
      "text/plain": [
       "<Figure size 432x288 with 1 Axes>"
      ]
     },
     "metadata": {
      "needs_background": "light"
     },
     "output_type": "display_data"
    },
    {
     "data": {
      "image/png": "[encoded data removed]",
      "text/plain": [
       "<Figure size 432x288 with 1 Axes>"
      ]
     },
     "metadata": {
      "needs_background": "light"
     },
     "output_type": "display_data"
    },
    {
     "name": "stdout",
     "output_type": "stream",
     "text": [
      "son fruit préféré est moins la mangue mais leur moins préféré est la banane <PAD> <PAD> <PAD> <PAD> <PAD> <PAD> <PAD>\n"
     ]
    }
   ],
   "source": [
    "def model_final(input_shape, output_sequence_length, english_vocab_size, french_vocab_size):\n",
    "    \"\"\"\n",
    "    Build and train a model that incorporates embedding, encoder-decoder, and bidirectional RNN on x and y\n",
    "    :param input_shape: Tuple of input shape\n",
    "    :param output_sequence_length: Length of output sequence\n",
    "    :param english_vocab_size: Number of unique English words in the dataset\n",
    "    :param french_vocab_size: Number of unique French words in the dataset\n",
    "    :return: Keras model built, but not trained\n",
    "    \"\"\"\n",
    "    # TODO: Implement\n",
    "    encoder_inputs = Input(input_shape[1:])\n",
    "    encoder_emb = Embedding(english_vocab_size, embedding_size, input_length=input_shape[1])(encoder_inputs)\n",
    "    encoder_output, state_h1, state_h2 = Bidirectional(GRU(latent_dim, return_state=True, dropout=dropout_ratio))(encoder_emb)\n",
    "\n",
    "    decoder_inputs = RepeatVector(output_sequence_length)(encoder_output)\n",
    "    decoder_output = Bidirectional(GRU(latent_dim, return_sequences=True, dropout=dropout_ratio))(decoder_inputs, initial_state=[state_h1, state_h2])\n",
    "    logits = TimeDistributed(Dense(french_vocab_size))(decoder_output)\n",
    "\n",
    "    model = Model(encoder_inputs, Activation('softmax')(logits))\n",
    "    model.compile(loss=sparse_categorical_crossentropy,\n",
    "                  optimizer=Adam(learning_rate),\n",
    "                  metrics=['accuracy'])\n",
    "    return model\n",
    "\n",
    "tests.test_model_final(model_final)\n",
    "\n",
    "# TODO: Reshape the input\n",
    "tmp_x = pad(train_english_sentences, max_french_sequence_length)\n",
    "tmp_x = tmp_x.reshape((-1, max_french_sequence_length))\n",
    "\n",
    "print('Final Model Loaded')\n",
    "# TODO: Train the final model\n",
    "simple_final_model = model_final(\n",
    "    tmp_x.shape,\n",
    "    max_french_sequence_length,\n",
    "    english_vocab_size,\n",
    "    french_vocab_size)\n",
    "simple_final_model.summary()\n",
    "simple_final_model_history = simple_final_model.fit(tmp_x, train_french_sentences, batch_size=batch_size, epochs=num_epochs, validation_split=val_ratio)\n",
    "plot_history(simple_final_model_history)\n",
    "\n",
    "# TODO: Print prediction(s)\n",
    "print(logits_to_text(simple_final_model.predict(tmp_x[:1])[0], french_tokenizer))\n"
   ]
  },
  {
   "cell_type": "markdown",
   "metadata": {},
   "source": [
    "#### Evaluate Test Accuracy"
   ]
  },
  {
   "cell_type": "code",
   "execution_count": 761,
   "metadata": {},
   "outputs": [
    {
     "name": "stdout",
     "output_type": "stream",
     "text": [
      "45495/45495 [==============================] - 1s 24us/step\n",
      "loss: nan, accuracy: 0.940\n"
     ]
    }
   ],
   "source": [
    "tmp_x = pad(test_english_sentences, max_french_sequence_length)\n",
    "tmp_x = tmp_x.reshape((-1, max_french_sequence_length))\n",
    "\n",
    "_loss, _acc = simple_final_model.evaluate(tmp_x, test_french_sentences, batch_size=batch_size, verbose=True)\n",
    "print(f'loss: {_loss:.3f}, accuracy: {_acc:.3f}')"
   ]
  },
  {
   "cell_type": "markdown",
   "metadata": {},
   "source": [
    "## Prediction (IMPLEMENTATION)"
   ]
  },
  {
   "cell_type": "code",
   "execution_count": 762,
   "metadata": {},
   "outputs": [
    {
     "name": "stdout",
     "output_type": "stream",
     "text": [
      "Train on 110288 samples, validate on 27573 samples\n",
      "Epoch 1/20\n",
      "110288/110288 [==============================] - 62s 565us/step - loss: 2.2555 - acc: 0.5054 - val_loss: nan - val_acc: 0.6188\n",
      "Epoch 2/20\n",
      "110288/110288 [==============================] - 8s 70us/step - loss: 1.1919 - acc: 0.6779 - val_loss: nan - val_acc: 0.7256\n",
      "Epoch 3/20\n",
      "110288/110288 [==============================] - 8s 70us/step - loss: 0.8432 - acc: 0.7548 - val_loss: nan - val_acc: 0.7876\n",
      "Epoch 4/20\n",
      "110288/110288 [==============================] - 8s 70us/step - loss: 0.6070 - acc: 0.8202 - val_loss: nan - val_acc: 0.8527\n",
      "Epoch 5/20\n",
      "110288/110288 [==============================] - 8s 71us/step - loss: 0.4118 - acc: 0.8802 - val_loss: nan - val_acc: 0.9088\n",
      "Epoch 6/20\n",
      "110288/110288 [==============================] - 8s 70us/step - loss: 0.2902 - acc: 0.9190 - val_loss: nan - val_acc: 0.9373\n",
      "Epoch 7/20\n",
      "110288/110288 [==============================] - 8s 70us/step - loss: 0.1936 - acc: 0.9468 - val_loss: nan - val_acc: 0.9409\n",
      "Epoch 8/20\n",
      "110288/110288 [==============================] - 8s 70us/step - loss: 0.1597 - acc: 0.9550 - val_loss: nan - val_acc: 0.9575\n",
      "Epoch 9/20\n",
      "110288/110288 [==============================] - 8s 71us/step - loss: 0.1316 - acc: 0.9628 - val_loss: nan - val_acc: 0.8697\n",
      "Epoch 10/20\n",
      "110288/110288 [==============================] - 8s 70us/step - loss: 0.1900 - acc: 0.9445 - val_loss: nan - val_acc: 0.9643\n",
      "Epoch 11/20\n",
      "110288/110288 [==============================] - 8s 71us/step - loss: 0.1044 - acc: 0.9703 - val_loss: nan - val_acc: 0.9683\n",
      "Epoch 12/20\n",
      "110288/110288 [==============================] - 8s 71us/step - loss: 0.0888 - acc: 0.9746 - val_loss: nan - val_acc: 0.9726\n",
      "Epoch 13/20\n",
      "110288/110288 [==============================] - 8s 70us/step - loss: 0.0762 - acc: 0.9783 - val_loss: nan - val_acc: 0.9735\n",
      "Epoch 14/20\n",
      "110288/110288 [==============================] - 8s 71us/step - loss: 0.0741 - acc: 0.9788 - val_loss: nan - val_acc: 0.9735\n",
      "Epoch 15/20\n",
      "110288/110288 [==============================] - 8s 71us/step - loss: 0.0729 - acc: 0.9788 - val_loss: nan - val_acc: 0.9721\n",
      "Epoch 16/20\n",
      "110288/110288 [==============================] - 8s 71us/step - loss: 0.0671 - acc: 0.9807 - val_loss: nan - val_acc: 0.9684\n",
      "Epoch 17/20\n",
      "110288/110288 [==============================] - 8s 71us/step - loss: 0.0716 - acc: 0.9790 - val_loss: nan - val_acc: 0.9740\n",
      "Epoch 18/20\n",
      "110288/110288 [==============================] - 8s 71us/step - loss: 0.0721 - acc: 0.9790 - val_loss: nan - val_acc: 0.9716\n",
      "Epoch 19/20\n",
      "110288/110288 [==============================] - 8s 70us/step - loss: 0.0659 - acc: 0.9809 - val_loss: nan - val_acc: 0.9746\n",
      "Epoch 20/20\n",
      "110288/110288 [==============================] - 8s 70us/step - loss: 0.0607 - acc: 0.9825 - val_loss: nan - val_acc: 0.9762\n",
      "Sample 1:\n",
      "il a vu un vieux camion jaune <PAD> <PAD> <PAD> <PAD> <PAD> <PAD> <PAD> <PAD> <PAD> <PAD> <PAD> <PAD> <PAD> <PAD>\n",
      "Il a vu un vieux camion jaune\n",
      "Sample 2:\n",
      "new jersey est parfois calme pendant l' automne et il est neigeux en avril <PAD> <PAD> <PAD> <PAD> <PAD> <PAD> <PAD>\n",
      "new jersey est parfois calme pendant l' automne et il est neigeux en avril <PAD> <PAD> <PAD> <PAD> <PAD> <PAD> <PAD>\n"
     ]
    }
   ],
   "source": [
    "def final_predictions(x, y, x_tk, y_tk):\n",
    "    \"\"\"\n",
    "    Gets predictions using the final model\n",
    "    :param x: Preprocessed English data\n",
    "    :param y: Preprocessed French data\n",
    "    :param x_tk: English tokenizer\n",
    "    :param y_tk: French tokenizer\n",
    "    \"\"\"\n",
    "    # TODO: Train neural network using model_final\n",
    "    x_tk_vocab_size = len(x_tk.word_index)\n",
    "    y_tk_vocab_size = len(y_tk.word_index)\n",
    "    model = model_final(x.shape, y.shape[1], x_tk_vocab_size, y_tk_vocab_size)\n",
    "    model.fit(x, y, batch_size=batch_size, epochs=num_epochs, validation_split=val_ratio)\n",
    "    \n",
    "    ## DON'T EDIT ANYTHING BELOW THIS LINE\n",
    "    y_id_to_word = {value: key for key, value in y_tk.word_index.items()}\n",
    "    y_id_to_word[0] = '<PAD>'\n",
    "    \n",
    "    sentence = 'he saw a old yellow truck'\n",
    "    sentence = [x_tk.word_index[word] for word in sentence.split()]\n",
    "    sentence = pad_sequences([sentence], maxlen=x.shape[-1], padding='post')\n",
    "    sentences = np.array([sentence[0], x[0]])\n",
    "    predictions = model.predict(sentences, len(sentences))\n",
    "\n",
    "    print('Sample 1:')\n",
    "    print(' '.join([y_id_to_word[np.argmax(x)] for x in predictions[0]]))\n",
    "    print('Il a vu un vieux camion jaune')\n",
    "    print('Sample 2:')\n",
    "    print(' '.join([y_id_to_word[np.argmax(x)] for x in predictions[1]]))\n",
    "    print(' '.join([y_id_to_word[np.max(x)] for x in y[0]]))\n",
    "\n",
    "\n",
    "final_predictions(preproc_english_sentences, preproc_french_sentences, english_tokenizer, french_tokenizer)"
   ]
  },
  {
   "cell_type": "markdown",
   "metadata": {},
   "source": [
    "## Submission\n",
    "When you're ready to submit, complete the following steps:\n",
    "1. Review the rubric to ensure your submission meets all requirements to pass\n",
    "2. Generate an HTML version of this notebook\n",
    "\n",
    "  - Run the next cell to attempt automatic generation (this is the recommended method in Workspaces)\n",
    "  - Navigate to **FILE -> Download as -> HTML (.html)**\n",
    "  - Manually generate a copy using `nbconvert` from your shell terminal\n",
    "```\n",
    "$ pip install nbconvert\n",
    "$ python -m nbconvert machine_translation.ipynb\n",
    "```\n",
    "  \n",
    "3. Submit the project\n",
    "\n",
    "  - If you are in a Workspace, simply click the \"Submit Project\" button (bottom towards the right)\n",
    "  \n",
    "  - Otherwise, add the following files into a zip archive and submit them \n",
    "  - `helper.py`\n",
    "  - `machine_translation.ipynb`\n",
    "  - `machine_translation.html`\n",
    "    - You can export the notebook by navigating to **File -> Download as -> HTML (.html)**."
   ]
  },
  {
   "cell_type": "markdown",
   "metadata": {},
   "source": [
    "### Generate the html\n",
    "\n",
    "**Save your notebook before running the next cell to generate the HTML output.** Then submit your project."
   ]
  },
  {
   "cell_type": "code",
   "execution_count": 763,
   "metadata": {},
   "outputs": [
    {
     "name": "stdout",
     "output_type": "stream",
     "text": [
      "[NbConvertApp] Converting notebook machine_translation.ipynb to html\n",
      "[NbConvertApp] Writing 865885 bytes to machine_translation.html\n"
     ]
    }
   ],
   "source": [
    "# Save before you run this cell!\n",
    "!jupyter nbconvert --to html machine_translation.ipynb"
   ]
  },
  {
   "cell_type": "markdown",
   "metadata": {},
   "source": [
    "## Optional Enhancements\n",
    "\n",
    "This project focuses on learning various network architectures for machine translation, but we don't evaluate the models according to best practices by splitting the data into separate test & training sets -- so the model accuracy is overstated. Use the [`sklearn.model_selection.train_test_split()`](http://scikit-learn.org/stable/modules/generated/sklearn.model_selection.train_test_split.html) function to create separate training & test datasets, then retrain each of the models using only the training set and evaluate the prediction accuracy using the hold out test set. Does the \"best\" model change?"
   ]
  }
 ],
 "metadata": {
  "kernelspec": {
   "display_name": "Python 3",
   "language": "python",
   "name": "python3"
  },
  "language_info": {
   "codemirror_mode": {
    "name": "ipython",
    "version": 3
   },
   "file_extension": ".py",
   "mimetype": "text/x-python",
   "name": "python",
   "nbconvert_exporter": "python",
   "pygments_lexer": "ipython3",
   "version": "3.8.10"
  }
 },
 "nbformat": 4,
 "nbformat_minor": 1
}
