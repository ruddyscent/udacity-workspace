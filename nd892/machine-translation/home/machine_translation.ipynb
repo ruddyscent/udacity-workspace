{
 "cells": [
  {
   "cell_type": "markdown",
   "metadata": {
    "collapsed": true
   },
   "source": [
    "# Artificial Intelligence Nanodegree\n",
    "## Machine Translation Project\n",
    "In this notebook, sections that end with **'(IMPLEMENTATION)'** in the header indicate that the following blocks of code will require additional functionality which you must provide. Please be sure to read the instructions carefully!\n",
    "\n",
    "## Introduction\n",
    "In this notebook, you will build a deep neural network that functions as part of an end-to-end machine translation pipeline. Your completed pipeline will accept English text as input and return the French translation.\n",
    "\n",
    "- **Preprocess** - You'll convert text to sequence of integers.\n",
    "- **Models** Create models which accepts a sequence of integers as input and returns a probability distribution over possible translations. After learning about the basic types of neural networks that are often used for machine translation, you will engage in your own investigations, to design your own model!\n",
    "- **Prediction** Run the model on English text."
   ]
  },
  {
   "cell_type": "code",
   "execution_count": 1,
   "metadata": {},
   "outputs": [
    {
     "name": "stdout",
     "output_type": "stream",
     "text": [
      "WARNING:tensorflow:Deprecation warnings have been disabled. Set TF_ENABLE_DEPRECATION_WARNINGS=1 to re-enable them.\n"
     ]
    },
    {
     "name": "stderr",
     "output_type": "stream",
     "text": [
      "Using TensorFlow backend.\n"
     ]
    }
   ],
   "source": [
    "%load_ext autoreload\n",
    "%aimport helper, project_tests\n",
    "%autoreload 1"
   ]
  },
  {
   "cell_type": "code",
   "execution_count": 2,
   "metadata": {},
   "outputs": [],
   "source": [
    "import collections\n",
    "\n",
    "import helper\n",
    "import numpy as np\n",
    "import project_tests as tests\n",
    "\n",
    "from keras.preprocessing.text import Tokenizer\n",
    "from keras.preprocessing.sequence import pad_sequences\n",
    "# from keras.utils import pad_sequences\n",
    "from keras.models import Model\n",
    "from keras.layers import GRU, Input, Dense, TimeDistributed, Activation, RepeatVector, Bidirectional\n",
    "from keras.layers.embeddings import Embedding\n",
    "# from keras.layers import Embedding\n",
    "from keras.optimizers import Adam\n",
    "from keras.losses import sparse_categorical_crossentropy"
   ]
  },
  {
   "cell_type": "markdown",
   "metadata": {},
   "source": [
    "### Verify access to the GPU\n",
    "The following test applies only if you expect to be using a GPU, e.g., while running in a Udacity Workspace or using an AWS instance with GPU support. Run the next cell, and verify that the device_type is \"GPU\".\n",
    "- If the device is not GPU & you are running from a Udacity Workspace, then save your workspace with the icon at the top, then click \"enable\" at the bottom of the workspace.\n",
    "- If the device is not GPU & you are running from an AWS instance, then refer to the cloud computing instructions in the classroom to verify your setup steps."
   ]
  },
  {
   "cell_type": "code",
   "execution_count": 3,
   "metadata": {},
   "outputs": [
    {
     "name": "stdout",
     "output_type": "stream",
     "text": [
      "[name: \"/device:CPU:0\"\n",
      "device_type: \"CPU\"\n",
      "memory_limit: 268435456\n",
      "locality {\n",
      "}\n",
      "incarnation: 18442248471910592117\n",
      ", name: \"/device:XLA_CPU:0\"\n",
      "device_type: \"XLA_CPU\"\n",
      "memory_limit: 17179869184\n",
      "locality {\n",
      "}\n",
      "incarnation: 16376205661365267822\n",
      "physical_device_desc: \"device: XLA_CPU device\"\n",
      ", name: \"/device:XLA_GPU:0\"\n",
      "device_type: \"XLA_GPU\"\n",
      "memory_limit: 17179869184\n",
      "locality {\n",
      "}\n",
      "incarnation: 6010408163576475266\n",
      "physical_device_desc: \"device: XLA_GPU device\"\n",
      ", name: \"/device:XLA_GPU:1\"\n",
      "device_type: \"XLA_GPU\"\n",
      "memory_limit: 17179869184\n",
      "locality {\n",
      "}\n",
      "incarnation: 1466598674102779369\n",
      "physical_device_desc: \"device: XLA_GPU device\"\n",
      ", name: \"/device:GPU:0\"\n",
      "device_type: \"GPU\"\n",
      "memory_limit: 7160266752\n",
      "locality {\n",
      "  bus_id: 1\n",
      "  links {\n",
      "  }\n",
      "}\n",
      "incarnation: 6456869295845120607\n",
      "physical_device_desc: \"device: 0, name: NVIDIA GeForce RTX 2060 SUPER, pci bus id: 0000:01:00.0, compute capability: 7.5\"\n",
      ", name: \"/device:GPU:1\"\n",
      "device_type: \"GPU\"\n",
      "memory_limit: 2351366144\n",
      "locality {\n",
      "  bus_id: 1\n",
      "  links {\n",
      "  }\n",
      "}\n",
      "incarnation: 15446974896057983487\n",
      "physical_device_desc: \"device: 1, name: NVIDIA GeForce GTX 1060 3GB, pci bus id: 0000:05:00.0, compute capability: 6.1\"\n",
      "]\n"
     ]
    }
   ],
   "source": [
    "from tensorflow.python.client import device_lib\n",
    "print(device_lib.list_local_devices())"
   ]
  },
  {
   "cell_type": "markdown",
   "metadata": {},
   "source": [
    "## Dataset\n",
    "We begin by investigating the dataset that will be used to train and evaluate your pipeline.  The most common datasets used for machine translation are from [WMT](http://www.statmt.org/).  However, that will take a long time to train a neural network on.  We'll be using a dataset we created for this project that contains a small vocabulary.  You'll be able to train your model in a reasonable time with this dataset.\n",
    "### Load Data\n",
    "The data is located in `data/small_vocab_en` and `data/small_vocab_fr`. The `small_vocab_en` file contains English sentences with their French translations in the `small_vocab_fr` file. Load the English and French data from these files from running the cell below."
   ]
  },
  {
   "cell_type": "code",
   "execution_count": 4,
   "metadata": {},
   "outputs": [
    {
     "name": "stdout",
     "output_type": "stream",
     "text": [
      "Dataset Loaded\n"
     ]
    }
   ],
   "source": [
    "# Load English data\n",
    "english_sentences = helper.load_data('data/small_vocab_en')\n",
    "# Load French data\n",
    "french_sentences = helper.load_data('data/small_vocab_fr')\n",
    "\n",
    "print('Dataset Loaded')"
   ]
  },
  {
   "cell_type": "markdown",
   "metadata": {},
   "source": [
    "### Files\n",
    "Each line in `small_vocab_en` contains an English sentence with the respective translation in each line of `small_vocab_fr`.  View the first two lines from each file."
   ]
  },
  {
   "cell_type": "code",
   "execution_count": 5,
   "metadata": {},
   "outputs": [
    {
     "name": "stdout",
     "output_type": "stream",
     "text": [
      "small_vocab_en Line 1:  new jersey is sometimes quiet during autumn , and it is snowy in april .\n",
      "small_vocab_fr Line 1:  new jersey est parfois calme pendant l' automne , et il est neigeux en avril .\n",
      "small_vocab_en Line 2:  the united states is usually chilly during july , and it is usually freezing in november .\n",
      "small_vocab_fr Line 2:  les états-unis est généralement froid en juillet , et il gèle habituellement en novembre .\n"
     ]
    }
   ],
   "source": [
    "for sample_i in range(2):\n",
    "    print('small_vocab_en Line {}:  {}'.format(sample_i + 1, english_sentences[sample_i]))\n",
    "    print('small_vocab_fr Line {}:  {}'.format(sample_i + 1, french_sentences[sample_i]))"
   ]
  },
  {
   "cell_type": "markdown",
   "metadata": {},
   "source": [
    "From looking at the sentences, you can see they have been preprocessed already.  The puncuations have been delimited using spaces. All the text have been converted to lowercase.  This should save you some time, but the text requires more preprocessing.\n",
    "### Vocabulary\n",
    "The complexity of the problem is determined by the complexity of the vocabulary.  A more complex vocabulary is a more complex problem.  Let's look at the complexity of the dataset we'll be working with."
   ]
  },
  {
   "cell_type": "code",
   "execution_count": 6,
   "metadata": {},
   "outputs": [
    {
     "name": "stdout",
     "output_type": "stream",
     "text": [
      "1823250 English words.\n",
      "227 unique English words.\n",
      "10 Most common words in the English dataset:\n",
      "\"is\" \",\" \".\" \"in\" \"it\" \"during\" \"the\" \"but\" \"and\" \"sometimes\"\n",
      "\n",
      "1961295 French words.\n",
      "355 unique French words.\n",
      "10 Most common words in the French dataset:\n",
      "\"est\" \".\" \",\" \"en\" \"il\" \"les\" \"mais\" \"et\" \"la\" \"parfois\"\n"
     ]
    }
   ],
   "source": [
    "english_words_counter = collections.Counter([word for sentence in english_sentences for word in sentence.split()])\n",
    "french_words_counter = collections.Counter([word for sentence in french_sentences for word in sentence.split()])\n",
    "\n",
    "print('{} English words.'.format(len([word for sentence in english_sentences for word in sentence.split()])))\n",
    "print('{} unique English words.'.format(len(english_words_counter)))\n",
    "print('10 Most common words in the English dataset:')\n",
    "print('\"' + '\" \"'.join(list(zip(*english_words_counter.most_common(10)))[0]) + '\"')\n",
    "print()\n",
    "print('{} French words.'.format(len([word for sentence in french_sentences for word in sentence.split()])))\n",
    "print('{} unique French words.'.format(len(french_words_counter)))\n",
    "print('10 Most common words in the French dataset:')\n",
    "print('\"' + '\" \"'.join(list(zip(*french_words_counter.most_common(10)))[0]) + '\"')"
   ]
  },
  {
   "cell_type": "markdown",
   "metadata": {},
   "source": [
    "For comparison, _Alice's Adventures in Wonderland_ contains 2,766 unique words of a total of 15,500 words.\n",
    "## Preprocess\n",
    "For this project, you won't use text data as input to your model. Instead, you'll convert the text into sequences of integers using the following preprocess methods:\n",
    "1. Tokenize the words into ids\n",
    "2. Add padding to make all the sequences the same length.\n",
    "\n",
    "Time to start preprocessing the data...\n",
    "### Tokenize (IMPLEMENTATION)\n",
    "For a neural network to predict on text data, it first has to be turned into data it can understand. Text data like \"dog\" is a sequence of ASCII character encodings.  Since a neural network is a series of multiplication and addition operations, the input data needs to be number(s).\n",
    "\n",
    "We can turn each character into a number or each word into a number.  These are called character and word ids, respectively.  Character ids are used for character level models that generate text predictions for each character.  A word level model uses word ids that generate text predictions for each word.  Word level models tend to learn better, since they are lower in complexity, so we'll use those.\n",
    "\n",
    "Turn each sentence into a sequence of words ids using Keras's [`Tokenizer`](https://keras.io/preprocessing/text/#tokenizer) function. Use this function to tokenize `english_sentences` and `french_sentences` in the cell below.\n",
    "\n",
    "Running the cell will run `tokenize` on sample data and show output for debugging."
   ]
  },
  {
   "cell_type": "code",
   "execution_count": 7,
   "metadata": {},
   "outputs": [
    {
     "name": "stdout",
     "output_type": "stream",
     "text": [
      "{'the': 1, 'quick': 2, 'a': 3, 'brown': 4, 'fox': 5, 'jumps': 6, 'over': 7, 'lazy': 8, 'dog': 9, 'by': 10, 'jove': 11, 'my': 12, 'study': 13, 'of': 14, 'lexicography': 15, 'won': 16, 'prize': 17, 'this': 18, 'is': 19, 'short': 20, 'sentence': 21}\n",
      "\n",
      "Sequence 1 in x\n",
      "  Input:  The quick brown fox jumps over the lazy dog .\n",
      "  Output: [1, 2, 4, 5, 6, 7, 1, 8, 9]\n",
      "Sequence 2 in x\n",
      "  Input:  By Jove , my quick study of lexicography won a prize .\n",
      "  Output: [10, 11, 12, 2, 13, 14, 15, 16, 3, 17]\n",
      "Sequence 3 in x\n",
      "  Input:  This is a short sentence .\n",
      "  Output: [18, 19, 3, 20, 21]\n"
     ]
    }
   ],
   "source": [
    "def tokenize(x):\n",
    "    \"\"\"\n",
    "    Tokenize x\n",
    "    :param x: List of sentences/strings to be tokenized\n",
    "    :return: Tuple of (tokenized x data, tokenizer used to tokenize x)\n",
    "    \"\"\"\n",
    "    # TODO: Implement\n",
    "    x_tk = Tokenizer()\n",
    "    x_tk.fit_on_texts(x)\n",
    "    return x_tk.texts_to_sequences(x), x_tk\n",
    "\n",
    "tests.test_tokenize(tokenize)\n",
    "\n",
    "# Tokenize Example output\n",
    "text_sentences = [\n",
    "    'The quick brown fox jumps over the lazy dog .',\n",
    "    'By Jove , my quick study of lexicography won a prize .',\n",
    "    'This is a short sentence .']\n",
    "text_tokenized, text_tokenizer = tokenize(text_sentences)\n",
    "print(text_tokenizer.word_index)\n",
    "print()\n",
    "for sample_i, (sent, token_sent) in enumerate(zip(text_sentences, text_tokenized)):\n",
    "    print('Sequence {} in x'.format(sample_i + 1))\n",
    "    print('  Input:  {}'.format(sent))\n",
    "    print('  Output: {}'.format(token_sent))"
   ]
  },
  {
   "cell_type": "markdown",
   "metadata": {},
   "source": [
    "### Padding (IMPLEMENTATION)\n",
    "When batching the sequence of word ids together, each sequence needs to be the same length.  Since sentences are dynamic in length, we can add padding to the end of the sequences to make them the same length.\n",
    "\n",
    "Make sure all the English sequences have the same length and all the French sequences have the same length by adding padding to the **end** of each sequence using Keras's [`pad_sequences`](https://keras.io/preprocessing/sequence/#pad_sequences) function."
   ]
  },
  {
   "cell_type": "code",
   "execution_count": 8,
   "metadata": {},
   "outputs": [
    {
     "name": "stdout",
     "output_type": "stream",
     "text": [
      "Sequence 1 in x\n",
      "  Input:  [1 2 4 5 6 7 1 8 9]\n",
      "  Output: [1 2 4 5 6 7 1 8 9 0]\n",
      "Sequence 2 in x\n",
      "  Input:  [10 11 12  2 13 14 15 16  3 17]\n",
      "  Output: [10 11 12  2 13 14 15 16  3 17]\n",
      "Sequence 3 in x\n",
      "  Input:  [18 19  3 20 21]\n",
      "  Output: [18 19  3 20 21  0  0  0  0  0]\n"
     ]
    }
   ],
   "source": [
    "def pad(x, length=None):\n",
    "    \"\"\"\n",
    "    Pad x\n",
    "    :param x: List of sequences.\n",
    "    :param length: Length to pad the sequence to.  If None, use length of longest sequence in x.\n",
    "    :return: Padded numpy array of sequences\n",
    "    \"\"\"\n",
    "    # TODO: Implement\n",
    "    if length is None:\n",
    "        length = max([len(sentence) for sentence in x])\n",
    "    return pad_sequences(x, maxlen=length, padding='post', truncating='post')\n",
    "    \n",
    "tests.test_pad(pad)\n",
    "\n",
    "# Pad Tokenized output\n",
    "test_pad = pad(text_tokenized)\n",
    "for sample_i, (token_sent, pad_sent) in enumerate(zip(text_tokenized, test_pad)):\n",
    "    print('Sequence {} in x'.format(sample_i + 1))\n",
    "    print('  Input:  {}'.format(np.array(token_sent)))\n",
    "    print('  Output: {}'.format(pad_sent))"
   ]
  },
  {
   "cell_type": "markdown",
   "metadata": {},
   "source": [
    "### Preprocess Pipeline\n",
    "Your focus for this project is to build neural network architecture, so we won't ask you to create a preprocess pipeline.  Instead, we've provided you with the implementation of the `preprocess` function."
   ]
  },
  {
   "cell_type": "code",
   "execution_count": 9,
   "metadata": {},
   "outputs": [
    {
     "name": "stdout",
     "output_type": "stream",
     "text": [
      "Data Preprocessed\n",
      "Max English sentence length: 15\n",
      "Max French sentence length: 21\n",
      "English vocabulary size: 199\n",
      "French vocabulary size: 344\n"
     ]
    }
   ],
   "source": [
    "def preprocess(x, y):\n",
    "    \"\"\"\n",
    "    Preprocess x and y\n",
    "    :param x: Feature List of sentences\n",
    "    :param y: Label List of sentences\n",
    "    :return: Tuple of (Preprocessed x, Preprocessed y, x tokenizer, y tokenizer)\n",
    "    \"\"\"\n",
    "    preprocess_x, x_tk = tokenize(x)\n",
    "    preprocess_y, y_tk = tokenize(y)\n",
    "\n",
    "    preprocess_x = pad(preprocess_x)\n",
    "    preprocess_y = pad(preprocess_y)\n",
    "\n",
    "    # Keras's sparse_categorical_crossentropy function requires the labels to be in 3 dimensions\n",
    "    preprocess_y = preprocess_y.reshape(*preprocess_y.shape, 1)\n",
    "\n",
    "    return preprocess_x, preprocess_y, x_tk, y_tk\n",
    "\n",
    "preproc_english_sentences, preproc_french_sentences, english_tokenizer, french_tokenizer =\\\n",
    "    preprocess(english_sentences, french_sentences)\n",
    "    \n",
    "max_english_sequence_length = preproc_english_sentences.shape[1]\n",
    "max_french_sequence_length = preproc_french_sentences.shape[1]\n",
    "english_vocab_size = len(english_tokenizer.word_index)\n",
    "french_vocab_size = len(french_tokenizer.word_index)\n",
    "\n",
    "print('Data Preprocessed')\n",
    "print(\"Max English sentence length:\", max_english_sequence_length)\n",
    "print(\"Max French sentence length:\", max_french_sequence_length)\n",
    "print(\"English vocabulary size:\", english_vocab_size)\n",
    "print(\"French vocabulary size:\", french_vocab_size)"
   ]
  },
  {
   "cell_type": "markdown",
   "metadata": {},
   "source": [
    "### Split train and test data"
   ]
  },
  {
   "cell_type": "code",
   "execution_count": 140,
   "metadata": {},
   "outputs": [],
   "source": [
    "from sklearn.model_selection import train_test_split\n",
    "\n",
    "(train_english_sentences, test_english_sentences, \n",
    "train_french_sentences, test_french_sentences) = train_test_split(\n",
    "    preproc_english_sentences, preproc_french_sentences, test_size=0.33, random_state=0)"
   ]
  },
  {
   "cell_type": "markdown",
   "metadata": {},
   "source": [
    "## Models\n",
    "In this section, you will experiment with various neural network architectures.\n",
    "You will begin by training four relatively simple architectures.\n",
    "- Model 1 is a simple RNN\n",
    "- Model 2 is a RNN with Embedding\n",
    "- Model 3 is a Bidirectional RNN\n",
    "- Model 4 is an Encoder-Decoder RNN\n",
    "\n",
    "After experimenting with the four simple architectures, you will construct a deeper architecture that is designed to outperform all four models.\n",
    "### Ids Back to Text\n",
    "The neural network will be translating the input to words ids, which isn't the final form we want.  We want the French translation.  The function `logits_to_text` will bridge the gab between the logits from the neural network to the French translation.  You'll be using this function to better understand the output of the neural network."
   ]
  },
  {
   "cell_type": "code",
   "execution_count": 105,
   "metadata": {},
   "outputs": [
    {
     "name": "stdout",
     "output_type": "stream",
     "text": [
      "`logits_to_text` function loaded.\n"
     ]
    }
   ],
   "source": [
    "def logits_to_text(logits, tokenizer):\n",
    "    \"\"\"\n",
    "    Turn logits from a neural network into text using the tokenizer\n",
    "    :param logits: Logits from a neural network\n",
    "    :param tokenizer: Keras Tokenizer fit on the labels\n",
    "    :return: String that represents the text of the logits\n",
    "    \"\"\"\n",
    "    index_to_words = {id: word for word, id in tokenizer.word_index.items()}\n",
    "    index_to_words[0] = '<PAD>'\n",
    "\n",
    "    return ' '.join([index_to_words[prediction] for prediction in np.argmax(logits, 1)])\n",
    "\n",
    "print('`logits_to_text` function loaded.')"
   ]
  },
  {
   "cell_type": "markdown",
   "metadata": {},
   "source": [
    "### Model 1: RNN (IMPLEMENTATION)\n",
    "![RNN](images/rnn.png)\n",
    "A basic RNN model is a good baseline for sequence data.  In this model, you'll build a RNN that translates English to French."
   ]
  },
  {
   "cell_type": "code",
   "execution_count": 147,
   "metadata": {},
   "outputs": [
    {
     "name": "stdout",
     "output_type": "stream",
     "text": [
      "Train on 73892 samples, validate on 18474 samples\n",
      "Epoch 1/50\n",
      "73892/73892 [==============================] - 13s 177us/step - loss: 3.8443 - acc: 0.3915 - val_loss: 2.7320 - val_acc: 0.4130\n",
      "Epoch 2/50\n",
      "73892/73892 [==============================] - 2s 22us/step - loss: 2.5997 - acc: 0.4523 - val_loss: 2.5188 - val_acc: 0.4682\n",
      "Epoch 3/50\n",
      "73892/73892 [==============================] - 2s 22us/step - loss: 2.4415 - acc: 0.4742 - val_loss: 2.3719 - val_acc: 0.4738\n",
      "Epoch 4/50\n",
      "73892/73892 [==============================] - 2s 23us/step - loss: 2.2908 - acc: 0.4928 - val_loss: 2.2167 - val_acc: 0.5075\n",
      "Epoch 5/50\n",
      "73892/73892 [==============================] - 2s 22us/step - loss: 2.1343 - acc: 0.5154 - val_loss: 2.0640 - val_acc: 0.5275\n",
      "Epoch 6/50\n",
      "73892/73892 [==============================] - 2s 23us/step - loss: 1.9904 - acc: 0.5482 - val_loss: 1.9284 - val_acc: 0.5609\n",
      "Epoch 7/50\n",
      "73892/73892 [==============================] - 2s 23us/step - loss: 1.8660 - acc: 0.5706 - val_loss: 1.8186 - val_acc: 0.5741\n",
      "Epoch 8/50\n",
      "73892/73892 [==============================] - 2s 23us/step - loss: 1.7718 - acc: 0.5811 - val_loss: 1.7377 - val_acc: 0.5766\n",
      "Epoch 9/50\n",
      "73892/73892 [==============================] - 2s 22us/step - loss: 1.6995 - acc: 0.5841 - val_loss: 1.6755 - val_acc: 0.5849\n",
      "Epoch 10/50\n",
      "73892/73892 [==============================] - 2s 22us/step - loss: 1.6450 - acc: 0.5889 - val_loss: 1.6278 - val_acc: 0.5875\n",
      "Epoch 11/50\n",
      "73892/73892 [==============================] - 2s 23us/step - loss: 1.6007 - acc: 0.5943 - val_loss: 1.5870 - val_acc: 0.5941\n",
      "Epoch 12/50\n",
      "73892/73892 [==============================] - 2s 22us/step - loss: 1.5619 - acc: 0.6013 - val_loss: 1.5504 - val_acc: 0.6029\n",
      "Epoch 13/50\n",
      "73892/73892 [==============================] - 2s 22us/step - loss: 1.5266 - acc: 0.6056 - val_loss: 1.5168 - val_acc: 0.6049\n",
      "Epoch 14/50\n",
      "73892/73892 [==============================] - 2s 23us/step - loss: 1.4937 - acc: 0.6109 - val_loss: 1.4856 - val_acc: 0.6096\n",
      "Epoch 15/50\n",
      "73892/73892 [==============================] - 2s 23us/step - loss: 1.4633 - acc: 0.6149 - val_loss: 1.4559 - val_acc: 0.6136\n",
      "Epoch 16/50\n",
      "73892/73892 [==============================] - 2s 23us/step - loss: 1.4350 - acc: 0.6178 - val_loss: 1.4294 - val_acc: 0.6185\n",
      "Epoch 17/50\n",
      "73892/73892 [==============================] - 2s 23us/step - loss: 1.4097 - acc: 0.6214 - val_loss: 1.4050 - val_acc: 0.6220\n",
      "Epoch 18/50\n",
      "73892/73892 [==============================] - 2s 22us/step - loss: 1.3861 - acc: 0.6259 - val_loss: 1.3824 - val_acc: 0.6264\n",
      "Epoch 19/50\n",
      "73892/73892 [==============================] - 2s 22us/step - loss: 1.3640 - acc: 0.6304 - val_loss: 1.3614 - val_acc: 0.6286\n",
      "Epoch 20/50\n",
      "73892/73892 [==============================] - 2s 23us/step - loss: 1.3441 - acc: 0.6335 - val_loss: 1.3427 - val_acc: 0.6324\n",
      "Epoch 21/50\n",
      "73892/73892 [==============================] - 2s 22us/step - loss: 1.3258 - acc: 0.6364 - val_loss: 1.3247 - val_acc: 0.6345\n",
      "Epoch 22/50\n",
      "73892/73892 [==============================] - 2s 23us/step - loss: 1.3091 - acc: 0.6387 - val_loss: 1.3088 - val_acc: 0.6370\n",
      "Epoch 23/50\n",
      "73892/73892 [==============================] - 2s 23us/step - loss: 1.2936 - acc: 0.6412 - val_loss: 1.2941 - val_acc: 0.6387\n",
      "Epoch 24/50\n",
      "73892/73892 [==============================] - 2s 23us/step - loss: 1.2793 - acc: 0.6420 - val_loss: 1.2800 - val_acc: 0.6402\n",
      "Epoch 25/50\n",
      "73892/73892 [==============================] - 2s 23us/step - loss: 1.2664 - acc: 0.6443 - val_loss: 1.2674 - val_acc: 0.6422\n",
      "Epoch 26/50\n",
      "73892/73892 [==============================] - 2s 22us/step - loss: 1.2539 - acc: 0.6453 - val_loss: 1.2554 - val_acc: 0.6428\n",
      "Epoch 27/50\n",
      "73892/73892 [==============================] - 2s 23us/step - loss: 1.2425 - acc: 0.6460 - val_loss: 1.2444 - val_acc: 0.6437\n",
      "Epoch 28/50\n",
      "73892/73892 [==============================] - 2s 23us/step - loss: 1.2319 - acc: 0.6472 - val_loss: 1.2345 - val_acc: 0.6455\n",
      "Epoch 29/50\n",
      "73892/73892 [==============================] - 2s 23us/step - loss: 1.2216 - acc: 0.6493 - val_loss: 1.2243 - val_acc: 0.6466\n",
      "Epoch 30/50\n",
      "73892/73892 [==============================] - 2s 22us/step - loss: 1.2119 - acc: 0.6496 - val_loss: 1.2148 - val_acc: 0.6475\n",
      "Epoch 31/50\n",
      "73892/73892 [==============================] - 2s 22us/step - loss: 1.2026 - acc: 0.6519 - val_loss: 1.2060 - val_acc: 0.6514\n",
      "Epoch 32/50\n",
      "73892/73892 [==============================] - 2s 22us/step - loss: 1.1934 - acc: 0.6539 - val_loss: 1.1968 - val_acc: 0.6512\n",
      "Epoch 33/50\n",
      "73892/73892 [==============================] - 2s 23us/step - loss: 1.1849 - acc: 0.6557 - val_loss: 1.1886 - val_acc: 0.6526\n",
      "Epoch 34/50\n",
      "73892/73892 [==============================] - 2s 22us/step - loss: 1.1768 - acc: 0.6566 - val_loss: 1.1808 - val_acc: 0.6547\n",
      "Epoch 35/50\n",
      "73892/73892 [==============================] - 2s 22us/step - loss: 1.1702 - acc: 0.6577 - val_loss: 1.1734 - val_acc: 0.6619\n",
      "Epoch 36/50\n",
      "73892/73892 [==============================] - 2s 23us/step - loss: 1.1625 - acc: 0.6596 - val_loss: 1.1659 - val_acc: 0.6592\n",
      "Epoch 37/50\n",
      "73892/73892 [==============================] - 2s 23us/step - loss: 1.1558 - acc: 0.6612 - val_loss: 1.1594 - val_acc: 0.6575\n",
      "Epoch 38/50\n",
      "73892/73892 [==============================] - 2s 22us/step - loss: 1.1491 - acc: 0.6614 - val_loss: 1.1572 - val_acc: 0.6581\n",
      "Epoch 39/50\n",
      "73892/73892 [==============================] - 2s 23us/step - loss: 1.1438 - acc: 0.6622 - val_loss: 1.1477 - val_acc: 0.6596\n",
      "Epoch 40/50\n",
      "73892/73892 [==============================] - 2s 22us/step - loss: 1.1369 - acc: 0.6639 - val_loss: 1.1421 - val_acc: 0.6618\n",
      "Epoch 41/50\n",
      "73892/73892 [==============================] - 2s 23us/step - loss: 1.1309 - acc: 0.6648 - val_loss: 1.1360 - val_acc: 0.6615\n",
      "Epoch 42/50\n",
      "73892/73892 [==============================] - 2s 22us/step - loss: 1.1253 - acc: 0.6649 - val_loss: 1.1295 - val_acc: 0.6620\n",
      "Epoch 43/50\n",
      "73892/73892 [==============================] - 2s 22us/step - loss: 1.1203 - acc: 0.6654 - val_loss: 1.1252 - val_acc: 0.6626\n",
      "Epoch 44/50\n",
      "73892/73892 [==============================] - 2s 22us/step - loss: 1.1143 - acc: 0.6671 - val_loss: 1.1203 - val_acc: 0.6611\n",
      "Epoch 45/50\n",
      "73892/73892 [==============================] - 2s 23us/step - loss: 1.1095 - acc: 0.6670 - val_loss: 1.1154 - val_acc: 0.6642\n",
      "Epoch 46/50\n",
      "73892/73892 [==============================] - 2s 22us/step - loss: 1.1046 - acc: 0.6681 - val_loss: 1.1094 - val_acc: 0.6640\n",
      "Epoch 47/50\n",
      "73892/73892 [==============================] - 2s 22us/step - loss: 1.0992 - acc: 0.6698 - val_loss: 1.1046 - val_acc: 0.6686\n",
      "Epoch 48/50\n",
      "73892/73892 [==============================] - 2s 23us/step - loss: 1.0946 - acc: 0.6710 - val_loss: 1.0996 - val_acc: 0.6674\n",
      "Epoch 49/50\n",
      "73892/73892 [==============================] - 2s 22us/step - loss: 1.0895 - acc: 0.6719 - val_loss: 1.0943 - val_acc: 0.6678\n",
      "Epoch 50/50\n",
      "73892/73892 [==============================] - 2s 22us/step - loss: 1.0849 - acc: 0.6740 - val_loss: 1.0902 - val_acc: 0.6738\n",
      "elle fruit préféré moins est la fraise mais notre moins préféré est la <PAD> <PAD> <PAD> <PAD> <PAD> <PAD> <PAD> <PAD>\n"
     ]
    }
   ],
   "source": [
    "def simple_model(input_shape, output_sequence_length, english_vocab_size, french_vocab_size):\n",
    "    \"\"\"\n",
    "    Build and train a basic RNN on x and y\n",
    "    :param input_shape: Tuple of input shape\n",
    "    :param output_sequence_length: Length of output sequence\n",
    "    :param english_vocab_size: Number of unique English words in the dataset\n",
    "    :param french_vocab_size: Number of unique French words in the dataset\n",
    "    :return: Keras model built, but not trained\n",
    "    \"\"\"\n",
    "    # TODO: Build the layers\n",
    "    learning_rate = 1e-3\n",
    "\n",
    "    input_seq = Input(input_shape[1:])\n",
    "    rnn = GRU(64, return_sequences=True)(input_seq)\n",
    "    logits = TimeDistributed(Dense(french_vocab_size))(rnn)\n",
    "\n",
    "    model = Model(input_seq, Activation('softmax')(logits))\n",
    "    model.compile(loss=sparse_categorical_crossentropy,\n",
    "                  optimizer=Adam(learning_rate),\n",
    "                  metrics=['accuracy'])\n",
    "    return model\n",
    "    \n",
    "tests.test_simple_model(simple_model)\n",
    "\n",
    "# Reshaping the input to work with a basic RNN\n",
    "tmp_x = pad(train_english_sentences, max_french_sequence_length)\n",
    "tmp_x = tmp_x.reshape((-1, max_french_sequence_length, 1))\n",
    "\n",
    "# Train the neural network\n",
    "simple_rnn_model = simple_model(\n",
    "    tmp_x.shape,\n",
    "    max_french_sequence_length,\n",
    "    english_vocab_size,\n",
    "    french_vocab_size)\n",
    "simple_rnn_model.fit(tmp_x, train_french_sentences, batch_size=1024, epochs=50, validation_split=0.2)\n",
    "\n",
    "# Print prediction(s)\n",
    "print(logits_to_text(simple_rnn_model.predict(tmp_x[:1])[0], french_tokenizer))"
   ]
  },
  {
   "cell_type": "code",
   "execution_count": 148,
   "metadata": {},
   "outputs": [
    {
     "name": "stdout",
     "output_type": "stream",
     "text": [
      "45495/45495 [==============================] - 0s 8us/step\n",
      "loss: nan, accuracy: 0.677\n"
     ]
    }
   ],
   "source": [
    "tmp_x = pad(test_english_sentences, max_french_sequence_length)\n",
    "tmp_x = tmp_x.reshape((-1, max_french_sequence_length, 1))\n",
    "\n",
    "_loss, _acc = simple_rnn_model.evaluate(tmp_x, test_french_sentences, batch_size=1024, verbose=True)\n",
    "print(f'loss: {_loss:.3f}, accuracy: {_acc:.3f}')"
   ]
  },
  {
   "cell_type": "markdown",
   "metadata": {},
   "source": [
    "### Model 2: Embedding (IMPLEMENTATION)\n",
    "![RNN](images/embedding.png)\n",
    "You've turned the words into ids, but there's a better representation of a word.  This is called word embeddings.  An embedding is a vector representation of the word that is close to similar words in n-dimensional space, where the n represents the size of the embedding vectors.\n",
    "\n",
    "In this model, you'll create a RNN model using embedding."
   ]
  },
  {
   "cell_type": "code",
   "execution_count": 149,
   "metadata": {},
   "outputs": [
    {
     "name": "stdout",
     "output_type": "stream",
     "text": [
      "Train on 73892 samples, validate on 18474 samples\n",
      "Epoch 1/50\n",
      "73892/73892 [==============================] - 13s 182us/step - loss: 4.2420 - acc: 0.3954 - val_loss: 3.1214 - val_acc: 0.4061\n",
      "Epoch 2/50\n",
      "73892/73892 [==============================] - 2s 24us/step - loss: 3.0314 - acc: 0.4085 - val_loss: 2.9486 - val_acc: 0.4062\n",
      "Epoch 3/50\n",
      "73892/73892 [==============================] - 2s 24us/step - loss: 2.7602 - acc: 0.4182 - val_loss: 2.5495 - val_acc: 0.4603\n",
      "Epoch 4/50\n",
      "73892/73892 [==============================] - 2s 24us/step - loss: 2.3226 - acc: 0.5071 - val_loss: 2.0728 - val_acc: 0.5270\n",
      "Epoch 5/50\n",
      "73892/73892 [==============================] - 2s 23us/step - loss: 1.8639 - acc: 0.5672 - val_loss: 1.7036 - val_acc: 0.5964\n",
      "Epoch 6/50\n",
      "73892/73892 [==============================] - 2s 24us/step - loss: 1.5963 - acc: 0.6252 - val_loss: 1.5062 - val_acc: 0.6414\n",
      "Epoch 7/50\n",
      "73892/73892 [==============================] - 2s 24us/step - loss: 1.4271 - acc: 0.6614 - val_loss: 1.3540 - val_acc: 0.6776\n",
      "Epoch 8/50\n",
      "73892/73892 [==============================] - 2s 24us/step - loss: 1.2852 - acc: 0.6907 - val_loss: 1.2230 - val_acc: 0.7046\n",
      "Epoch 9/50\n",
      "73892/73892 [==============================] - 2s 24us/step - loss: 1.1651 - acc: 0.7173 - val_loss: 1.1139 - val_acc: 0.7290\n",
      "Epoch 10/50\n",
      "73892/73892 [==============================] - 2s 24us/step - loss: 1.0604 - acc: 0.7433 - val_loss: 1.0161 - val_acc: 0.7544\n",
      "Epoch 11/50\n",
      "73892/73892 [==============================] - 2s 24us/step - loss: 0.9719 - acc: 0.7616 - val_loss: 0.9373 - val_acc: 0.7675\n",
      "Epoch 12/50\n",
      "73892/73892 [==============================] - 2s 24us/step - loss: 0.8953 - acc: 0.7750 - val_loss: 0.8654 - val_acc: 0.7798\n",
      "Epoch 13/50\n",
      "73892/73892 [==============================] - 2s 24us/step - loss: 0.8293 - acc: 0.7867 - val_loss: 0.8037 - val_acc: 0.7921\n",
      "Epoch 14/50\n",
      "73892/73892 [==============================] - 2s 24us/step - loss: 0.7734 - acc: 0.7976 - val_loss: 0.7523 - val_acc: 0.8017\n",
      "Epoch 15/50\n",
      "73892/73892 [==============================] - 2s 24us/step - loss: 0.7225 - acc: 0.8084 - val_loss: 0.7062 - val_acc: 0.8118\n",
      "Epoch 16/50\n",
      "73892/73892 [==============================] - 2s 23us/step - loss: 0.6809 - acc: 0.8177 - val_loss: 0.6694 - val_acc: 0.8197\n",
      "Epoch 17/50\n",
      "73892/73892 [==============================] - 2s 24us/step - loss: 0.6449 - acc: 0.8260 - val_loss: 0.6358 - val_acc: 0.8286\n",
      "Epoch 18/50\n",
      "73892/73892 [==============================] - 2s 24us/step - loss: 0.6145 - acc: 0.8327 - val_loss: 0.6060 - val_acc: 0.8346\n",
      "Epoch 19/50\n",
      "73892/73892 [==============================] - 2s 24us/step - loss: 0.5876 - acc: 0.8383 - val_loss: 0.5816 - val_acc: 0.8400\n",
      "Epoch 20/50\n",
      "73892/73892 [==============================] - 2s 24us/step - loss: 0.5630 - acc: 0.8441 - val_loss: 0.5581 - val_acc: 0.8453\n",
      "Epoch 21/50\n",
      "73892/73892 [==============================] - 2s 23us/step - loss: 0.5416 - acc: 0.8490 - val_loss: 0.5393 - val_acc: 0.8498\n",
      "Epoch 22/50\n",
      "73892/73892 [==============================] - 2s 24us/step - loss: 0.5231 - acc: 0.8529 - val_loss: 0.5220 - val_acc: 0.8535\n",
      "Epoch 23/50\n",
      "73892/73892 [==============================] - 2s 24us/step - loss: 0.5050 - acc: 0.8572 - val_loss: 0.5051 - val_acc: 0.8565\n",
      "Epoch 24/50\n",
      "73892/73892 [==============================] - 2s 24us/step - loss: 0.4893 - acc: 0.8606 - val_loss: 0.4900 - val_acc: 0.8607\n",
      "Epoch 25/50\n",
      "73892/73892 [==============================] - 2s 23us/step - loss: 0.4745 - acc: 0.8643 - val_loss: 0.4762 - val_acc: 0.8636\n",
      "Epoch 26/50\n",
      "73892/73892 [==============================] - 2s 24us/step - loss: 0.4620 - acc: 0.8674 - val_loss: 0.4675 - val_acc: 0.8665\n",
      "Epoch 27/50\n",
      "73892/73892 [==============================] - 2s 24us/step - loss: 0.4486 - acc: 0.8709 - val_loss: 0.4527 - val_acc: 0.8703\n",
      "Epoch 28/50\n",
      "73892/73892 [==============================] - 2s 24us/step - loss: 0.4369 - acc: 0.8742 - val_loss: 0.4416 - val_acc: 0.8730\n",
      "Epoch 29/50\n",
      "73892/73892 [==============================] - 2s 24us/step - loss: 0.4276 - acc: 0.8765 - val_loss: 0.4374 - val_acc: 0.8735\n",
      "Epoch 30/50\n",
      "73892/73892 [==============================] - 2s 24us/step - loss: 0.4173 - acc: 0.8792 - val_loss: 0.4232 - val_acc: 0.8778\n",
      "Epoch 31/50\n",
      "73892/73892 [==============================] - 2s 24us/step - loss: 0.4080 - acc: 0.8816 - val_loss: 0.4164 - val_acc: 0.8791\n",
      "Epoch 32/50\n",
      "73892/73892 [==============================] - 2s 24us/step - loss: 0.3992 - acc: 0.8839 - val_loss: 0.4082 - val_acc: 0.8809\n",
      "Epoch 33/50\n",
      "73892/73892 [==============================] - 2s 23us/step - loss: 0.3924 - acc: 0.8857 - val_loss: 0.3999 - val_acc: 0.8840\n",
      "Epoch 34/50\n",
      "73892/73892 [==============================] - 2s 24us/step - loss: 0.3828 - acc: 0.8885 - val_loss: 0.3931 - val_acc: 0.8857\n",
      "Epoch 35/50\n",
      "73892/73892 [==============================] - 2s 24us/step - loss: 0.3774 - acc: 0.8896 - val_loss: 0.3978 - val_acc: 0.8841\n",
      "Epoch 36/50\n",
      "73892/73892 [==============================] - 2s 24us/step - loss: 0.3705 - acc: 0.8914 - val_loss: 0.3770 - val_acc: 0.8899\n",
      "Epoch 37/50\n",
      "73892/73892 [==============================] - 2s 24us/step - loss: 0.3641 - acc: 0.8930 - val_loss: 0.3726 - val_acc: 0.8914\n",
      "Epoch 38/50\n",
      "73892/73892 [==============================] - 2s 24us/step - loss: 0.3580 - acc: 0.8943 - val_loss: 0.3667 - val_acc: 0.8926\n",
      "Epoch 39/50\n",
      "73892/73892 [==============================] - 2s 24us/step - loss: 0.3535 - acc: 0.8956 - val_loss: 0.3628 - val_acc: 0.8930\n",
      "Epoch 40/50\n",
      "73892/73892 [==============================] - 2s 23us/step - loss: 0.3475 - acc: 0.8972 - val_loss: 0.3571 - val_acc: 0.8950\n",
      "Epoch 41/50\n",
      "73892/73892 [==============================] - 2s 24us/step - loss: 0.3431 - acc: 0.8985 - val_loss: 0.3540 - val_acc: 0.8958\n",
      "Epoch 42/50\n",
      "73892/73892 [==============================] - 2s 23us/step - loss: 0.3377 - acc: 0.8997 - val_loss: 0.3484 - val_acc: 0.8968\n",
      "Epoch 43/50\n",
      "73892/73892 [==============================] - 2s 24us/step - loss: 0.3345 - acc: 0.9004 - val_loss: 0.3496 - val_acc: 0.8959\n",
      "Epoch 44/50\n",
      "73892/73892 [==============================] - 2s 24us/step - loss: 0.3296 - acc: 0.9016 - val_loss: 0.3394 - val_acc: 0.8993\n",
      "Epoch 45/50\n",
      "73892/73892 [==============================] - 2s 24us/step - loss: 0.3256 - acc: 0.9026 - val_loss: 0.3349 - val_acc: 0.9008\n",
      "Epoch 46/50\n",
      "73892/73892 [==============================] - 2s 24us/step - loss: 0.3212 - acc: 0.9038 - val_loss: 0.3315 - val_acc: 0.9013\n",
      "Epoch 47/50\n",
      "73892/73892 [==============================] - 2s 23us/step - loss: 0.3170 - acc: 0.9049 - val_loss: 0.3298 - val_acc: 0.9015\n",
      "Epoch 48/50\n",
      "73892/73892 [==============================] - 2s 24us/step - loss: 0.3137 - acc: 0.9058 - val_loss: 0.3331 - val_acc: 0.8999\n",
      "Epoch 49/50\n",
      "73892/73892 [==============================] - 2s 24us/step - loss: 0.3124 - acc: 0.9058 - val_loss: 0.3216 - val_acc: 0.9039\n",
      "Epoch 50/50\n",
      "73892/73892 [==============================] - 2s 23us/step - loss: 0.3075 - acc: 0.9071 - val_loss: 0.3234 - val_acc: 0.9033\n",
      "son fruit préféré est moins la mangue mais leur moins préféré est la banane <PAD> <PAD> <PAD> <PAD> <PAD> <PAD> <PAD>\n"
     ]
    }
   ],
   "source": [
    "def embed_model(input_shape, output_sequence_length, english_vocab_size, french_vocab_size):\n",
    "    \"\"\"\n",
    "    Build and train a RNN model using word embedding on x and y\n",
    "    :param input_shape: Tuple of input shape\n",
    "    :param output_sequence_length: Length of output sequence\n",
    "    :param english_vocab_size: Number of unique English words in the dataset\n",
    "    :param french_vocab_size: Number of unique French words in the dataset\n",
    "    :return: Keras model built, but not trained\n",
    "    \"\"\"\n",
    "    # TODO: Implement\n",
    "    learning_rate = 1e-3\n",
    "    embedding_size = 32\n",
    "\n",
    "    input_seq = Input(shape=input_shape[1:])\n",
    "    input_emb = Embedding(english_vocab_size, embedding_size, input_length=input_shape[1])(input_seq)\n",
    "    rnn = GRU(64, return_sequences=True)(input_emb)\n",
    "    logits = TimeDistributed(Dense(french_vocab_size))(rnn)\n",
    "\n",
    "    model = Model(input_seq, Activation('softmax')(logits))\n",
    "    model.compile(loss=sparse_categorical_crossentropy,\n",
    "                  optimizer=Adam(learning_rate),\n",
    "                  metrics=['accuracy'])\n",
    "    return model\n",
    "\n",
    "tests.test_embed_model(embed_model)\n",
    "\n",
    "\n",
    "# TODO: Reshape the input\n",
    "tmp_x = pad(train_english_sentences, max_french_sequence_length)\n",
    "tmp_x = tmp_x.reshape((-1, preproc_french_sentences.shape[-2]))\n",
    "\n",
    "# TODO: Train the neural network\n",
    "simple_embed_model = embed_model(\n",
    "    tmp_x.shape,\n",
    "    max_french_sequence_length,\n",
    "    english_vocab_size,\n",
    "    french_vocab_size)\n",
    "simple_embed_model.fit(tmp_x, train_french_sentences, batch_size=1024, epochs=50, validation_split=0.2)\n",
    "\n",
    "# TODO: Print prediction(s)\n",
    "print(logits_to_text(simple_embed_model.predict(tmp_x[:1])[0], french_tokenizer))"
   ]
  },
  {
   "cell_type": "markdown",
   "metadata": {},
   "source": [
    "#### Evaluate Test Accuracy"
   ]
  },
  {
   "cell_type": "code",
   "execution_count": 150,
   "metadata": {},
   "outputs": [
    {
     "name": "stdout",
     "output_type": "stream",
     "text": [
      "45495/45495 [==============================] - 0s 8us/step\n",
      "loss: nan, accuracy: 0.905\n"
     ]
    }
   ],
   "source": [
    "tmp_x = pad(test_english_sentences, max_french_sequence_length)\n",
    "tmp_x = tmp_x.reshape((-1, max_french_sequence_length))\n",
    "\n",
    "_loss, _acc = simple_embed_model.evaluate(tmp_x, test_french_sentences, batch_size=1024, verbose=True)\n",
    "print(f'loss: {_loss:.3f}, accuracy: {_acc:.3f}')"
   ]
  },
  {
   "cell_type": "markdown",
   "metadata": {},
   "source": [
    "### Model 3: Bidirectional RNNs (IMPLEMENTATION)\n",
    "![RNN](images/bidirectional.png)\n",
    "One restriction of a RNN is that it can't see the future input, only the past.  This is where bidirectional recurrent neural networks come in.  They are able to see the future data."
   ]
  },
  {
   "cell_type": "code",
   "execution_count": 151,
   "metadata": {},
   "outputs": [
    {
     "name": "stdout",
     "output_type": "stream",
     "text": [
      "Train on 73892 samples, validate on 18474 samples\n",
      "Epoch 1/50\n",
      "73892/73892 [==============================] - 15s 200us/step - loss: 3.5562 - acc: 0.4451 - val_loss: 2.4211 - val_acc: 0.4826\n",
      "Epoch 2/50\n",
      "73892/73892 [==============================] - 3s 35us/step - loss: 2.2075 - acc: 0.5183 - val_loss: 1.9891 - val_acc: 0.5625\n",
      "Epoch 3/50\n",
      "73892/73892 [==============================] - 3s 36us/step - loss: 1.8134 - acc: 0.5727 - val_loss: 1.6862 - val_acc: 0.5821\n",
      "Epoch 4/50\n",
      "73892/73892 [==============================] - 3s 36us/step - loss: 1.6081 - acc: 0.5964 - val_loss: 1.5513 - val_acc: 0.6049\n",
      "Epoch 5/50\n",
      "73892/73892 [==============================] - 3s 35us/step - loss: 1.5014 - acc: 0.6118 - val_loss: 1.4669 - val_acc: 0.6161\n",
      "Epoch 6/50\n",
      "73892/73892 [==============================] - 3s 35us/step - loss: 1.4298 - acc: 0.6213 - val_loss: 1.4066 - val_acc: 0.6233\n",
      "Epoch 7/50\n",
      "73892/73892 [==============================] - 3s 36us/step - loss: 1.3751 - acc: 0.6294 - val_loss: 1.3570 - val_acc: 0.6314\n",
      "Epoch 8/50\n",
      "73892/73892 [==============================] - 3s 36us/step - loss: 1.3286 - acc: 0.6371 - val_loss: 1.3140 - val_acc: 0.6416\n",
      "Epoch 9/50\n",
      "73892/73892 [==============================] - 3s 36us/step - loss: 1.2889 - acc: 0.6447 - val_loss: 1.2775 - val_acc: 0.6453\n",
      "Epoch 10/50\n",
      "73892/73892 [==============================] - 3s 35us/step - loss: 1.2548 - acc: 0.6510 - val_loss: 1.2466 - val_acc: 0.6492\n",
      "Epoch 11/50\n",
      "73892/73892 [==============================] - 3s 36us/step - loss: 1.2262 - acc: 0.6552 - val_loss: 1.2198 - val_acc: 0.6551\n",
      "Epoch 12/50\n",
      "73892/73892 [==============================] - 3s 36us/step - loss: 1.2001 - acc: 0.6596 - val_loss: 1.1954 - val_acc: 0.6580\n",
      "Epoch 13/50\n",
      "73892/73892 [==============================] - 3s 35us/step - loss: 1.1776 - acc: 0.6624 - val_loss: 1.1744 - val_acc: 0.6619\n",
      "Epoch 14/50\n",
      "73892/73892 [==============================] - 3s 35us/step - loss: 1.1576 - acc: 0.6646 - val_loss: 1.1560 - val_acc: 0.6641\n",
      "Epoch 15/50\n",
      "73892/73892 [==============================] - 3s 35us/step - loss: 1.1394 - acc: 0.6669 - val_loss: 1.1394 - val_acc: 0.6652\n",
      "Epoch 16/50\n",
      "73892/73892 [==============================] - 3s 35us/step - loss: 1.1230 - acc: 0.6692 - val_loss: 1.1225 - val_acc: 0.6681\n",
      "Epoch 17/50\n",
      "73892/73892 [==============================] - 3s 36us/step - loss: 1.1081 - acc: 0.6713 - val_loss: 1.1085 - val_acc: 0.6704\n",
      "Epoch 18/50\n",
      "73892/73892 [==============================] - 3s 36us/step - loss: 1.0940 - acc: 0.6736 - val_loss: 1.0965 - val_acc: 0.6730\n",
      "Epoch 19/50\n",
      "73892/73892 [==============================] - 3s 35us/step - loss: 1.0807 - acc: 0.6762 - val_loss: 1.0828 - val_acc: 0.6761\n",
      "Epoch 20/50\n",
      "73892/73892 [==============================] - 3s 36us/step - loss: 1.0685 - acc: 0.6782 - val_loss: 1.0707 - val_acc: 0.6781\n",
      "Epoch 21/50\n",
      "73892/73892 [==============================] - 3s 36us/step - loss: 1.0562 - acc: 0.6807 - val_loss: 1.0581 - val_acc: 0.6802\n",
      "Epoch 22/50\n",
      "73892/73892 [==============================] - 3s 36us/step - loss: 1.0447 - acc: 0.6835 - val_loss: 1.0467 - val_acc: 0.6831\n",
      "Epoch 23/50\n",
      "73892/73892 [==============================] - 3s 35us/step - loss: 1.0337 - acc: 0.6859 - val_loss: 1.0363 - val_acc: 0.6853\n",
      "Epoch 24/50\n",
      "73892/73892 [==============================] - 3s 35us/step - loss: 1.0235 - acc: 0.6877 - val_loss: 1.0278 - val_acc: 0.6877\n",
      "Epoch 25/50\n",
      "73892/73892 [==============================] - 3s 36us/step - loss: 1.0134 - acc: 0.6898 - val_loss: 1.0174 - val_acc: 0.6874\n",
      "Epoch 26/50\n",
      "73892/73892 [==============================] - 3s 36us/step - loss: 1.0042 - acc: 0.6915 - val_loss: 1.0086 - val_acc: 0.6898\n",
      "Epoch 27/50\n",
      "73892/73892 [==============================] - 3s 35us/step - loss: 0.9962 - acc: 0.6923 - val_loss: 0.9994 - val_acc: 0.6895\n",
      "Epoch 28/50\n",
      "73892/73892 [==============================] - 3s 36us/step - loss: 0.9870 - acc: 0.6942 - val_loss: 0.9911 - val_acc: 0.6932\n",
      "Epoch 29/50\n",
      "73892/73892 [==============================] - 3s 36us/step - loss: 0.9793 - acc: 0.6955 - val_loss: 0.9856 - val_acc: 0.6931\n",
      "Epoch 30/50\n",
      "73892/73892 [==============================] - 3s 36us/step - loss: 0.9723 - acc: 0.6966 - val_loss: 0.9791 - val_acc: 0.6934\n",
      "Epoch 31/50\n",
      "73892/73892 [==============================] - 3s 36us/step - loss: 0.9658 - acc: 0.6978 - val_loss: 0.9707 - val_acc: 0.6978\n",
      "Epoch 32/50\n",
      "73892/73892 [==============================] - 3s 36us/step - loss: 0.9597 - acc: 0.6987 - val_loss: 0.9648 - val_acc: 0.6991\n",
      "Epoch 33/50\n",
      "73892/73892 [==============================] - 3s 35us/step - loss: 0.9525 - acc: 0.7004 - val_loss: 0.9589 - val_acc: 0.6989\n",
      "Epoch 34/50\n",
      "73892/73892 [==============================] - 3s 36us/step - loss: 0.9469 - acc: 0.7008 - val_loss: 0.9536 - val_acc: 0.6984\n",
      "Epoch 35/50\n",
      "73892/73892 [==============================] - 3s 36us/step - loss: 0.9412 - acc: 0.7022 - val_loss: 0.9474 - val_acc: 0.6985\n",
      "Epoch 36/50\n",
      "73892/73892 [==============================] - 3s 36us/step - loss: 0.9363 - acc: 0.7026 - val_loss: 0.9425 - val_acc: 0.7021\n",
      "Epoch 37/50\n",
      "73892/73892 [==============================] - 3s 36us/step - loss: 0.9309 - acc: 0.7040 - val_loss: 0.9396 - val_acc: 0.7015\n",
      "Epoch 38/50\n",
      "73892/73892 [==============================] - 3s 35us/step - loss: 0.9259 - acc: 0.7050 - val_loss: 0.9322 - val_acc: 0.7039\n",
      "Epoch 39/50\n",
      "73892/73892 [==============================] - 3s 36us/step - loss: 0.9205 - acc: 0.7056 - val_loss: 0.9283 - val_acc: 0.7054\n",
      "Epoch 40/50\n",
      "73892/73892 [==============================] - 3s 36us/step - loss: 0.9167 - acc: 0.7066 - val_loss: 0.9215 - val_acc: 0.7039\n",
      "Epoch 41/50\n",
      "73892/73892 [==============================] - 3s 35us/step - loss: 0.9121 - acc: 0.7071 - val_loss: 0.9200 - val_acc: 0.7038\n",
      "Epoch 42/50\n",
      "73892/73892 [==============================] - 3s 35us/step - loss: 0.9074 - acc: 0.7078 - val_loss: 0.9132 - val_acc: 0.7052\n",
      "Epoch 43/50\n",
      "73892/73892 [==============================] - 3s 36us/step - loss: 0.9034 - acc: 0.7090 - val_loss: 0.9122 - val_acc: 0.7052\n",
      "Epoch 44/50\n",
      "73892/73892 [==============================] - 3s 36us/step - loss: 0.8998 - acc: 0.7095 - val_loss: 0.9063 - val_acc: 0.7069\n",
      "Epoch 45/50\n",
      "73892/73892 [==============================] - 3s 36us/step - loss: 0.8951 - acc: 0.7104 - val_loss: 0.9083 - val_acc: 0.7058\n",
      "Epoch 46/50\n",
      "73892/73892 [==============================] - 3s 36us/step - loss: 0.8922 - acc: 0.7110 - val_loss: 0.8987 - val_acc: 0.7080\n",
      "Epoch 47/50\n",
      "73892/73892 [==============================] - 3s 36us/step - loss: 0.8875 - acc: 0.7115 - val_loss: 0.8989 - val_acc: 0.7085\n",
      "Epoch 48/50\n",
      "73892/73892 [==============================] - 3s 36us/step - loss: 0.8839 - acc: 0.7127 - val_loss: 0.8908 - val_acc: 0.7097\n",
      "Epoch 49/50\n",
      "73892/73892 [==============================] - 3s 36us/step - loss: 0.8806 - acc: 0.7132 - val_loss: 0.8894 - val_acc: 0.7101\n",
      "Epoch 50/50\n",
      "73892/73892 [==============================] - 3s 36us/step - loss: 0.8783 - acc: 0.7136 - val_loss: 0.8849 - val_acc: 0.7115\n",
      "son fruit préféré est moins la poire mais leur moins préféré est la <PAD> <PAD> <PAD> <PAD> <PAD> <PAD> <PAD> <PAD>\n"
     ]
    }
   ],
   "source": [
    "def bd_model(input_shape, output_sequence_length, english_vocab_size, french_vocab_size):\n",
    "    \"\"\"\n",
    "    Build and train a bidirectional RNN model on x and y\n",
    "    :param input_shape: Tuple of input shape\n",
    "    :param output_sequence_length: Length of output sequence\n",
    "    :param english_vocab_size: Number of unique English words in the dataset\n",
    "    :param french_vocab_size: Number of unique French words in the dataset\n",
    "    :return: Keras model built, but not trained\n",
    "    \"\"\"\n",
    "    # TODO: Implement\n",
    "    learning_rate = 1e-3\n",
    "\n",
    "    input_seq = Input(input_shape[1:])\n",
    "    rnn = Bidirectional(GRU(64, return_sequences=True))(input_seq)\n",
    "    logits = TimeDistributed(Dense(french_vocab_size))(rnn)\n",
    "\n",
    "    model = Model(input_seq, Activation('softmax')(logits))\n",
    "    model.compile(loss=sparse_categorical_crossentropy,\n",
    "                  optimizer=Adam(learning_rate),\n",
    "                  metrics=['accuracy'])\n",
    "    return model\n",
    "\n",
    "tests.test_bd_model(bd_model)\n",
    "\n",
    "# TODO: Reshape the input\n",
    "tmp_x = pad(train_english_sentences, max_french_sequence_length)\n",
    "tmp_x = tmp_x.reshape((-1, max_french_sequence_length, 1))\n",
    "\n",
    "# TODO: Train the neural network\n",
    "simple_bd_model = bd_model(\n",
    "    tmp_x.shape,\n",
    "    max_french_sequence_length,\n",
    "    english_vocab_size,\n",
    "    french_vocab_size)\n",
    "simple_bd_model.fit(tmp_x, train_french_sentences, batch_size=1024, epochs=50, validation_split=0.2)\n",
    "\n",
    "# TODO: Print prediction(s)\n",
    "print(logits_to_text(simple_bd_model.predict(tmp_x[:1])[0], french_tokenizer))"
   ]
  },
  {
   "cell_type": "markdown",
   "metadata": {},
   "source": [
    "#### Evaluate Test Accuracy"
   ]
  },
  {
   "cell_type": "code",
   "execution_count": 152,
   "metadata": {},
   "outputs": [
    {
     "name": "stdout",
     "output_type": "stream",
     "text": [
      "45495/45495 [==============================] - 1s 11us/step\n",
      "loss: nan, accuracy: 0.715\n"
     ]
    }
   ],
   "source": [
    "tmp_x = pad(test_english_sentences, max_french_sequence_length)\n",
    "tmp_x = tmp_x.reshape((-1, max_french_sequence_length, 1))\n",
    "\n",
    "_loss, _acc = simple_bd_model.evaluate(tmp_x, test_french_sentences, batch_size=1024, verbose=True)\n",
    "print(f'loss: {_loss:.3f}, accuracy: {_acc:.3f}')"
   ]
  },
  {
   "cell_type": "markdown",
   "metadata": {},
   "source": [
    "### Model 4: Encoder-Decoder (IMPLEMENTATION)\n",
    "Time to look at encoder-decoder models.  This model is made up of an encoder and decoder. The encoder creates a matrix representation of the sentence.  The decoder takes this matrix as input and predicts the translation as output.\n",
    "\n",
    "Create an encoder-decoder model in the cell below."
   ]
  },
  {
   "cell_type": "code",
   "execution_count": 153,
   "metadata": {},
   "outputs": [
    {
     "name": "stdout",
     "output_type": "stream",
     "text": [
      "Train on 73892 samples, validate on 18474 samples\n",
      "Epoch 1/50\n",
      "73892/73892 [==============================] - 15s 208us/step - loss: 3.7224 - acc: 0.4158 - val_loss: 2.7637 - val_acc: 0.4416\n",
      "Epoch 2/50\n",
      "73892/73892 [==============================] - 3s 39us/step - loss: 2.6043 - acc: 0.4629 - val_loss: 2.4968 - val_acc: 0.4709\n",
      "Epoch 3/50\n",
      "73892/73892 [==============================] - 3s 39us/step - loss: 2.3947 - acc: 0.4922 - val_loss: 2.3356 - val_acc: 0.4960\n",
      "Epoch 4/50\n",
      "73892/73892 [==============================] - 3s 39us/step - loss: 2.2871 - acc: 0.4997 - val_loss: 2.2590 - val_acc: 0.5009\n",
      "Epoch 5/50\n",
      "73892/73892 [==============================] - 3s 39us/step - loss: 2.2181 - acc: 0.5022 - val_loss: 2.1872 - val_acc: 0.5064\n",
      "Epoch 6/50\n",
      "73892/73892 [==============================] - 3s 39us/step - loss: 2.1304 - acc: 0.5122 - val_loss: 2.0840 - val_acc: 0.5154\n",
      "Epoch 7/50\n",
      "73892/73892 [==============================] - 3s 39us/step - loss: 2.0016 - acc: 0.5207 - val_loss: 1.9334 - val_acc: 0.5243\n",
      "Epoch 8/50\n",
      "73892/73892 [==============================] - 3s 39us/step - loss: 1.8616 - acc: 0.5481 - val_loss: 1.8182 - val_acc: 0.5515\n",
      "Epoch 9/50\n",
      "73892/73892 [==============================] - 3s 39us/step - loss: 1.7766 - acc: 0.5551 - val_loss: 1.7496 - val_acc: 0.5571\n",
      "Epoch 10/50\n",
      "73892/73892 [==============================] - 3s 39us/step - loss: 1.7189 - acc: 0.5623 - val_loss: 1.7017 - val_acc: 0.5637\n",
      "Epoch 11/50\n",
      "73892/73892 [==============================] - 3s 39us/step - loss: 1.6719 - acc: 0.5670 - val_loss: 1.6580 - val_acc: 0.5649\n",
      "Epoch 12/50\n",
      "73892/73892 [==============================] - 3s 39us/step - loss: 1.6333 - acc: 0.5727 - val_loss: 1.6355 - val_acc: 0.5663\n",
      "Epoch 13/50\n",
      "73892/73892 [==============================] - 3s 39us/step - loss: 1.6006 - acc: 0.5770 - val_loss: 1.5939 - val_acc: 0.5780\n",
      "Epoch 14/50\n",
      "73892/73892 [==============================] - 3s 39us/step - loss: 1.5685 - acc: 0.5827 - val_loss: 1.5585 - val_acc: 0.5830\n",
      "Epoch 15/50\n",
      "73892/73892 [==============================] - 3s 39us/step - loss: 1.5392 - acc: 0.5884 - val_loss: 1.5301 - val_acc: 0.5893\n",
      "Epoch 16/50\n",
      "73892/73892 [==============================] - 3s 39us/step - loss: 1.5099 - acc: 0.5914 - val_loss: 1.4996 - val_acc: 0.5931\n",
      "Epoch 17/50\n",
      "73892/73892 [==============================] - 3s 39us/step - loss: 1.4800 - acc: 0.5965 - val_loss: 1.4873 - val_acc: 0.5947\n",
      "Epoch 18/50\n",
      "73892/73892 [==============================] - 3s 38us/step - loss: 1.4547 - acc: 0.6006 - val_loss: 1.4470 - val_acc: 0.6008\n",
      "Epoch 19/50\n",
      "73892/73892 [==============================] - 3s 39us/step - loss: 1.4297 - acc: 0.6052 - val_loss: 1.4249 - val_acc: 0.6058\n",
      "Epoch 20/50\n",
      "73892/73892 [==============================] - 3s 39us/step - loss: 1.4081 - acc: 0.6119 - val_loss: 1.4050 - val_acc: 0.6119\n",
      "Epoch 21/50\n",
      "73892/73892 [==============================] - 3s 40us/step - loss: 1.3915 - acc: 0.6163 - val_loss: 1.3865 - val_acc: 0.6177\n",
      "Epoch 22/50\n",
      "73892/73892 [==============================] - 3s 39us/step - loss: 1.3711 - acc: 0.6215 - val_loss: 1.3658 - val_acc: 0.6247\n",
      "Epoch 23/50\n",
      "73892/73892 [==============================] - 3s 39us/step - loss: 1.3535 - acc: 0.6262 - val_loss: 1.3535 - val_acc: 0.6243\n",
      "Epoch 24/50\n",
      "73892/73892 [==============================] - 3s 38us/step - loss: 1.3372 - acc: 0.6289 - val_loss: 1.3339 - val_acc: 0.6305\n",
      "Epoch 25/50\n",
      "73892/73892 [==============================] - 3s 39us/step - loss: 1.3204 - acc: 0.6322 - val_loss: 1.3224 - val_acc: 0.6312\n",
      "Epoch 26/50\n",
      "73892/73892 [==============================] - 3s 39us/step - loss: 1.3071 - acc: 0.6346 - val_loss: 1.3078 - val_acc: 0.6337\n",
      "Epoch 27/50\n",
      "73892/73892 [==============================] - 3s 38us/step - loss: 1.2992 - acc: 0.6353 - val_loss: 1.3516 - val_acc: 0.6174\n",
      "Epoch 28/50\n",
      "73892/73892 [==============================] - 3s 39us/step - loss: 1.2894 - acc: 0.6365 - val_loss: 1.2938 - val_acc: 0.6335\n",
      "Epoch 29/50\n",
      "73892/73892 [==============================] - 3s 39us/step - loss: 1.2762 - acc: 0.6384 - val_loss: 1.2806 - val_acc: 0.6361\n",
      "Epoch 30/50\n",
      "73892/73892 [==============================] - 3s 39us/step - loss: 1.2666 - acc: 0.6393 - val_loss: 1.2772 - val_acc: 0.6364\n",
      "Epoch 31/50\n",
      "73892/73892 [==============================] - 3s 39us/step - loss: 1.2598 - acc: 0.6397 - val_loss: 1.2619 - val_acc: 0.6376\n",
      "Epoch 32/50\n",
      "73892/73892 [==============================] - 3s 39us/step - loss: 1.2521 - acc: 0.6403 - val_loss: 1.2559 - val_acc: 0.6385\n",
      "Epoch 33/50\n",
      "73892/73892 [==============================] - 3s 39us/step - loss: 1.2439 - acc: 0.6412 - val_loss: 1.2478 - val_acc: 0.6395\n",
      "Epoch 34/50\n",
      "73892/73892 [==============================] - 3s 39us/step - loss: 1.2364 - acc: 0.6420 - val_loss: 1.2451 - val_acc: 0.6386\n",
      "Epoch 35/50\n",
      "73892/73892 [==============================] - 3s 39us/step - loss: 1.2306 - acc: 0.6426 - val_loss: 1.2574 - val_acc: 0.6327\n",
      "Epoch 36/50\n",
      "73892/73892 [==============================] - 3s 39us/step - loss: 1.2288 - acc: 0.6424 - val_loss: 1.2320 - val_acc: 0.6415\n",
      "Epoch 37/50\n",
      "73892/73892 [==============================] - 3s 39us/step - loss: 1.2185 - acc: 0.6445 - val_loss: 1.2226 - val_acc: 0.6430\n",
      "Epoch 38/50\n",
      "73892/73892 [==============================] - 3s 39us/step - loss: 1.2144 - acc: 0.6449 - val_loss: 1.2218 - val_acc: 0.6417\n",
      "Epoch 39/50\n",
      "73892/73892 [==============================] - 3s 39us/step - loss: 1.2089 - acc: 0.6460 - val_loss: 1.2281 - val_acc: 0.6383\n",
      "Epoch 40/50\n",
      "73892/73892 [==============================] - 3s 39us/step - loss: 1.2054 - acc: 0.6459 - val_loss: 1.2039 - val_acc: 0.6452\n",
      "Epoch 41/50\n",
      "73892/73892 [==============================] - 3s 39us/step - loss: 1.1977 - acc: 0.6489 - val_loss: 1.2024 - val_acc: 0.6490\n",
      "Epoch 42/50\n",
      "73892/73892 [==============================] - 3s 39us/step - loss: 1.1894 - acc: 0.6504 - val_loss: 1.1834 - val_acc: 0.6529\n",
      "Epoch 43/50\n",
      "73892/73892 [==============================] - 3s 39us/step - loss: 1.1808 - acc: 0.6528 - val_loss: 1.2018 - val_acc: 0.6489\n",
      "Epoch 44/50\n",
      "73892/73892 [==============================] - 3s 39us/step - loss: 1.1867 - acc: 0.6505 - val_loss: 1.2497 - val_acc: 0.6336\n",
      "Epoch 45/50\n",
      "73892/73892 [==============================] - 3s 38us/step - loss: 1.1888 - acc: 0.6501 - val_loss: 1.1651 - val_acc: 0.6559\n",
      "Epoch 46/50\n",
      "73892/73892 [==============================] - 3s 39us/step - loss: 1.1533 - acc: 0.6601 - val_loss: 1.2059 - val_acc: 0.6461\n",
      "Epoch 47/50\n",
      "73892/73892 [==============================] - 3s 39us/step - loss: 1.1753 - acc: 0.6534 - val_loss: 1.1515 - val_acc: 0.6596\n",
      "Epoch 48/50\n",
      "73892/73892 [==============================] - 3s 40us/step - loss: 1.1438 - acc: 0.6625 - val_loss: 1.1576 - val_acc: 0.6600\n",
      "Epoch 49/50\n",
      "73892/73892 [==============================] - 3s 39us/step - loss: 1.1377 - acc: 0.6637 - val_loss: 1.1441 - val_acc: 0.6585\n",
      "Epoch 50/50\n",
      "73892/73892 [==============================] - 3s 39us/step - loss: 1.1266 - acc: 0.6663 - val_loss: 1.1308 - val_acc: 0.6641\n",
      "son fruit préféré est moins la mais mais son moins préféré est la <PAD> <PAD> <PAD> <PAD> <PAD> <PAD> <PAD> <PAD>\n"
     ]
    }
   ],
   "source": [
    "def encdec_model(input_shape, output_sequence_length, english_vocab_size, french_vocab_size):\n",
    "    \"\"\"\n",
    "    Build and train an encoder-decoder model on x and y\n",
    "    :param input_shape: Tuple of input shape\n",
    "    :param output_sequence_length: Length of output sequence\n",
    "    :param english_vocab_size: Number of unique English words in the dataset\n",
    "    :param french_vocab_size: Number of unique French words in the dataset\n",
    "    :return: Keras model built, but not trained\n",
    "    \"\"\"\n",
    "    # TODO: Implement\n",
    "    learning_rate = 1e-3\n",
    "    latent_dim = 64\n",
    "\n",
    "    encoder_inputs = Input(input_shape[1:])\n",
    "    encoder_output, state_h = GRU(latent_dim, return_state=True)(encoder_inputs)\n",
    "    \n",
    "    decoder_inputs = RepeatVector(output_sequence_length)(encoder_output)\n",
    "    decoder_output = GRU(latent_dim, return_sequences=True)(decoder_inputs, initial_state=state_h)\n",
    "    logits = TimeDistributed(Dense(french_vocab_size))(decoder_output)\n",
    "\n",
    "    model = Model(encoder_inputs, Activation('softmax')(logits))\n",
    "    model.compile(loss=sparse_categorical_crossentropy,\n",
    "                  optimizer=Adam(learning_rate),\n",
    "                  metrics=['accuracy'])\n",
    "    return model\n",
    "    \n",
    "tests.test_encdec_model(encdec_model)\n",
    "\n",
    "# TODO: Reshape the input\n",
    "tmp_x = pad(train_english_sentences, max_french_sequence_length)\n",
    "tmp_x = tmp_x.reshape((-1, max_french_sequence_length, 1))\n",
    "\n",
    "# TODO: Train the neural network\n",
    "simple_encdec_model = encdec_model(\n",
    "    tmp_x.shape,\n",
    "    max_french_sequence_length,\n",
    "    english_vocab_size,\n",
    "    french_vocab_size)\n",
    "simple_encdec_model.fit(tmp_x, train_french_sentences, batch_size=1024, epochs=50, validation_split=0.2)\n",
    "\n",
    "# TODO: Print prediction(s)\n",
    "print(logits_to_text(simple_encdec_model.predict(tmp_x[:1])[0], french_tokenizer))"
   ]
  },
  {
   "cell_type": "markdown",
   "metadata": {},
   "source": [
    "#### Evaluate Test Accuracy"
   ]
  },
  {
   "cell_type": "code",
   "execution_count": 155,
   "metadata": {},
   "outputs": [
    {
     "name": "stdout",
     "output_type": "stream",
     "text": [
      "45495/45495 [==============================] - 1s 12us/step\n",
      "loss: nan, accuracy: 0.667\n"
     ]
    }
   ],
   "source": [
    "tmp_x = pad(test_english_sentences, max_french_sequence_length)\n",
    "tmp_x = tmp_x.reshape((-1, max_french_sequence_length, 1))\n",
    "\n",
    "_loss, _acc = simple_encdec_model.evaluate(tmp_x, test_french_sentences, batch_size=1024, verbose=True)\n",
    "print(f'loss: {_loss:.3f}, accuracy: {_acc:.3f}')"
   ]
  },
  {
   "cell_type": "markdown",
   "metadata": {},
   "source": [
    "### Model 5: Custom (IMPLEMENTATION)\n",
    "Use everything you learned from the previous models to create a model that incorporates embedding and a bidirectional rnn into one model."
   ]
  },
  {
   "cell_type": "code",
   "execution_count": 156,
   "metadata": {},
   "outputs": [
    {
     "name": "stdout",
     "output_type": "stream",
     "text": [
      "Final Model Loaded\n",
      "Train on 73892 samples, validate on 18474 samples\n",
      "Epoch 1/50\n",
      "73892/73892 [==============================] - 19s 255us/step - loss: 3.7020 - acc: 0.4044 - val_loss: 2.7925 - val_acc: 0.4404\n",
      "Epoch 2/50\n",
      "73892/73892 [==============================] - 5s 71us/step - loss: 2.4647 - acc: 0.4715 - val_loss: 2.2598 - val_acc: 0.5003\n",
      "Epoch 3/50\n",
      "73892/73892 [==============================] - 5s 71us/step - loss: 2.1323 - acc: 0.5158 - val_loss: 1.9586 - val_acc: 0.5282\n",
      "Epoch 4/50\n",
      "73892/73892 [==============================] - 5s 71us/step - loss: 1.8377 - acc: 0.5470 - val_loss: 1.7506 - val_acc: 0.5538\n",
      "Epoch 5/50\n",
      "73892/73892 [==============================] - 5s 71us/step - loss: 1.6801 - acc: 0.5687 - val_loss: 1.6302 - val_acc: 0.5748\n",
      "Epoch 6/50\n",
      "73892/73892 [==============================] - 5s 71us/step - loss: 1.5713 - acc: 0.5858 - val_loss: 1.5296 - val_acc: 0.5893\n",
      "Epoch 7/50\n",
      "73892/73892 [==============================] - 5s 71us/step - loss: 1.4838 - acc: 0.6015 - val_loss: 1.4758 - val_acc: 0.6060\n",
      "Epoch 8/50\n",
      "73892/73892 [==============================] - 5s 71us/step - loss: 1.4185 - acc: 0.6168 - val_loss: 1.3970 - val_acc: 0.6207\n",
      "Epoch 9/50\n",
      "73892/73892 [==============================] - 5s 71us/step - loss: 1.3637 - acc: 0.6274 - val_loss: 1.3498 - val_acc: 0.6297\n",
      "Epoch 10/50\n",
      "73892/73892 [==============================] - 5s 71us/step - loss: 1.3178 - acc: 0.6369 - val_loss: 1.3031 - val_acc: 0.6392\n",
      "Epoch 11/50\n",
      "73892/73892 [==============================] - 5s 71us/step - loss: 1.2737 - acc: 0.6486 - val_loss: 1.2543 - val_acc: 0.6519\n",
      "Epoch 12/50\n",
      "73892/73892 [==============================] - 5s 71us/step - loss: 1.2306 - acc: 0.6595 - val_loss: 1.2248 - val_acc: 0.6613\n",
      "Epoch 13/50\n",
      "73892/73892 [==============================] - 5s 71us/step - loss: 1.1917 - acc: 0.6700 - val_loss: 1.1845 - val_acc: 0.6752\n",
      "Epoch 14/50\n",
      "73892/73892 [==============================] - 5s 71us/step - loss: 1.1552 - acc: 0.6813 - val_loss: 1.1402 - val_acc: 0.6846\n",
      "Epoch 15/50\n",
      "73892/73892 [==============================] - 5s 71us/step - loss: 1.1178 - acc: 0.6909 - val_loss: 1.1055 - val_acc: 0.6949\n",
      "Epoch 16/50\n",
      "73892/73892 [==============================] - 5s 71us/step - loss: 1.0897 - acc: 0.6975 - val_loss: 1.0972 - val_acc: 0.6945\n",
      "Epoch 17/50\n",
      "73892/73892 [==============================] - 5s 71us/step - loss: 1.0639 - acc: 0.7036 - val_loss: 1.0609 - val_acc: 0.7045\n",
      "Epoch 18/50\n",
      "73892/73892 [==============================] - 5s 71us/step - loss: 1.0367 - acc: 0.7101 - val_loss: 1.0323 - val_acc: 0.7114\n",
      "Epoch 19/50\n",
      "73892/73892 [==============================] - 5s 71us/step - loss: 1.0151 - acc: 0.7146 - val_loss: 1.0158 - val_acc: 0.7159\n",
      "Epoch 20/50\n",
      "73892/73892 [==============================] - 5s 70us/step - loss: 0.9966 - acc: 0.7183 - val_loss: 0.9922 - val_acc: 0.7183\n",
      "Epoch 21/50\n",
      "73892/73892 [==============================] - 5s 72us/step - loss: 0.9788 - acc: 0.7218 - val_loss: 0.9722 - val_acc: 0.7235\n",
      "Epoch 22/50\n",
      "73892/73892 [==============================] - 5s 71us/step - loss: 0.9620 - acc: 0.7257 - val_loss: 0.9647 - val_acc: 0.7255\n",
      "Epoch 23/50\n",
      "73892/73892 [==============================] - 5s 71us/step - loss: 0.9461 - acc: 0.7292 - val_loss: 0.9425 - val_acc: 0.7296\n",
      "Epoch 24/50\n",
      "73892/73892 [==============================] - 5s 71us/step - loss: 0.9318 - acc: 0.7319 - val_loss: 0.9338 - val_acc: 0.7304\n",
      "Epoch 25/50\n",
      "73892/73892 [==============================] - 5s 71us/step - loss: 0.9236 - acc: 0.7337 - val_loss: 0.9229 - val_acc: 0.7336\n",
      "Epoch 26/50\n",
      "73892/73892 [==============================] - 5s 71us/step - loss: 0.9087 - acc: 0.7373 - val_loss: 0.9133 - val_acc: 0.7351\n",
      "Epoch 27/50\n",
      "73892/73892 [==============================] - 5s 70us/step - loss: 0.8964 - acc: 0.7394 - val_loss: 0.8983 - val_acc: 0.7396\n",
      "Epoch 28/50\n",
      "73892/73892 [==============================] - 5s 71us/step - loss: 0.8849 - acc: 0.7417 - val_loss: 0.8893 - val_acc: 0.7404\n",
      "Epoch 29/50\n",
      "73892/73892 [==============================] - 5s 70us/step - loss: 0.8775 - acc: 0.7431 - val_loss: 0.8823 - val_acc: 0.7419\n",
      "Epoch 30/50\n",
      "73892/73892 [==============================] - 5s 72us/step - loss: 0.8655 - acc: 0.7457 - val_loss: 0.8805 - val_acc: 0.7421\n",
      "Epoch 31/50\n",
      "73892/73892 [==============================] - 5s 71us/step - loss: 0.8554 - acc: 0.7478 - val_loss: 0.8621 - val_acc: 0.7461\n",
      "Epoch 32/50\n",
      "73892/73892 [==============================] - 5s 71us/step - loss: 0.8455 - acc: 0.7501 - val_loss: 0.8535 - val_acc: 0.7470\n",
      "Epoch 33/50\n",
      "73892/73892 [==============================] - 5s 70us/step - loss: 0.8386 - acc: 0.7515 - val_loss: 0.8522 - val_acc: 0.7485\n",
      "Epoch 34/50\n",
      "73892/73892 [==============================] - 5s 71us/step - loss: 0.8286 - acc: 0.7544 - val_loss: 0.8378 - val_acc: 0.7523\n",
      "Epoch 35/50\n",
      "73892/73892 [==============================] - 5s 71us/step - loss: 0.8203 - acc: 0.7570 - val_loss: 0.8226 - val_acc: 0.7572\n",
      "Epoch 36/50\n",
      "73892/73892 [==============================] - 5s 70us/step - loss: 0.8104 - acc: 0.7600 - val_loss: 0.8221 - val_acc: 0.7569\n",
      "Epoch 37/50\n",
      "73892/73892 [==============================] - 5s 71us/step - loss: 0.8023 - acc: 0.7621 - val_loss: 0.8109 - val_acc: 0.7616\n",
      "Epoch 38/50\n",
      "73892/73892 [==============================] - 5s 71us/step - loss: 0.7935 - acc: 0.7651 - val_loss: 0.7955 - val_acc: 0.7646\n",
      "Epoch 39/50\n",
      "73892/73892 [==============================] - 5s 70us/step - loss: 0.7828 - acc: 0.7680 - val_loss: 0.8000 - val_acc: 0.7632\n",
      "Epoch 40/50\n",
      "73892/73892 [==============================] - 5s 71us/step - loss: 0.7754 - acc: 0.7697 - val_loss: 0.7757 - val_acc: 0.7700\n",
      "Epoch 41/50\n",
      "73892/73892 [==============================] - 5s 71us/step - loss: 0.7660 - acc: 0.7724 - val_loss: 0.7730 - val_acc: 0.7707\n",
      "Epoch 42/50\n",
      "73892/73892 [==============================] - 5s 72us/step - loss: 0.7596 - acc: 0.7742 - val_loss: 0.7603 - val_acc: 0.7742\n",
      "Epoch 43/50\n",
      "73892/73892 [==============================] - 5s 71us/step - loss: 0.7524 - acc: 0.7757 - val_loss: 0.7591 - val_acc: 0.7749\n",
      "Epoch 44/50\n",
      "73892/73892 [==============================] - 5s 70us/step - loss: 0.7461 - acc: 0.7773 - val_loss: 0.7646 - val_acc: 0.7720\n",
      "Epoch 45/50\n",
      "73892/73892 [==============================] - 5s 70us/step - loss: 0.7386 - acc: 0.7787 - val_loss: 0.7394 - val_acc: 0.7782\n",
      "Epoch 46/50\n",
      "73892/73892 [==============================] - 5s 71us/step - loss: 0.7295 - acc: 0.7813 - val_loss: 0.7474 - val_acc: 0.7765\n",
      "Epoch 47/50\n",
      "73892/73892 [==============================] - 5s 71us/step - loss: 0.7242 - acc: 0.7827 - val_loss: 0.7460 - val_acc: 0.7786\n",
      "Epoch 48/50\n",
      "73892/73892 [==============================] - 5s 70us/step - loss: 0.7162 - acc: 0.7844 - val_loss: 0.7178 - val_acc: 0.7846\n",
      "Epoch 49/50\n",
      "73892/73892 [==============================] - 5s 71us/step - loss: 0.7104 - acc: 0.7860 - val_loss: 0.7116 - val_acc: 0.7861\n",
      "Epoch 50/50\n",
      "73892/73892 [==============================] - 5s 71us/step - loss: 0.7046 - acc: 0.7878 - val_loss: 0.7071 - val_acc: 0.7871\n"
     ]
    },
    {
     "data": {
      "text/plain": [
       "<keras.callbacks.History at 0x7f3ab81be760>"
      ]
     },
     "execution_count": 156,
     "metadata": {},
     "output_type": "execute_result"
    }
   ],
   "source": [
    "def model_final(input_shape, output_sequence_length, english_vocab_size, french_vocab_size):\n",
    "    \"\"\"\n",
    "    Build and train a model that incorporates embedding, encoder-decoder, and bidirectional RNN on x and y\n",
    "    :param input_shape: Tuple of input shape\n",
    "    :param output_sequence_length: Length of output sequence\n",
    "    :param english_vocab_size: Number of unique English words in the dataset\n",
    "    :param french_vocab_size: Number of unique French words in the dataset\n",
    "    :return: Keras model built, but not trained\n",
    "    \"\"\"\n",
    "    # # TODO: Implement\n",
    "    learning_rate = 1e-3\n",
    "    embedding_size = 32\n",
    "    latent_dim = 64\n",
    "\n",
    "    encoder_inputs = Input(input_shape[1:])\n",
    "    encoder_emb = Embedding(english_vocab_size, embedding_size, input_length=input_shape[1])(encoder_inputs)\n",
    "    encoder_output, state_h1, state_h2 = Bidirectional(GRU(latent_dim, return_state=True))(encoder_emb)\n",
    "\n",
    "    # decoder_inputs = RepeatVector(output_sequence_length)(encoder_output)\n",
    "    decoder_inputs = RepeatVector(output_sequence_length)(encoder_output)\n",
    "    decoder_output = Bidirectional(GRU(latent_dim, return_sequences=True))(decoder_inputs, initial_state=[state_h1, state_h2])\n",
    "    logits = TimeDistributed(Dense(french_vocab_size))(decoder_output)\n",
    "\n",
    "    model = Model(encoder_inputs, Activation('softmax')(logits))\n",
    "    model.compile(loss=sparse_categorical_crossentropy,\n",
    "                  optimizer=Adam(learning_rate),\n",
    "                  metrics=['accuracy'])\n",
    "    return model\n",
    "\n",
    "tests.test_model_final(model_final)\n",
    "\n",
    "# TODO: Reshape the input\n",
    "tmp_x = pad(train_english_sentences, max_french_sequence_length)\n",
    "tmp_x = tmp_x.reshape((-1, max_french_sequence_length))\n",
    "\n",
    "print('Final Model Loaded')\n",
    "# TODO: Train the final model\n",
    "simple_final_model = model_final(\n",
    "    tmp_x.shape,\n",
    "    max_french_sequence_length,\n",
    "    english_vocab_size,\n",
    "    french_vocab_size)\n",
    "simple_final_model.fit(tmp_x, train_french_sentences, batch_size=1024, epochs=50, validation_split=0.2)\n"
   ]
  },
  {
   "cell_type": "markdown",
   "metadata": {},
   "source": [
    "#### Evaluate Test Accuracy"
   ]
  },
  {
   "cell_type": "code",
   "execution_count": 157,
   "metadata": {},
   "outputs": [
    {
     "name": "stdout",
     "output_type": "stream",
     "text": [
      "45495/45495 [==============================] - 1s 17us/step\n",
      "loss: nan, accuracy: 0.789\n"
     ]
    }
   ],
   "source": [
    "tmp_x = pad(test_english_sentences, max_french_sequence_length)\n",
    "tmp_x = tmp_x.reshape((-1, max_french_sequence_length))\n",
    "\n",
    "_loss, _acc = simple_final_model.evaluate(tmp_x, test_french_sentences, batch_size=1024, verbose=True)\n",
    "print(f'loss: {_loss:.3f}, accuracy: {_acc:.3f}')"
   ]
  },
  {
   "cell_type": "markdown",
   "metadata": {},
   "source": [
    "## Prediction (IMPLEMENTATION)"
   ]
  },
  {
   "cell_type": "code",
   "execution_count": 137,
   "metadata": {},
   "outputs": [
    {
     "name": "stdout",
     "output_type": "stream",
     "text": [
      "Sample 1:\n",
      "la fruit est fruit la mais mais est favori <PAD> <PAD> <PAD> <PAD> <PAD> <PAD> <PAD> <PAD> <PAD> <PAD> <PAD> <PAD>\n",
      "Il a vu un vieux camion jaune\n",
      "Sample 2:\n",
      "les est est en en en en en en <PAD> <PAD> <PAD> <PAD> <PAD> <PAD> <PAD> <PAD> <PAD> <PAD> <PAD> <PAD>\n",
      "new jersey est parfois calme pendant l' automne et il est neigeux en avril <PAD> <PAD> <PAD> <PAD> <PAD> <PAD> <PAD>\n"
     ]
    }
   ],
   "source": [
    "def final_predictions(x, y, x_tk, y_tk):\n",
    "    \"\"\"\n",
    "    Gets predictions using the final model\n",
    "    :param x: Preprocessed English data\n",
    "    :param y: Preprocessed French data\n",
    "    :param x_tk: English tokenizer\n",
    "    :param y_tk: French tokenizer\n",
    "    \"\"\"\n",
    "    # TODO: Train neural network using model_final\n",
    "    model = simple_final_model\n",
    "    \n",
    "    ## DON'T EDIT ANYTHING BELOW THIS LINE\n",
    "    y_id_to_word = {value: key for key, value in y_tk.word_index.items()}\n",
    "    y_id_to_word[0] = '<PAD>'\n",
    "\n",
    "    sentence = 'he saw a old yellow truck'\n",
    "    sentence = [x_tk.word_index[word] for word in sentence.split()]\n",
    "    sentence = pad_sequences([sentence], maxlen=x.shape[-1], padding='post')\n",
    "    sentences = np.array([sentence[0], x[0]])\n",
    "    sentences = pad_sequences(sentences, max_french_sequence_length)\n",
    "    predictions = model.predict(sentences, len(sentences))\n",
    "\n",
    "    print('Sample 1:')\n",
    "    print(' '.join([y_id_to_word[np.argmax(x)] for x in predictions[0]]))\n",
    "    print('Il a vu un vieux camion jaune')\n",
    "    print('Sample 2:')\n",
    "    print(' '.join([y_id_to_word[np.argmax(x)] for x in predictions[1]]))\n",
    "    print(' '.join([y_id_to_word[np.max(x)] for x in y[0]]))\n",
    "\n",
    "\n",
    "final_predictions(preproc_english_sentences, preproc_french_sentences, english_tokenizer, french_tokenizer)"
   ]
  },
  {
   "cell_type": "markdown",
   "metadata": {},
   "source": [
    "## Submission\n",
    "When you're ready to submit, complete the following steps:\n",
    "1. Review the rubric to ensure your submission meets all requirements to pass\n",
    "2. Generate an HTML version of this notebook\n",
    "\n",
    "  - Run the next cell to attempt automatic generation (this is the recommended method in Workspaces)\n",
    "  - Navigate to **FILE -> Download as -> HTML (.html)**\n",
    "  - Manually generate a copy using `nbconvert` from your shell terminal\n",
    "```\n",
    "$ pip install nbconvert\n",
    "$ python -m nbconvert machine_translation.ipynb\n",
    "```\n",
    "  \n",
    "3. Submit the project\n",
    "\n",
    "  - If you are in a Workspace, simply click the \"Submit Project\" button (bottom towards the right)\n",
    "  \n",
    "  - Otherwise, add the following files into a zip archive and submit them \n",
    "  - `helper.py`\n",
    "  - `machine_translation.ipynb`\n",
    "  - `machine_translation.html`\n",
    "    - You can export the notebook by navigating to **File -> Download as -> HTML (.html)**."
   ]
  },
  {
   "cell_type": "markdown",
   "metadata": {},
   "source": [
    "### Generate the html\n",
    "\n",
    "**Save your notebook before running the next cell to generate the HTML output.** Then submit your project."
   ]
  },
  {
   "cell_type": "code",
   "execution_count": 2,
   "metadata": {},
   "outputs": [
    {
     "data": {
      "text/plain": [
       "['[NbConvertApp] Converting notebook machine_translation.ipynb to html',\n",
       " '[NbConvertApp] Writing 305996 bytes to machine_translation.html']"
      ]
     },
     "execution_count": 2,
     "metadata": {},
     "output_type": "execute_result"
    }
   ],
   "source": [
    "# Save before you run this cell!\n",
    "!!jupyter nbconvert *.ipynb"
   ]
  },
  {
   "cell_type": "markdown",
   "metadata": {},
   "source": [
    "## Optional Enhancements\n",
    "\n",
    "This project focuses on learning various network architectures for machine translation, but we don't evaluate the models according to best practices by splitting the data into separate test & training sets -- so the model accuracy is overstated. Use the [`sklearn.model_selection.train_test_split()`](http://scikit-learn.org/stable/modules/generated/sklearn.model_selection.train_test_split.html) function to create separate training & test datasets, then retrain each of the models using only the training set and evaluate the prediction accuracy using the hold out test set. Does the \"best\" model change?"
   ]
  }
 ],
 "metadata": {
  "kernelspec": {
   "display_name": "Python 3",
   "language": "python",
   "name": "python3"
  },
  "language_info": {
   "codemirror_mode": {
    "name": "ipython",
    "version": 3
   },
   "file_extension": ".py",
   "mimetype": "text/x-python",
   "name": "python",
   "nbconvert_exporter": "python",
   "pygments_lexer": "ipython3",
   "version": "3.8.10"
  }
 },
 "nbformat": 4,
 "nbformat_minor": 1
}
